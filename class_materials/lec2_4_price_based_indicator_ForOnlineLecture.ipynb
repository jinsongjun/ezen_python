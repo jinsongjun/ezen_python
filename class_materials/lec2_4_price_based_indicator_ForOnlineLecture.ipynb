{
 "cells": [
  {
   "cell_type": "markdown",
   "metadata": {},
   "source": [
    "**수업을 수강하시기 전, lec2_1.ipynb의 \"수강 전 필독\"을 반드시 확인해주세요**"
   ]
  },
  {
   "cell_type": "markdown",
   "metadata": {},
   "source": [
    "# 이동평균(SMA, Simple Moving Average)"
   ]
  },
  {
   "cell_type": "markdown",
   "metadata": {},
   "source": [
    "- $d_{k} = {1 \\over k} (p_1 + p_2 + ... + p_k) $\n",
    "\n",
    "- $d_{k+1} = {1 \\over k} (p_2 + p_3 + ... + p_{k+1}) $\n",
    "- 주의할점: cheating"
   ]
  },
  {
   "cell_type": "code",
   "execution_count": null,
   "metadata": {},
   "outputs": [],
   "source": [
    "import FinanceDataReader as fdr\n",
    "\n",
    "df = fdr.DataReader(\"005930\", '2014-01-02', '2020-10-30')\n",
    "df = df[['Close']]\n",
    "df.columns = [\"삼성전자\"]\n",
    "df.head(10)"
   ]
  },
  {
   "cell_type": "markdown",
   "metadata": {},
   "source": [
    "## `rolling()`"
   ]
  },
  {
   "cell_type": "code",
   "execution_count": null,
   "metadata": {},
   "outputs": [],
   "source": [
    "df.rolling(window=5)"
   ]
  },
  {
   "cell_type": "code",
   "execution_count": null,
   "metadata": {},
   "outputs": [],
   "source": [
    "df.rolling(window=5).mean().head(10)"
   ]
  },
  {
   "cell_type": "code",
   "execution_count": null,
   "metadata": {},
   "outputs": [],
   "source": [
    "df.loc[:, \"삼성전자_20_SMA\"] = df['삼성전자'].rolling(window=5).mean()"
   ]
  },
  {
   "cell_type": "code",
   "execution_count": null,
   "metadata": {},
   "outputs": [],
   "source": [
    "df.head(10)"
   ]
  },
  {
   "cell_type": "markdown",
   "metadata": {},
   "source": [
    " "
   ]
  },
  {
   "cell_type": "markdown",
   "metadata": {},
   "source": [
    "### `min_period` argument"
   ]
  },
  {
   "cell_type": "code",
   "execution_count": null,
   "metadata": {},
   "outputs": [],
   "source": [
    "# window = 20이면 맨처음 20개 데이터가 nan이 되는데, min_period를 사용함으로써\n",
    "# 최소 min_period 갯수 이상이면 window 보다 크기가 작아도 그놈들로 operation 진행\n",
    "df['삼성전자'].rolling(window=20, min_periods=2).mean().head()"
   ]
  },
  {
   "cell_type": "markdown",
   "metadata": {},
   "source": [
    " "
   ]
  },
  {
   "cell_type": "markdown",
   "metadata": {},
   "source": [
    " "
   ]
  },
  {
   "cell_type": "markdown",
   "metadata": {},
   "source": [
    " "
   ]
  },
  {
   "cell_type": "markdown",
   "metadata": {},
   "source": [
    "## `expanding()`"
   ]
  },
  {
   "cell_type": "markdown",
   "metadata": {},
   "source": [
    "- window를 1부터 시작해서 +1씩 점점 늘려가면서 roling"
   ]
  },
  {
   "cell_type": "code",
   "execution_count": null,
   "metadata": {},
   "outputs": [],
   "source": [
    "df['삼성전자'].expanding(min_periods=1).mean().head()"
   ]
  },
  {
   "cell_type": "code",
   "execution_count": null,
   "metadata": {},
   "outputs": [],
   "source": [
    "df['삼성전자'].expanding(min_periods=2).mean().head()"
   ]
  },
  {
   "cell_type": "code",
   "execution_count": null,
   "metadata": {},
   "outputs": [],
   "source": [
    "df.loc[:, \"삼성전자_60_SMA_min_period\"] = df['삼성전자'].rolling(window=60, min_periods=1).mean()\n",
    "df.loc[:, \"삼성전자_expanding\"] = df['삼성전자'].expanding(min_periods=1).mean()"
   ]
  },
  {
   "cell_type": "code",
   "execution_count": null,
   "metadata": {},
   "outputs": [],
   "source": [
    "df.head()"
   ]
  },
  {
   "cell_type": "code",
   "execution_count": null,
   "metadata": {},
   "outputs": [],
   "source": [
    "import matplotlib\n",
    "import matplotlib.font_manager as fm\n",
    "\n",
    "matplotlib.rcParams['axes.unicode_minus'] = False\n",
    "\n",
    "font_location = \"/Library/Fonts/NanumBarunGothic.ttf\" \n",
    "font_name = fm.FontProperties(fname=font_location).get_name()\n",
    "matplotlib.rc('font', family=font_name, size=15)"
   ]
  },
  {
   "cell_type": "code",
   "execution_count": null,
   "metadata": {},
   "outputs": [],
   "source": [
    "df.iloc[-100:].plot(figsize=(15, 7))"
   ]
  },
  {
   "cell_type": "markdown",
   "metadata": {},
   "source": [
    " "
   ]
  },
  {
   "cell_type": "markdown",
   "metadata": {},
   "source": [
    " "
   ]
  },
  {
   "cell_type": "markdown",
   "metadata": {},
   "source": [
    "## 볼린져밴드(Bollinger band)"
   ]
  },
  {
   "cell_type": "code",
   "execution_count": null,
   "metadata": {
    "tags": []
   },
   "outputs": [],
   "source": [
    "import FinanceDataReader as fdr\n",
    "\n",
    "df = fdr.DataReader(\"005930\", '2014-01-02', '2020-10-30')\n",
    "df = df[['Close']]\n",
    "df.columns = [\"삼성전자\"]\n",
    "df.head(10) "
   ]
  },
  {
   "cell_type": "code",
   "execution_count": null,
   "metadata": {},
   "outputs": [],
   "source": [
    "df.loc[:, \"삼성전자_60_SMA_min_period\"] = df['삼성전자'].rolling(window=60, min_periods=1).mean()"
   ]
  },
  {
   "cell_type": "code",
   "execution_count": null,
   "metadata": {
    "tags": []
   },
   "outputs": [],
   "source": [
    "df['삼성전자_60_SMA_min_period'].plot(figsize=(15, 10))"
   ]
  },
  {
   "cell_type": "code",
   "execution_count": null,
   "metadata": {},
   "outputs": [],
   "source": [
    "df['Upper'] = df['삼성전자_60_SMA_min_period'] + 2*df['삼성전자'].rolling(window=60).std()\n",
    "df['Lower'] = df['삼성전자_60_SMA_min_period'] - 2*df['삼성전자'].rolling(window=60).std()"
   ]
  },
  {
   "cell_type": "code",
   "execution_count": null,
   "metadata": {
    "tags": []
   },
   "outputs": [],
   "source": [
    "import platform\n",
    "import matplotlib.font_manager as fm\n",
    "import matplotlib as mpl\n",
    "mpl.rcParams['axes.unicode_minus'] = False\n",
    "\n",
    "from pathlib import Path\n",
    "home = str(Path.home())\n",
    "font_location = home + \"/Library/Fonts/NanumBarunGothic.ttf\" \n",
    "font_name = fm.FontProperties(fname=font_location).get_name()\n",
    "mpl.rc('font', family=font_name)"
   ]
  },
  {
   "cell_type": "code",
   "execution_count": null,
   "metadata": {},
   "outputs": [],
   "source": [
    "df[['삼성전자', '삼성전자_60_SMA_min_period', 'Upper', 'Lower']].iloc[-400:].plot(figsize=(15, 7))"
   ]
  },
  {
   "cell_type": "markdown",
   "metadata": {},
   "source": [
    " "
   ]
  },
  {
   "cell_type": "markdown",
   "metadata": {},
   "source": [
    " "
   ]
  },
  {
   "cell_type": "markdown",
   "metadata": {},
   "source": [
    "## rolling function 커스터마이징"
   ]
  },
  {
   "cell_type": "markdown",
   "metadata": {},
   "source": [
    " - Mean absolute deviation\n",
    " "
   ]
  },
  {
   "cell_type": "code",
   "execution_count": null,
   "metadata": {},
   "outputs": [],
   "source": [
    "def mean_abs_dev(x):\n",
    "    return np.abs(x - x.mean()).mean()"
   ]
  },
  {
   "cell_type": "code",
   "execution_count": null,
   "metadata": {},
   "outputs": [],
   "source": [
    "mean_abs_dev(df['삼성전자'].iloc[:5])"
   ]
  },
  {
   "cell_type": "code",
   "execution_count": null,
   "metadata": {},
   "outputs": [],
   "source": [
    "simple_rtn_df = df['삼성전자'].pct_change().fillna(0)\n",
    "simple_rtn_df.head()"
   ]
  },
  {
   "cell_type": "code",
   "execution_count": null,
   "metadata": {},
   "outputs": [],
   "source": [
    "simple_rtn_df.rolling(10).apply(mean_abs_dev)"
   ]
  },
  {
   "cell_type": "markdown",
   "metadata": {},
   "source": [
    "   "
   ]
  },
  {
   "cell_type": "markdown",
   "metadata": {},
   "source": [
    "   "
   ]
  },
  {
   "cell_type": "markdown",
   "metadata": {},
   "source": [
    "   "
   ]
  },
  {
   "cell_type": "markdown",
   "metadata": {},
   "source": [
    "## Rolling correlation of returns"
   ]
  },
  {
   "cell_type": "markdown",
   "metadata": {},
   "source": [
    "### 다수 종목(3종목 이상)"
   ]
  },
  {
   "cell_type": "code",
   "execution_count": null,
   "metadata": {},
   "outputs": [],
   "source": [
    "df1 = fdr.DataReader(\"005930\", '2018-01-02', '2020-10-30')\n",
    "df2 = fdr.DataReader(\"148070\", '2018-01-02', '2020-10-30')\n",
    "df3 = fdr.DataReader(\"035420\", '2018-01-02', '2020-10-30')\n",
    "df = pd.concat([df1[['Close']], df2[['Close']], df3[['Close']]], axis=1)\n",
    "df.columns = [\"삼성전자\", \"KOSEF 국고채10년\", \"네이버\"]\n",
    "\n",
    "daily_rtn_df = np.log(df.pct_change() + 1).fillna(0)\n",
    "daily_rtn_df.head()"
   ]
  },
  {
   "cell_type": "code",
   "execution_count": null,
   "metadata": {},
   "outputs": [],
   "source": [
    "daily_rtn_df.corr()"
   ]
  },
  {
   "cell_type": "code",
   "execution_count": null,
   "metadata": {},
   "outputs": [],
   "source": [
    "total_corr_df = daily_rtn_df.rolling(window=250).corr().dropna()\n",
    "total_corr_df"
   ]
  },
  {
   "cell_type": "code",
   "execution_count": null,
   "metadata": {},
   "outputs": [],
   "source": [
    "total_corr_df.index.get_level_values(0)\n",
    "total_corr_df.index.get_level_values(1)"
   ]
  },
  {
   "cell_type": "code",
   "execution_count": null,
   "metadata": {},
   "outputs": [],
   "source": [
    "# unstack(level=1): index level=1을 columns로 옮긴다 \n",
    "unstacked_total_corr_df = total_corr_df.unstack(level=1)\n",
    "unstacked_total_corr_df.head()"
   ]
  },
  {
   "cell_type": "code",
   "execution_count": null,
   "metadata": {},
   "outputs": [],
   "source": [
    "unstacked_total_corr_df['삼성전자'].drop(\"삼성전자\", axis=1).plot(figsize=(15, 8))"
   ]
  },
  {
   "cell_type": "markdown",
   "metadata": {},
   "source": [
    "### Just 두 종목"
   ]
  },
  {
   "cell_type": "code",
   "execution_count": null,
   "metadata": {},
   "outputs": [],
   "source": [
    "import FinanceDataReader as fdr\n",
    "\n",
    "df1 = fdr.DataReader(\"005930\", '2018-01-02', '2020-10-30')\n",
    "df2 = fdr.DataReader(\"148070\", '2018-01-02', '2020-10-30')\n",
    "df = pd.concat([df1[['Close']], df2[['Close']]], axis=1)\n",
    "df.columns = [\"삼성전자\", \"KOSEF 국고채10년\"]"
   ]
  },
  {
   "cell_type": "code",
   "execution_count": null,
   "metadata": {},
   "outputs": [],
   "source": [
    "daily_rtn_df = np.log(df.pct_change() + 1).fillna(0)\n",
    "daily_rtn_df.head()"
   ]
  },
  {
   "cell_type": "code",
   "execution_count": null,
   "metadata": {},
   "outputs": [],
   "source": [
    "corr_pair_df = daily_rtn_df['삼성전자'].rolling(window=60).corr(\n",
    "    daily_rtn_df['KOSEF 국고채10년']\n",
    ")\n",
    "corr_pair_df.head()\n",
    "corr_pair_df.tail()"
   ]
  },
  {
   "cell_type": "code",
   "execution_count": null,
   "metadata": {},
   "outputs": [],
   "source": [
    "ax = df.iloc[60:].plot(figsize=(15, 5));\n",
    "corr_pair_df.iloc[60:].plot(ax=ax, secondary_y=True)"
   ]
  },
  {
   "cell_type": "markdown",
   "metadata": {},
   "source": [
    "   "
   ]
  },
  {
   "cell_type": "markdown",
   "metadata": {},
   "source": [
    "   "
   ]
  },
  {
   "cell_type": "markdown",
   "metadata": {},
   "source": [
    " "
   ]
  },
  {
   "cell_type": "markdown",
   "metadata": {},
   "source": [
    " "
   ]
  },
  {
   "cell_type": "markdown",
   "metadata": {},
   "source": [
    " "
   ]
  },
  {
   "cell_type": "markdown",
   "metadata": {},
   "source": [
    " "
   ]
  },
  {
   "cell_type": "markdown",
   "metadata": {},
   "source": [
    " "
   ]
  },
  {
   "cell_type": "markdown",
   "metadata": {},
   "source": [
    " "
   ]
  },
  {
   "cell_type": "markdown",
   "metadata": {},
   "source": [
    "# Exponentially-weighted moving average  "
   ]
  },
  {
   "cell_type": "markdown",
   "metadata": {},
   "source": [
    "- SMA의 단점\n",
    "    - Smaller window size --> signal보단 여전히 noise 일 수 있음\n",
    "    - lagging (`min_periods`로 어느정도 커버가능)\n",
    "    - window내 가장 최근 데이터나 가장 과거데이터나 가중치가 같게 평가됨\n",
    "    - 극단적인 값(outlier)의 출현은 SMA를 왜곡시킬 수 있음\n",
    "    - trend 정도만 보여줌 \n",
    "    "
   ]
  },
  {
   "cell_type": "markdown",
   "metadata": {},
   "source": [
    "- EWMA (Exponentially-weighted moving average)\n",
    "    - 최근 발생한 값들에 대해 더 가중치를 줌으로써 time에 대한 정보가 값에 반영이 됨"
   ]
  },
  {
   "cell_type": "markdown",
   "metadata": {},
   "source": [
    "$ (0 \\lt \\alpha \\le 1) $"
   ]
  },
  {
   "cell_type": "markdown",
   "metadata": {},
   "source": [
    "$ EMA_{t} = 1p_t + (1-\\alpha)p_{t-1} + (1-\\alpha)^2p_{t-2} + ... + (1-\\alpha)^tp_0$"
   ]
  },
  {
   "cell_type": "markdown",
   "metadata": {},
   "source": [
    "$EMA_{t} = \\frac{ 1p_t + (1-\\alpha)p_{t-1} + (1-\\alpha)^2p_{t-2} + ... + (1-\\alpha)^tp_0 }{1 + (1 - \\alpha) + (1 - \\alpha)^2 + ... + (1 - \\alpha)^t}$"
   ]
  },
  {
   "cell_type": "markdown",
   "metadata": {},
   "source": [
    "## if $ t \\rightarrow \\infty  $"
   ]
  },
  {
   "cell_type": "markdown",
   "metadata": {},
   "source": [
    "$EMA_{t} = \\frac{ 1p_t + (1-\\alpha)p_{t-1} + (1-\\alpha)^2p_{t-2} + ... }{1 + (1 - \\alpha) + (1 - \\alpha)^2 + ... }$"
   ]
  },
  {
   "cell_type": "markdown",
   "metadata": {},
   "source": [
    "Since, $ {{1 + (1 - \\alpha) + (1 - \\alpha)^2 + ... }} = {1 \\over { 1 - (1 - \\alpha)}} = {1 \\over {\\alpha}} $"
   ]
  },
  {
   "cell_type": "markdown",
   "metadata": {},
   "source": [
    "$EMA_{t} = \\alpha[{ p_t + (1-\\alpha)p_{t-1} + (1-\\alpha)^2p_{t-2} + (1-\\alpha)^3p_{t-3} ... }] $"
   ]
  },
  {
   "cell_type": "markdown",
   "metadata": {},
   "source": [
    "$EMA_{t} = \\alpha{p_t} + {\\alpha} [{   (1-\\alpha)p_{t-1} + (1-\\alpha)^2p_{t-2} + (1-\\alpha)^3p_{t-3} ... ]} $"
   ]
  },
  {
   "cell_type": "markdown",
   "metadata": {},
   "source": [
    "$EMA_{t} = \\alpha{p_t} + {(1-\\alpha)} [{ {\\alpha}p_{t-1} + {\\alpha}(1-\\alpha)p_{t-2}  + {\\alpha}(1-\\alpha)^2p_{t-3} ... ]    } $"
   ]
  },
  {
   "cell_type": "markdown",
   "metadata": {},
   "source": [
    "$EMA_{t} = \\alpha{p_t} + {(1-\\alpha)} [{ {\\alpha}[p_{t-1} + (1-\\alpha)p_{t-2}  + (1-\\alpha)^2p_{t-3} ... ]    }] $"
   ]
  },
  {
   "cell_type": "markdown",
   "metadata": {},
   "source": [
    "$EMA_{t} = \\alpha{p_t} + {(1-\\alpha)} EMA_{t-1} $"
   ]
  },
  {
   "cell_type": "markdown",
   "metadata": {},
   "source": [
    "$ \\begin{split}\n",
    "    y_0 &= x_0\\\\\n",
    "    y_t &= (1 - \\alpha) y_{t-1} + \\alpha x_t,\n",
    "\\end{split} $"
   ]
  },
  {
   "cell_type": "code",
   "execution_count": null,
   "metadata": {},
   "outputs": [],
   "source": [
    "df = df[['삼성전자']]"
   ]
  },
  {
   "cell_type": "code",
   "execution_count": null,
   "metadata": {},
   "outputs": [],
   "source": [
    "df.head(3)"
   ]
  },
  {
   "cell_type": "code",
   "execution_count": null,
   "metadata": {},
   "outputs": [],
   "source": [
    "# 51500 = 0.8 * 51620 + (1 - 0.8) * 51020\n",
    "# 51164 = 0.8 * 51080 + (1 - 0.8) * 51500\n",
    "df.ewm(alpha=0.8, adjust=False).mean().head(3)"
   ]
  },
  {
   "cell_type": "markdown",
   "metadata": {},
   "source": [
    "## if $ t \\ne \\infty  $"
   ]
  },
  {
   "cell_type": "markdown",
   "metadata": {},
   "source": [
    "$        y_t = \\frac{x_t + (1 - \\alpha)x_{t-1} + (1 - \\alpha)^2 x_{t-2} + ... + (1 -\n",
    "        \\alpha)^t x_0}{1 + (1 - \\alpha) + (1 - \\alpha)^2 + ... + (1 - \\alpha)^t}$"
   ]
  },
  {
   "cell_type": "code",
   "execution_count": null,
   "metadata": {},
   "outputs": [],
   "source": [
    "df.head(3)"
   ]
  },
  {
   "cell_type": "code",
   "execution_count": null,
   "metadata": {},
   "outputs": [],
   "source": [
    "# 51520 = (51620 + (1 - 0.8) * 51020) / (1 + (1 - 0.8))\n",
    "# 51165.161 = (51080 + (1 - 0.8) * 51620 + ((1 - 0.8)**2) * 51020 ) / (1 + (1 - 0.8) + (1 - 0.8)**2)\n",
    "df.ewm(alpha=0.8, adjust=True).mean().head(3)"
   ]
  },
  {
   "cell_type": "markdown",
   "metadata": {},
   "source": [
    " "
   ]
  },
  {
   "cell_type": "markdown",
   "metadata": {},
   "source": [
    " "
   ]
  },
  {
   "cell_type": "markdown",
   "metadata": {},
   "source": [
    " "
   ]
  },
  {
   "cell_type": "code",
   "execution_count": null,
   "metadata": {},
   "outputs": [],
   "source": [
    "tmp_df = df[['삼성전자']].copy() \n",
    "tmp_df['20SMA'] = tmp_df[\"삼성전자\"].rolling(20).mean()\n",
    "tmp_df['EWMA_02'] = tmp_df['삼성전자'].ewm(alpha=0.2).mean()"
   ]
  },
  {
   "cell_type": "code",
   "execution_count": null,
   "metadata": {},
   "outputs": [],
   "source": [
    "tmp_df.iloc[-100:].plot(figsize=(15, 8))"
   ]
  },
  {
   "cell_type": "markdown",
   "metadata": {},
   "source": [
    " "
   ]
  },
  {
   "cell_type": "markdown",
   "metadata": {},
   "source": [
    " "
   ]
  }
 ],
 "metadata": {
  "kernelspec": {
   "display_name": "Python 3 (ipykernel)",
   "language": "python",
   "name": "python3"
  },
  "language_info": {
   "codemirror_mode": {
    "name": "ipython",
    "version": 3
   },
   "file_extension": ".py",
   "mimetype": "text/x-python",
   "name": "python",
   "nbconvert_exporter": "python",
   "pygments_lexer": "ipython3",
   "version": "3.9.5"
  },
  "toc": {
   "base_numbering": 1,
   "nav_menu": {},
   "number_sections": true,
   "sideBar": true,
   "skip_h1_title": false,
   "title_cell": "Table of Contents",
   "title_sidebar": "Contents",
   "toc_cell": false,
   "toc_position": {
    "height": "calc(100% - 180px)",
    "left": "10px",
    "top": "150px",
    "width": "232.727px"
   },
   "toc_section_display": true,
   "toc_window_display": true
  },
  "toc-autonumbering": true
 },
 "nbformat": 4,
 "nbformat_minor": 4
}
