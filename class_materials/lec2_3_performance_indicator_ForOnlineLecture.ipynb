{
 "cells": [
  {
   "cell_type": "markdown",
   "metadata": {},
   "source": [
    " "
   ]
  },
  {
   "cell_type": "markdown",
   "metadata": {},
   "source": [
    "**수업을 수강하시기 전, lec2_1.ipynb의 \"수강 전 필독\"을 반드시 확인해주세요**"
   ]
  },
  {
   "cell_type": "markdown",
   "metadata": {},
   "source": [
    " "
   ]
  },
  {
   "cell_type": "markdown",
   "metadata": {},
   "source": [
    " "
   ]
  },
  {
   "cell_type": "markdown",
   "metadata": {},
   "source": [
    "# Annualized(년 단위) returns & std"
   ]
  },
  {
   "cell_type": "markdown",
   "metadata": {},
   "source": [
    "- Annualize를 하는 이유? \n",
    "- **N day total return이 주어지거나 average daily return이 주어진 경우, K day expected return 구하기**"
   ]
  },
  {
   "cell_type": "markdown",
   "metadata": {},
   "source": [
    "## Using Simple return"
   ]
  },
  {
   "cell_type": "markdown",
   "metadata": {},
   "source": [
    "- 참고: https://financetrain.com/how-to-calculate-annualized-returns/"
   ]
  },
  {
   "cell_type": "markdown",
   "metadata": {},
   "source": [
    "- Reminder\n",
    "    - $ p_1 (1 + x)^n = p_{n+1} $\n",
    "    - $ (1 + x)^n = {p_{n+1} \\over p_1}$\n",
    "    - $ 1 + x = {p_{n+1} \\over p_1}^{({1 \\over n})}$\n",
    "    - $ x = {p_{n+1} \\over p_1}^{({1 \\over n})} - 1$"
   ]
  },
  {
   "cell_type": "markdown",
   "metadata": {},
   "source": [
    "- Example 4: Daily Returns(n-day **total**  return 구하기)\n",
    "\n",
    "    Let’s say we have 0.1% daily returns. Since there are 365 days in a year, the annual returns will be:\n",
    "    \n",
    "    ```\n",
    "    Annual returns = (1+0.001)^365 – 1 = 44.02%\n",
    "    ```"
   ]
  },
  {
   "cell_type": "markdown",
   "metadata": {},
   "source": [
    "- Example 5: 100 Days Returns (n-day **average** return 구하기 & **total** return 구하기)\n",
    "\n",
    "    Let’s say we have 6% returns over 100 days. The annual returns will be:\n",
    "\n",
    "    ```\n",
    "    Annual returns = (1+0.06)^(365/100) – 1 = 23.69%\n",
    "    ```"
   ]
  },
  {
   "cell_type": "markdown",
   "metadata": {},
   "source": [
    "- 결국, 위에서 구한 $x(={p_{n+1} \\over p_1}^{({1 \\over n})} - 1)$ 에 +1 해주고 K days 만큼 제곱한 후 다시 -1을 해서 K days expected return을 구함\n",
    "    - 0.001 * 365(or 252)과 같은 **산술연산**으로는 올바른 결과 도출 불가능"
   ]
  },
  {
   "cell_type": "markdown",
   "metadata": {},
   "source": [
    "  "
   ]
  },
  {
   "cell_type": "markdown",
   "metadata": {},
   "source": [
    "  "
   ]
  },
  {
   "cell_type": "markdown",
   "metadata": {},
   "source": [
    "## Using Log return"
   ]
  },
  {
   "cell_type": "markdown",
   "metadata": {},
   "source": [
    "- Reminder\n",
    "    - \"Log return을 사용하면, '산술평균'으로 n day 수익(or 평균수익)을 계산할 수 있다보니, 통계적 특징들을 잘 이용할 수 있음\"\n",
    "    - n-day average log return\n",
    "        1. n-day **total** log return 구하기\n",
    "            - $ log({p_2 \\over p_1}) + log({p_3 \\over p_2}) + ... + log({p_{n+1} \\over p_{n}})  = log({p_{n + 1} \\over p_{1}})$\n",
    "        2. n-day **average** log return 구하기(On average (= $E(X)$))\n",
    "            - $ {1 \\over n}[log({p_2 \\over p_1}) + log({p_3 \\over p_2}) + ... + log({p_{n+1} \\over p_{n}})] = {1 \\over n}log({p_{n + 1} \\over p_{1}})$  (log return 자체를 또 다른 하나의 개념으로 받아들이기)\n",
    "            - 참고: 이를 이용해서 실제 real return을 구하고 싶다면\n",
    "                - (exponential) $e^{{1 \\over n}log({p_{n + 1} \\over p_{1}})} = ({p_{n + 1} \\over p_{1}})^{1 \\over n}$\n",
    "                - (take -1) $({p_{n + 1} \\over p_{1}})^{1 \\over n} - 1$"
   ]
  },
  {
   "cell_type": "markdown",
   "metadata": {},
   "source": [
    "### 확률/통계적 접근"
   ]
  },
  {
   "cell_type": "markdown",
   "metadata": {},
   "source": [
    "- 선형변환 vs 독립시행\n",
    "    - $ X_n$ ~ $log({{p_n} \\over {p_{n-1}}})$\n",
    "        - $ X_1 = log({p_1 \\over p_0}) $\n",
    "        - $ X_2 = log({p_2 \\over p_1}) $\n",
    "        - ...\n",
    "        - Independent Assumption\n",
    "    - \"$ Y=250X $\" vs \"$ Y=X_1 + X_2 + ... + X_{250}$\"\n",
    "        - $E(250X)$ vs $E(X_1 + X_2 + ... + X_{250})$"
   ]
  },
  {
   "cell_type": "markdown",
   "metadata": {},
   "source": [
    "\n",
    "- $ E(X+Y) = E(X) + E(Y) $\n",
    "    - (랜덤)변수들간의 독립성 과는 상관없이 무조건 성립\n",
    "    - $E(X_1 + X_2 + .. + X_n) = E(X_1) + E(X_2) +  ... + E(X_n) = nE(X)$\n",
    "\n",
    "\n",
    "- $ Var(X+Y) = ? $\n",
    "    - $Var(X)$\n",
    "        - $ E[(X - \\mu_x)^2] = E[(X - \\mu_x)(X - \\mu_x)]$\n",
    "            - $= E[X^2 + -2X{\\mu}_x + {{\\mu}_x}^2]$\n",
    "            - $= E[X^2] - 2{\\mu}_xE[X] + {{\\mu}_x}^2$ \n",
    "            - $= E[X^2] - 2{{\\mu}_x}^2 + {{\\mu}_x}^2$\n",
    "            - $= E[X^2] - {{\\mu}_x}^2$\n",
    "    - $Var(X+Y)$\n",
    "        - if X, Y are not indenpendent\n",
    "            - $ E[[(X + Y) - (\\mu_x + \\mu_y)]^2] $\n",
    "                - $ = E[[(X - \\mu_x) + (Y - \\mu_y)]^2]$\n",
    "                - $ = E[(X - \\mu_x)^2 + (Y - \\mu_y)^2 + 2(X - \\mu_x)(Y - \\mu_y)]$\n",
    "                - $ = E[(X - \\mu_x)^2] + E[(Y - \\mu_y)^2] + 2E[(X - \\mu_x)(Y - \\mu_y)]$\n",
    "                - $ = Var(X) + Var(Y) + 2Cov(X, Y)$\n",
    "                    - https://ko.wikipedia.org/wiki/공분산\n",
    "        - if X, Y are indenpendent\n",
    "            - $ = Var(X) + Var(Y) $\n",
    "            - $Var(X_1 + X_2 + .. + X_n) = Var(X_1) + Var(X_2) +  ... + Var(X_n)$"
   ]
  },
  {
   "cell_type": "markdown",
   "metadata": {},
   "source": [
    "- 따라서,\n",
    "    - $ E(X_1 + X_2 + .. + X_{252}) = E(X_1) + E(X_2) + .. + E(X_{252}) = 252 * E(X)$\n",
    "        - 결국 annulaized expected return = 250*(일평균 log수익률) = 250\\*E(X)\n",
    "    - $ Var(X_1 + X_2 + .. + X_{252}) = Var(X_1) + Var(X_2) + .. + Var(X_{252}) = 252 * Var(X)$\n",
    "        - 결국 annulaized variance of return = 250*(일단위 log수익률 variance) = $250*Var(X)$\n",
    "        - $ Std(X_1 + X_2 + .. + X_{252}) = \\sqrt{Var(X_1 + X_2 + .. + X_{252})} = \\sqrt{252 * Var(X)} = \\sqrt{252} * Std(X)$\n",
    "            - 참고: Annualized Std 자체를 지표로 많이 보기도 함\n",
    "    - 결국, log return의 특징으로 인해, sharpe ratio에 쓰기 부합\n",
    "        - 왜냐하면 Sharpe Ratio = annualized E(X) / annualized std(X) = $\\sqrt250 \\times {E(X) \\over std(X)}$"
   ]
  },
  {
   "cell_type": "markdown",
   "metadata": {},
   "source": [
    "- 참고: 나중엔 이런 것도 배움\n",
    "    - A, B, C 자산이 있을 때, B와 C가 same variance of return을 가지고 있더라도,  (A, B)로 구성된 포트폴리오와 (A,C)로 구성된 포트폴리오의 risk는 서로 다름! (due to the correlation effect)\n",
    " \n",
    "    - $Var(w_aA + w_bB + w_cC + ...)$\n",
    "    - Risk of portfolio (Covariance Matrix)"
   ]
  },
  {
   "cell_type": "markdown",
   "metadata": {},
   "source": [
    " "
   ]
  },
  {
   "cell_type": "markdown",
   "metadata": {},
   "source": [
    " "
   ]
  },
  {
   "cell_type": "markdown",
   "metadata": {},
   "source": [
    " "
   ]
  },
  {
   "cell_type": "code",
   "execution_count": null,
   "metadata": {},
   "outputs": [],
   "source": [
    "import FinanceDataReader as fdr\n",
    "\n",
    "df = fdr.DataReader(\"069500\", '2019-01-02', '2020-10-30')"
   ]
  },
  {
   "cell_type": "code",
   "execution_count": null,
   "metadata": {},
   "outputs": [],
   "source": [
    "log_rtn_df = np.log(df.pct_change() + 1).fillna(0)\n",
    "log_rtn_df = log_rtn_df[['Close']]\n",
    "log_rtn_df.columns = [\"KODEX200\"]\n",
    "log_rtn_df.head()"
   ]
  },
  {
   "cell_type": "code",
   "execution_count": null,
   "metadata": {},
   "outputs": [],
   "source": [
    "log_rtn_df.mean() * 252"
   ]
  },
  {
   "cell_type": "markdown",
   "metadata": {},
   "source": [
    "- 참고\n",
    "\n",
    "    - `mean(log_rtn)` $ \\Rightarrow {1 \\over n} ({log{p_2 \\over p_1} + log{p_3 \\over p_2} +  ... + log{p_{n+1} \\over p_{n}}} ) = {1 \\over n} ({log{p_{n+1} \\over p_1}})$\n",
    "\n",
    "    - $ exp() \\Rightarrow ({p_{n+1} \\over p_1})^{1 \\over n}$\n",
    "\n",
    "    - ${({p_{n+1} \\over p_1})^{{1 \\over n} \\times {K \\text{ days}}}}$\n",
    "    - 이 방법은 밑에서 배울 CAGR을 mean log return으로부터 구하는 방법이기도 합니다 :)"
   ]
  },
  {
   "cell_type": "code",
   "execution_count": null,
   "metadata": {},
   "outputs": [],
   "source": [
    "log_rtn_df.std() * np.sqrt(252)"
   ]
  },
  {
   "cell_type": "code",
   "execution_count": null,
   "metadata": {},
   "outputs": [],
   "source": [
    "def get_annualized_returns_series(log_returns_df, num_day_in_year=250):\n",
    "    return (log_returns_df.mean() * num_day_in_year).round(2)\n",
    "\n",
    "def get_annualized_std_series(log_returns_df, num_day_in_year=250): \n",
    "    return (log_returns_df.std() * (num_day_in_year ** 0.5)).round(2)"
   ]
  },
  {
   "cell_type": "markdown",
   "metadata": {},
   "source": [
    " "
   ]
  },
  {
   "cell_type": "markdown",
   "metadata": {},
   "source": [
    " "
   ]
  },
  {
   "cell_type": "markdown",
   "metadata": {},
   "source": [
    " "
   ]
  },
  {
   "cell_type": "markdown",
   "metadata": {},
   "source": [
    " "
   ]
  },
  {
   "cell_type": "markdown",
   "metadata": {},
   "source": [
    " "
   ]
  },
  {
   "cell_type": "markdown",
   "metadata": {},
   "source": [
    "# CAGR (compound annual growth rate)"
   ]
  },
  {
   "cell_type": "code",
   "execution_count": null,
   "metadata": {},
   "outputs": [],
   "source": [
    "cum_rtn_df = np.exp(log_rtn_df.cumsum())\n",
    "cum_rtn_df.head()"
   ]
  },
  {
   "cell_type": "code",
   "execution_count": null,
   "metadata": {},
   "outputs": [],
   "source": [
    "cum_rtn_df.iloc[0]\n",
    "cum_rtn_df.iloc[-1]"
   ]
  },
  {
   "cell_type": "code",
   "execution_count": null,
   "metadata": {},
   "outputs": [],
   "source": [
    "num_day_in_year = 252\n",
    " \n",
    "# 1*(1 + x)^n = cum_rtn_df.iloc[-1]\n",
    "# (1 + x)     = (cum_rtn_df.iloc[-1])**(1/n)\n",
    "# --> (cum_rtn_df.iloc[-1])**(252/n) - 1\n",
    "cagr = cum_rtn_df.iloc[-1]**(num_day_in_year/(len(cum_rtn_df))) - 1"
   ]
  },
  {
   "cell_type": "code",
   "execution_count": null,
   "metadata": {},
   "outputs": [],
   "source": [
    "def get_CAGR_series(cum_rtn_df, num_day_in_year=250):\n",
    "    cagr_series = cum_rtn_df.iloc[-1]**(num_day_in_year/(len(cum_rtn_df))) - 1\n",
    "    return cagr_series"
   ]
  },
  {
   "cell_type": "code",
   "execution_count": null,
   "metadata": {},
   "outputs": [],
   "source": [
    "get_CAGR_series(cum_rtn_df)"
   ]
  },
  {
   "cell_type": "markdown",
   "metadata": {},
   "source": [
    " "
   ]
  },
  {
   "cell_type": "markdown",
   "metadata": {},
   "source": [
    " "
   ]
  },
  {
   "cell_type": "markdown",
   "metadata": {},
   "source": [
    " "
   ]
  },
  {
   "cell_type": "markdown",
   "metadata": {},
   "source": [
    " "
   ]
  },
  {
   "cell_type": "markdown",
   "metadata": {},
   "source": [
    " "
   ]
  },
  {
   "cell_type": "markdown",
   "metadata": {},
   "source": [
    " "
   ]
  },
  {
   "cell_type": "markdown",
   "metadata": {},
   "source": [
    " "
   ]
  },
  {
   "cell_type": "markdown",
   "metadata": {},
   "source": [
    " "
   ]
  },
  {
   "cell_type": "markdown",
   "metadata": {},
   "source": [
    " "
   ]
  },
  {
   "cell_type": "markdown",
   "metadata": {},
   "source": [
    "# Sharpe Ratio "
   ]
  },
  {
   "cell_type": "markdown",
   "metadata": {},
   "source": [
    "- Statistic used to describe the performance of assets and portfolios \n",
    "- \"Additional return\" per \"unit additional risk achieved\" by a portfolio, relative to a \"risk-free source\":\n",
    "\n",
    "    $$SharpeRatio = \\frac{E[r_a - r_b]}{\\sqrt{Var(r_a - r_b)}}$$\n",
    "    \n",
    "    - $r_a$: returns on our asset \n",
    "    - $r_b$: risk-free rate of return"
   ]
  },
  {
   "cell_type": "markdown",
   "metadata": {},
   "source": [
    "- 앞에서 배운 annualized\n",
    "\n",
    "$$K * Sharpe Ratio$$\n",
    "\n",
    "    - Why just multiply with K?\n",
    "    \n",
    "- K candidates for various sampling rates:\n",
    "    * Daily = sqrt(252)\n",
    "    * Weekly = sqrt(52)\n",
    "    * Monthly = sqrt(12)"
   ]
  },
  {
   "cell_type": "code",
   "execution_count": null,
   "metadata": {},
   "outputs": [],
   "source": [
    "yearly_rfr = 0.025\n",
    "excess_rtns = log_rtn_df.mean()*252 - yearly_rfr\n",
    "excess_rtns / (log_rtn_df.std() * np.sqrt(252)) "
   ]
  },
  {
   "cell_type": "code",
   "execution_count": null,
   "metadata": {},
   "outputs": [],
   "source": [
    "def get_sharpe_ratio(log_rtn_df, yearly_rfr = 0.025):\n",
    "    excess_rtns = log_rtn_df.mean()*252 - yearly_rfr\n",
    "    return excess_rtns / (log_rtn_df.std() * np.sqrt(252))"
   ]
  },
  {
   "cell_type": "markdown",
   "metadata": {},
   "source": [
    " "
   ]
  },
  {
   "cell_type": "markdown",
   "metadata": {},
   "source": [
    " "
   ]
  },
  {
   "cell_type": "markdown",
   "metadata": {},
   "source": [
    " "
   ]
  },
  {
   "cell_type": "markdown",
   "metadata": {},
   "source": [
    " "
   ]
  },
  {
   "cell_type": "markdown",
   "metadata": {},
   "source": [
    " "
   ]
  },
  {
   "cell_type": "markdown",
   "metadata": {},
   "source": [
    "# Drawdown "
   ]
  },
  {
   "cell_type": "code",
   "execution_count": null,
   "metadata": {},
   "outputs": [],
   "source": [
    "cum_rtn_df.plot(figsize=(10, 5));"
   ]
  },
  {
   "cell_type": "code",
   "execution_count": null,
   "metadata": {},
   "outputs": [],
   "source": [
    "cummax_df = cum_rtn_df.cummax();\n",
    "\n",
    "ax = cummax_df.plot(figsize=(10, 5));\n",
    "cum_rtn_df.plot(ax=ax);"
   ]
  },
  {
   "cell_type": "code",
   "execution_count": null,
   "metadata": {},
   "outputs": [],
   "source": [
    "drawdown_df = cum_rtn_df / cummax_df - 1\n",
    "drawdown_df.plot(figsize=(10, 5));"
   ]
  },
  {
   "cell_type": "code",
   "execution_count": null,
   "metadata": {},
   "outputs": [],
   "source": [
    "# 1. MDD\n",
    "mdd_series = drawdown_df.min()\n",
    "mdd_series"
   ]
  },
  {
   "cell_type": "code",
   "execution_count": null,
   "metadata": {},
   "outputs": [],
   "source": [
    "# 2. longest_dd_period\n",
    "max_point_df = drawdown_df[drawdown_df == 0]\n",
    "max_point_df.head()"
   ]
  },
  {
   "cell_type": "code",
   "execution_count": null,
   "metadata": {},
   "outputs": [],
   "source": [
    "_df = max_point_df[\"KODEX200\"]\n",
    "_df.tail()"
   ]
  },
  {
   "cell_type": "code",
   "execution_count": null,
   "metadata": {},
   "outputs": [],
   "source": [
    "_df.last_valid_index()"
   ]
  },
  {
   "cell_type": "code",
   "execution_count": null,
   "metadata": {},
   "outputs": [],
   "source": [
    "drawdown_df[\"KODEX200\"].last_valid_index()"
   ]
  },
  {
   "cell_type": "code",
   "execution_count": null,
   "metadata": {},
   "outputs": [],
   "source": [
    "_df.loc[drawdown_df[\"KODEX200\"].last_valid_index()] = 0"
   ]
  },
  {
   "cell_type": "code",
   "execution_count": null,
   "metadata": {},
   "outputs": [],
   "source": [
    "_df.tail()"
   ]
  },
  {
   "cell_type": "code",
   "execution_count": null,
   "metadata": {},
   "outputs": [],
   "source": [
    "_df = _df.dropna()\n",
    "_df.tail()"
   ]
  },
  {
   "cell_type": "code",
   "execution_count": null,
   "metadata": {},
   "outputs": [],
   "source": [
    "periods = _df.index[1:] - _df.index[:-1]\n",
    "periods"
   ]
  },
  {
   "cell_type": "code",
   "execution_count": null,
   "metadata": {},
   "outputs": [],
   "source": [
    "# longest days\n",
    "max_idx = periods.argmax()\n",
    "max_idx"
   ]
  },
  {
   "cell_type": "code",
   "execution_count": null,
   "metadata": {},
   "outputs": [],
   "source": [
    "longest_days = periods.max().days\n",
    "longest_days"
   ]
  },
  {
   "cell_type": "code",
   "execution_count": null,
   "metadata": {},
   "outputs": [],
   "source": [
    "# longest period info\n",
    "longest_start_date = _df.index[:-1][max_idx].date()\n",
    "longest_end_date = _df.index[1:][max_idx].date()"
   ]
  },
  {
   "cell_type": "code",
   "execution_count": null,
   "metadata": {},
   "outputs": [],
   "source": [
    "print(longest_days)\n",
    "print(\"{} ~ {}\".format(longest_start_date, longest_end_date))"
   ]
  },
  {
   "cell_type": "code",
   "execution_count": null,
   "metadata": {},
   "outputs": [],
   "source": [
    "periods.mean().days\n",
    "periods.std().days"
   ]
  },
  {
   "cell_type": "code",
   "execution_count": null,
   "metadata": {},
   "outputs": [],
   "source": [
    "def get_drawdown_infos(cum_returns_df): \n",
    "    # 1. Drawdown\n",
    "    cummax_df = cum_returns_df.cummax()\n",
    "    dd_df = cum_returns_df / cummax_df - 1\n",
    " \n",
    "    # 2. Maximum drawdown\n",
    "    mdd_series = dd_df.min()\n",
    "\n",
    "    # 3. longest_dd_period\n",
    "    dd_duration_info_list = list()\n",
    "    max_point_df = dd_df[dd_df == 0]\n",
    "    for col in max_point_df:\n",
    "        _df = max_point_df[col]\n",
    "        _df.loc[dd_df[col].last_valid_index()] = 0\n",
    "        _df = _df.dropna()\n",
    "\n",
    "        periods = _df.index[1:] - _df.index[:-1]\n",
    "\n",
    "        days = periods.days\n",
    "        max_idx = days.argmax()\n",
    "\n",
    "        longest_dd_period = days.max()\n",
    "        dd_mean = int(np.mean(days))\n",
    "        dd_std = int(np.std(days))\n",
    "\n",
    "        dd_duration_info_list.append(\n",
    "            [\n",
    "                dd_mean,\n",
    "                dd_std,\n",
    "                longest_dd_period,\n",
    "                \"{} ~ {}\".format(_df.index[:-1][max_idx].date(), _df.index[1:][max_idx].date())\n",
    "            ]\n",
    "        )\n",
    "\n",
    "    dd_duration_info_df = pd.DataFrame(\n",
    "        dd_duration_info_list,\n",
    "        index=dd_df.columns,\n",
    "        columns=['drawdown mean', 'drawdown std', 'longest days', 'longest period']\n",
    "    )\n",
    "    return dd_df, mdd_series, dd_duration_info_df"
   ]
  },
  {
   "cell_type": "code",
   "execution_count": null,
   "metadata": {},
   "outputs": [],
   "source": [
    "result = get_drawdown_infos(cum_rtn_df)\n",
    "result[0].plot();"
   ]
  },
  {
   "cell_type": "code",
   "execution_count": null,
   "metadata": {},
   "outputs": [],
   "source": [
    "result[1]\n",
    "result[2]"
   ]
  }
 ],
 "metadata": {
  "kernelspec": {
   "display_name": "Python 3 (ipykernel)",
   "language": "python",
   "name": "python3"
  },
  "language_info": {
   "codemirror_mode": {
    "name": "ipython",
    "version": 3
   },
   "file_extension": ".py",
   "mimetype": "text/x-python",
   "name": "python",
   "nbconvert_exporter": "python",
   "pygments_lexer": "ipython3",
   "version": "3.9.5"
  },
  "toc": {
   "base_numbering": 1,
   "nav_menu": {},
   "number_sections": true,
   "sideBar": true,
   "skip_h1_title": false,
   "title_cell": "Table of Contents",
   "title_sidebar": "Contents",
   "toc_cell": false,
   "toc_position": {},
   "toc_section_display": true,
   "toc_window_display": true
  },
  "toc-autonumbering": true
 },
 "nbformat": 4,
 "nbformat_minor": 4
}
