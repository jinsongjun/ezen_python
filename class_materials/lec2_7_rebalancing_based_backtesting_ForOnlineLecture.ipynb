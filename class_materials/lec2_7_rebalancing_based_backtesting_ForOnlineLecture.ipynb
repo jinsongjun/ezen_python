{
 "cells": [
  {
   "cell_type": "markdown",
   "metadata": {},
   "source": [
    "**수업을 수강하시기 전, lec2_1.ipynb의 \"수강 전 필독\"을 반드시 확인해주세요**"
   ]
  },
  {
   "cell_type": "code",
   "execution_count": null,
   "metadata": {},
   "outputs": [],
   "source": [
    "def get_returns_df(df, N=1, log=False):\n",
    "    if log:\n",
    "        return np.log(df / df.shift(N)).iloc[N-1:].fillna(0)\n",
    "    else:\n",
    "        return df.pct_change(N, fill_method=None).iloc[N-1:].fillna(0)\n",
    "\n",
    "def get_cum_returns_df(return_df, log=False):\n",
    "    if log:\n",
    "        return np.exp(return_df.cumsum())\n",
    "    else:\n",
    "        return (1 + return_df).cumprod()    # same with (return_df.cumsum() + 1)\n",
    "\n",
    "def get_CAGR_series(cum_rtn_df, num_day_in_year=250):\n",
    "    cagr_series = cum_rtn_df.iloc[-1]**(num_day_in_year/(len(cum_rtn_df))) - 1\n",
    "    return cagr_series\n",
    "\n",
    "def get_sharpe_ratio(log_rtn_df, yearly_rfr = 0.025):\n",
    "    excess_rtns = log_rtn_df.mean()*252 - yearly_rfr\n",
    "    return excess_rtns / (log_rtn_df.std() * np.sqrt(252))\n",
    "\n",
    "def get_drawdown_infos(cum_returns_df): \n",
    "    # 1. Drawdown\n",
    "    cummax_df = cum_returns_df.cummax()\n",
    "    dd_df = cum_returns_df / cummax_df - 1\n",
    " \n",
    "    # 2. Maximum drawdown\n",
    "    mdd_series = dd_df.min()\n",
    "\n",
    "    # 3. longest_dd_period\n",
    "    dd_duration_info_list = list()\n",
    "    max_point_df = dd_df[dd_df == 0]\n",
    "    for col in max_point_df:\n",
    "        _df = max_point_df[col]\n",
    "        _df.loc[dd_df[col].last_valid_index()] = 0\n",
    "        _df = _df.dropna()\n",
    "\n",
    "        periods = _df.index[1:] - _df.index[:-1]\n",
    "\n",
    "        days = periods.days\n",
    "        max_idx = days.argmax()\n",
    "\n",
    "        longest_dd_period = days.max()\n",
    "        dd_mean = int(np.mean(days))\n",
    "        dd_std = int(np.std(days))\n",
    "\n",
    "        dd_duration_info_list.append(\n",
    "            [\n",
    "                dd_mean,\n",
    "                dd_std,\n",
    "                longest_dd_period,\n",
    "                \"{} ~ {}\".format(_df.index[:-1][max_idx].date(), _df.index[1:][max_idx].date())\n",
    "            ]\n",
    "        )\n",
    "\n",
    "    dd_duration_info_df = pd.DataFrame(\n",
    "        dd_duration_info_list,\n",
    "        index=dd_df.columns,\n",
    "        columns=['drawdown mean', 'drawdown std', 'longest days', 'longest period']\n",
    "    )\n",
    "    return dd_df, mdd_series, dd_duration_info_df"
   ]
  },
  {
   "cell_type": "markdown",
   "metadata": {},
   "source": [
    " "
   ]
  },
  {
   "cell_type": "markdown",
   "metadata": {},
   "source": [
    " "
   ]
  },
  {
   "cell_type": "markdown",
   "metadata": {},
   "source": [
    "# 기본 개념 & 컨셉"
   ]
  },
  {
   "cell_type": "markdown",
   "metadata": {},
   "source": [
    "## Reminder"
   ]
  },
  {
   "cell_type": "markdown",
   "metadata": {},
   "source": [
    "- cumulative return을 구하는 방법"
   ]
  },
  {
   "cell_type": "markdown",
   "metadata": {},
   "source": [
    "## Weight"
   ]
  },
  {
   "cell_type": "markdown",
   "metadata": {},
   "source": [
    "- 각 자산 비중(ratio)\n",
    "- 특정 시점에서, 항상 sum이 1이어야함(진입기준)\n",
    "- e.g. Equal weight rebalancing"
   ]
  },
  {
   "cell_type": "markdown",
   "metadata": {},
   "source": [
    "## Portfolio Return"
   ]
  },
  {
   "cell_type": "markdown",
   "metadata": {},
   "source": [
    "- $\\text{Return of portfolio on day1} = w_ar_a + w_br_b + w_cr_c + ...$\n",
    "    - 1일차에서의 $\\sum{(각 자산의 비중 * 각 자산의 return)}$"
   ]
  },
  {
   "cell_type": "markdown",
   "metadata": {},
   "source": [
    " "
   ]
  },
  {
   "cell_type": "markdown",
   "metadata": {},
   "source": [
    " "
   ]
  },
  {
   "cell_type": "markdown",
   "metadata": {},
   "source": [
    " "
   ]
  },
  {
   "cell_type": "markdown",
   "metadata": {},
   "source": [
    "## 중요한 포인트"
   ]
  },
  {
   "cell_type": "markdown",
   "metadata": {},
   "source": [
    "- A 주가 : 10 -> 12 -> 6 (daily return: +0.2, -0.5) \n",
    "- B 주가 : 10 -> 5 -> 6 (daily return: -0.5, +0.2)\n",
    "- 각 10주씩 매수를 하고 **buy & hold**    "
   ]
  },
  {
   "cell_type": "markdown",
   "metadata": {},
   "source": [
    "- 위의 1.3의 방식으로 수익률 구해보기\n",
    "    - 첫째날: -0.15 (by 0.5 \\* 0.2 + 0.5 \\*-0.5)\n",
    "    - 둘째날: -0.15 (by 0.5 \\* -0.5 + 0.5 \\* 0.2)\n",
    "    - 따라서: 200 -> 200\\*(1-0.15) -> 200\\*(1-0.15)^2\n",
    "        - 200 -> 170 -> 144.49999999999997"
   ]
  },
  {
   "cell_type": "markdown",
   "metadata": {},
   "source": [
    "- 포트폴리오 전체 value관점에서 계산해보면: 200 -> 170 -> 120\n",
    "    - 수익률은: 0 -> -0.15 -> -0.294"
   ]
  },
  {
   "cell_type": "markdown",
   "metadata": {},
   "source": [
    "### 60:40 or 올웨더 전략 등 비중 기반 전략 진입시, 비중만 유지하면 언제든 진입해도 된다. O/X ?"
   ]
  },
  {
   "cell_type": "markdown",
   "metadata": {},
   "source": [
    " "
   ]
  },
  {
   "cell_type": "markdown",
   "metadata": {},
   "source": [
    " "
   ]
  },
  {
   "cell_type": "markdown",
   "metadata": {},
   "source": [
    " "
   ]
  },
  {
   "cell_type": "markdown",
   "metadata": {},
   "source": [
    " "
   ]
  },
  {
   "cell_type": "markdown",
   "metadata": {},
   "source": [
    " "
   ]
  },
  {
   "cell_type": "markdown",
   "metadata": {},
   "source": [
    " "
   ]
  },
  {
   "cell_type": "markdown",
   "metadata": {},
   "source": [
    " "
   ]
  },
  {
   "cell_type": "markdown",
   "metadata": {},
   "source": [
    " "
   ]
  },
  {
   "cell_type": "markdown",
   "metadata": {},
   "source": [
    "# Buy & hold"
   ]
  },
  {
   "cell_type": "markdown",
   "metadata": {},
   "source": [
    "## 구현 방법 1"
   ]
  },
  {
   "cell_type": "markdown",
   "metadata": {},
   "source": [
    "### data 준비"
   ]
  },
  {
   "cell_type": "code",
   "execution_count": null,
   "metadata": {},
   "outputs": [],
   "source": [
    "df = pd.DataFrame(\n",
    "    {\n",
    "        \"A\": [10, 15, 12, 13, 10, 11, 12],\n",
    "        \"B\": [10, 10, 8, 13, 12, 12, 12],\n",
    "        \"C\": [10, 12, 14, 16, 14, 14, 16],\n",
    "    },\n",
    "    index=pd.to_datetime([\"2018-01-31\", \"2018-02-10\", \"2018-02-20\", \"2018-02-28\", \"2018-03-20\", \"2018-03-29\", \"2018-04-30\",])\n",
    ")\n",
    "df"
   ]
  },
  {
   "cell_type": "markdown",
   "metadata": {},
   "source": [
    "### shifted return 구하기"
   ]
  },
  {
   "cell_type": "code",
   "execution_count": null,
   "metadata": {},
   "outputs": [],
   "source": [
    "# log return을 쓰면 안됨 --> 일마다 종목끼리 sum aggregation을 할 것이므로\n",
    "rtn_df = get_returns_df(df, log=False)\n",
    "rtn_df.head()"
   ]
  },
  {
   "cell_type": "code",
   "execution_count": null,
   "metadata": {},
   "outputs": [],
   "source": [
    "# => shift를 해줘야, 해당 date에서 가지고 있을 때 발생하는 수익률을 \n",
    "# 그 date에 mapping 가능\n",
    "shifted_rtn_df = rtn_df.shift(-1)   \n",
    "shifted_rtn_df"
   ]
  },
  {
   "cell_type": "code",
   "execution_count": null,
   "metadata": {},
   "outputs": [],
   "source": [
    "shifted_rtn_df = shifted_rtn_df.fillna(0)\n",
    "shifted_rtn_df"
   ]
  },
  {
   "cell_type": "markdown",
   "metadata": {},
   "source": [
    "### asset flow 구하기 "
   ]
  },
  {
   "cell_type": "code",
   "execution_count": null,
   "metadata": {},
   "outputs": [],
   "source": [
    "cum_rtn_df = df / df.iloc[0]\n",
    "cum_rtn_df"
   ]
  },
  {
   "cell_type": "code",
   "execution_count": null,
   "metadata": {},
   "outputs": [],
   "source": [
    "asset_flow_df = cum_rtn_df * [0.3, 0.5, 0.2]\n",
    "asset_flow_df"
   ]
  },
  {
   "cell_type": "code",
   "execution_count": null,
   "metadata": {},
   "outputs": [],
   "source": [
    "asset_flow_df = cum_rtn_df * [3000000, 5000000, 2000000]\n",
    "asset_flow_df"
   ]
  },
  {
   "cell_type": "markdown",
   "metadata": {},
   "source": [
    " "
   ]
  },
  {
   "cell_type": "markdown",
   "metadata": {},
   "source": [
    " "
   ]
  },
  {
   "cell_type": "markdown",
   "metadata": {},
   "source": [
    "### weight df 구하기"
   ]
  },
  {
   "cell_type": "code",
   "execution_count": null,
   "metadata": {},
   "outputs": [],
   "source": [
    "# 항상 일별로 sum이 1이어야 함\n",
    "port_weight_df = asset_flow_df.divide(asset_flow_df.sum(axis=1), axis=0)\n",
    "port_weight_df"
   ]
  },
  {
   "cell_type": "code",
   "execution_count": null,
   "metadata": {},
   "outputs": [],
   "source": [
    "port_weight_df.sum(axis=1)"
   ]
  },
  {
   "cell_type": "markdown",
   "metadata": {},
   "source": [
    " "
   ]
  },
  {
   "cell_type": "markdown",
   "metadata": {},
   "source": [
    " "
   ]
  },
  {
   "cell_type": "markdown",
   "metadata": {},
   "source": [
    "### 최종 portfolio return 구하기"
   ]
  },
  {
   "cell_type": "code",
   "execution_count": null,
   "metadata": {},
   "outputs": [],
   "source": [
    "shifted_rtn_df.head()"
   ]
  },
  {
   "cell_type": "code",
   "execution_count": null,
   "metadata": {},
   "outputs": [],
   "source": [
    "port_weight_df.head()"
   ]
  },
  {
   "cell_type": "code",
   "execution_count": null,
   "metadata": {},
   "outputs": [],
   "source": [
    "# w*r 을 나타낸 것이 net_rtn_df \n",
    "net_rtn_df = port_weight_df * shifted_rtn_df\n",
    "net_rtn_df"
   ]
  },
  {
   "cell_type": "code",
   "execution_count": null,
   "metadata": {},
   "outputs": [],
   "source": [
    "# 다시 원래 위치로 돌린다\n",
    "net_rtn_df = net_rtn_df.shift(1).fillna(0)   \n",
    "net_rtn_df"
   ]
  },
  {
   "cell_type": "code",
   "execution_count": null,
   "metadata": {},
   "outputs": [],
   "source": [
    "# 일별 sum\n",
    "# (total_return_1 = w_A1*r_A1 + w_B1*r_B1 + ...)\n",
    "rtn_series = net_rtn_df.sum(axis=1)   \n",
    "rtn_series"
   ]
  },
  {
   "cell_type": "code",
   "execution_count": null,
   "metadata": {},
   "outputs": [],
   "source": [
    "(rtn_series + 1).cumprod()"
   ]
  },
  {
   "cell_type": "code",
   "execution_count": null,
   "metadata": {},
   "outputs": [],
   "source": [
    "(rtn_series + 1).cumprod().plot()"
   ]
  },
  {
   "cell_type": "markdown",
   "metadata": {},
   "source": [
    " "
   ]
  },
  {
   "cell_type": "markdown",
   "metadata": {},
   "source": [
    " "
   ]
  },
  {
   "cell_type": "markdown",
   "metadata": {},
   "source": [
    "### 개별종목별 portval 구하기 (feat. 구현방법 2)"
   ]
  },
  {
   "cell_type": "markdown",
   "metadata": {},
   "source": [
    "- 참고: buy and hold 인 경우, **`asset_flow_df`가 개별종목 portval**"
   ]
  },
  {
   "cell_type": "markdown",
   "metadata": {},
   "source": [
    "#### `asset_flow_df`가 개별 portval df인 이유 1\n",
    "- A(1 + $r_{a1}$) -> A(1 + $r_{a1}$)(1 + $r_{a2}$) -> A(1 + $r_{a1}$)(1 + $r_{a2}$)(1 + $r_{a3}$) + ...\n",
    "- 0.1A(1 + $r_{a1}$) -> 0.1A(1 + $r_{a1}$)(1 + $r_{a2}$) -> 0.1A(1 + $r_{a1}$)(1 + $r_{a2}$)(1 + $r_{a3}$) + ...\n",
    "    - 첫 설정된 자산인 '0.1A'에 A의 수익률이 그대로 복리계산이 되기 때문에, 계산을 망가뜨리지 않음"
   ]
  },
  {
   "cell_type": "code",
   "execution_count": null,
   "metadata": {},
   "outputs": [],
   "source": [
    "cum_rtn_df = df / df.iloc[0]\n",
    "cum_rtn_df"
   ]
  },
  {
   "cell_type": "code",
   "execution_count": null,
   "metadata": {},
   "outputs": [],
   "source": [
    "individual_cum_rtn_df = cum_rtn_df * [0.3, 0.5, 0.2]\n",
    "individual_cum_rtn_df"
   ]
  },
  {
   "cell_type": "code",
   "execution_count": null,
   "metadata": {},
   "outputs": [],
   "source": [
    "# portval\n",
    "individual_cum_rtn_df.sum(axis=1)   # * 100000000"
   ]
  },
  {
   "cell_type": "markdown",
   "metadata": {},
   "source": [
    "#### `asset_flow_df`가 개별 portval df인 이유 2"
   ]
  },
  {
   "cell_type": "markdown",
   "metadata": {},
   "source": [
    "- 직접 식으로 표현해보고 비교해보기(e.g. A:B = 40:60 전략)\n",
    "    - individual 관점\n",
    "        - day1\n",
    "            - A: 0.4\n",
    "            - B: 0.6\n",
    "            - +: 1\n",
    "        - day2\n",
    "            - A: 0.4(1 + $r_{a1}$)\n",
    "            - B: 0.6(1 + $r_{b1}$)\n",
    "            - +: 1 + 0.4$r_{a1}$ + 0.6$r_{b1}$\n",
    "        - day3\n",
    "            - A: 0.4(1 + $r_{a1}$)(1 + $r_{a2}$) = 0.4(1 + $r_{a1}$ + $r_{a2}$ + $r_{a1}r_{a2}$)\n",
    "            - B: 0.6(1 + $r_{b1}$)(1 + $r_{b2}$) = 0.6(1 + $r_{b1}$ + $r_{b2}$ + $r_{b1}r_{b2}$)\n",
    "            - +: 1 + 0.4($r_{a1}$ + $r_{a2}$ + $r_{a1}r_{a2}$) + 0.6($r_{b1}$ + $r_{b2}$ + $r_{b1}r_{b2}$)\n",
    "                - (1 + 0.4$r_{a1}$ + 0.6$r_{b1}$) + 0.4($r_{a2}$ + $r_{a1}r_{a2}$) + 0.6($r_{b2}$ + $r_{b1}r_{b2}$)\n",
    "\n",
    "    - portfolio 관점\n",
    "        - day1\n",
    "            - 1\n",
    "        - day2\n",
    "            - 1 * $(1 + (0.4r_{a1} + 0.6r_{b1}))$\n",
    "        - day3\n",
    "            - 1 * $(1 + (0.4r_{a1} + 0.6r_{b1}))(1 + ...)$"
   ]
  },
  {
   "cell_type": "markdown",
   "metadata": {},
   "source": [
    " "
   ]
  },
  {
   "cell_type": "markdown",
   "metadata": {},
   "source": [
    " "
   ]
  },
  {
   "cell_type": "markdown",
   "metadata": {},
   "source": [
    " "
   ]
  },
  {
   "cell_type": "markdown",
   "metadata": {},
   "source": [
    " "
   ]
  },
  {
   "cell_type": "markdown",
   "metadata": {},
   "source": [
    " "
   ]
  },
  {
   "cell_type": "markdown",
   "metadata": {},
   "source": [
    "## 실수할만한 내용"
   ]
  },
  {
   "cell_type": "code",
   "execution_count": null,
   "metadata": {},
   "outputs": [],
   "source": [
    "df.head()"
   ]
  },
  {
   "cell_type": "code",
   "execution_count": null,
   "metadata": {},
   "outputs": [],
   "source": [
    "rtn_df = get_returns_df(df, log=False)\n",
    "cum_rtn_df = df / df.iloc[0]"
   ]
  },
  {
   "cell_type": "code",
   "execution_count": null,
   "metadata": {},
   "outputs": [],
   "source": [
    "(cum_rtn_df * 1/3).sum(axis=1)"
   ]
  },
  {
   "cell_type": "code",
   "execution_count": null,
   "metadata": {},
   "outputs": [],
   "source": [
    "a_1 = (cum_rtn_df * 1/3).sum(axis=1)\n",
    "a_1"
   ]
  },
  {
   "cell_type": "code",
   "execution_count": null,
   "metadata": {},
   "outputs": [],
   "source": [
    "rtn_df * 1/3"
   ]
  },
  {
   "cell_type": "code",
   "execution_count": null,
   "metadata": {},
   "outputs": [],
   "source": [
    "a_2 = ((rtn_df * 1/3).sum(axis=1) + 1).cumprod() \n",
    "a_2"
   ]
  },
  {
   "cell_type": "markdown",
   "metadata": {},
   "source": [
    " "
   ]
  },
  {
   "cell_type": "markdown",
   "metadata": {},
   "source": [
    " "
   ]
  },
  {
   "cell_type": "markdown",
   "metadata": {},
   "source": [
    " "
   ]
  },
  {
   "cell_type": "markdown",
   "metadata": {},
   "source": [
    " "
   ]
  },
  {
   "cell_type": "markdown",
   "metadata": {},
   "source": [
    "## 주의사항\n",
    "- 2018/1/1부터 0.5/0.5씩 들고 있는 거랑 2018/10/1부터 0.5/0.5씩 들고있는것이랑 결과가 다름"
   ]
  },
  {
   "cell_type": "code",
   "execution_count": null,
   "metadata": {},
   "outputs": [],
   "source": [
    "df = pd.read_csv(\"data/us_etf_1.csv\", index_col=0)\n",
    "df.index = pd.to_datetime(df.index)\n",
    "df.head()"
   ]
  },
  {
   "cell_type": "code",
   "execution_count": null,
   "metadata": {},
   "outputs": [],
   "source": [
    "df1 = df.loc[\"2017-01-01\":]\n",
    "cum_rtn_df = df1 / df1.iloc[0]"
   ]
  },
  {
   "cell_type": "code",
   "execution_count": null,
   "metadata": {},
   "outputs": [],
   "source": [
    "allocation = [0.2, 0.2, 0.2, 0.2, 0.2]"
   ]
  },
  {
   "cell_type": "code",
   "execution_count": null,
   "metadata": {},
   "outputs": [],
   "source": [
    "allocation_df = cum_rtn_df * allocation\n",
    "allocation_df.sum(axis=1).plot(figsize=(7, 3))"
   ]
  },
  {
   "cell_type": "code",
   "execution_count": null,
   "metadata": {},
   "outputs": [],
   "source": [
    "df2 = cum_rtn_df.loc[\"2020-01-02\":]\n",
    "cum_rtn_df2 = df2 / df2.iloc[0]"
   ]
  },
  {
   "cell_type": "code",
   "execution_count": null,
   "metadata": {},
   "outputs": [],
   "source": [
    "allocation_df2 = cum_rtn_df2 * allocation"
   ]
  },
  {
   "cell_type": "code",
   "execution_count": null,
   "metadata": {},
   "outputs": [],
   "source": [
    "ax = allocation_df.sum(axis=1).plot();\n",
    "allocation_df2.sum(axis=1).plot(ax=ax);"
   ]
  },
  {
   "cell_type": "code",
   "execution_count": null,
   "metadata": {},
   "outputs": [],
   "source": [
    "allocation_df2.head(2)"
   ]
  },
  {
   "cell_type": "code",
   "execution_count": null,
   "metadata": {},
   "outputs": [],
   "source": [
    "allocation_df.loc[\"2020-01-02\"]"
   ]
  },
  {
   "cell_type": "code",
   "execution_count": null,
   "metadata": {},
   "outputs": [],
   "source": [
    "allocation_df.loc[\"2020-01-02\"].sum()"
   ]
  },
  {
   "cell_type": "code",
   "execution_count": null,
   "metadata": {},
   "outputs": [],
   "source": [
    "ax = allocation_df.sum(axis=1).plot();\n",
    "(allocation_df2.sum(axis=1) * 1.3588167271181084).plot(ax=ax); "
   ]
  },
  {
   "cell_type": "markdown",
   "metadata": {},
   "source": [
    " "
   ]
  },
  {
   "cell_type": "markdown",
   "metadata": {},
   "source": [
    " "
   ]
  },
  {
   "cell_type": "markdown",
   "metadata": {},
   "source": [
    " "
   ]
  },
  {
   "cell_type": "markdown",
   "metadata": {},
   "source": [
    " "
   ]
  },
  {
   "cell_type": "markdown",
   "metadata": {},
   "source": [
    " "
   ]
  },
  {
   "cell_type": "markdown",
   "metadata": {},
   "source": [
    " "
   ]
  },
  {
   "cell_type": "markdown",
   "metadata": {},
   "source": [
    " "
   ]
  },
  {
   "cell_type": "markdown",
   "metadata": {},
   "source": [
    " "
   ]
  },
  {
   "cell_type": "markdown",
   "metadata": {},
   "source": [
    "# Periodic weight rebalancing"
   ]
  },
  {
   "cell_type": "markdown",
   "metadata": {},
   "source": [
    " "
   ]
  },
  {
   "cell_type": "markdown",
   "metadata": {},
   "source": [
    "##  simple rtn x weight를 이용한 방법"
   ]
  },
  {
   "cell_type": "markdown",
   "metadata": {},
   "source": [
    "- recap\n",
    "    - `shifted_rtn_df`은 내 전략과는 상관없이, 시장에서 각 종목들의 수익률을 담은 raw data\n",
    "    - `weight_df`가 전략의 로직이 들어있는 데이터\n",
    "        - 중요한 점은 `weight_df`를 항상 `asset_flow_df`를 가지고 만들어야한다는 점!\n",
    "            - 예를 들어,[0.3, 0.5, 0.2] 상태에서, 며칠 후 해당 자산들 비율이 [0.29, 0.49, 0.19]가 되고 할 것인데, 이런 자산의 흐름을 계산하는 `asset_flow_df`로 먼저구하고, 이 dataframe을 axis=1 방향으로 normalizing 하면 `weight_df`임\n",
    "    - 이 둘의 조합을 가지고 어떻게 포트폴리오를 표현할 것인가가 관건"
   ]
  },
  {
   "cell_type": "markdown",
   "metadata": {},
   "source": [
    "### 구현"
   ]
  },
  {
   "cell_type": "code",
   "execution_count": null,
   "metadata": {},
   "outputs": [],
   "source": [
    "df = pd.DataFrame(\n",
    "    {\n",
    "        \"A\": [10, 15, 12, 13, 10, 11, 12],\n",
    "        \"B\": [10, 10, 8, 13, 12, 12, 12],\n",
    "        \"C\": [10, 12, 14, 16, 14, 14, 16],\n",
    "    },\n",
    "    index=pd.to_datetime([\"2018-01-31\", \"2018-02-10\", \"2018-02-20\", \"2018-02-28\", \"2018-03-20\", \"2018-03-29\", \"2018-04-30\",])\n",
    ")\n",
    "df"
   ]
  },
  {
   "cell_type": "code",
   "execution_count": null,
   "metadata": {},
   "outputs": [],
   "source": [
    "rtn_df = get_returns_df(df, log=False)\n",
    "shifted_rtn_df = rtn_df.shift(-1).fillna(0)   \n",
    "shifted_rtn_df"
   ]
  },
  {
   "cell_type": "code",
   "execution_count": null,
   "metadata": {},
   "outputs": [],
   "source": [
    "df['year'] = df.index.year\n",
    "df['month'] = df.index.month\n",
    "\n",
    "rebal_index = df.drop_duplicates(['year','month'], keep=\"last\").index\n",
    "df.drop(['year', 'month'], axis=1, inplace=True)\n",
    "\n",
    "rebal_index"
   ]
  },
  {
   "cell_type": "code",
   "execution_count": null,
   "metadata": {},
   "outputs": [],
   "source": [
    "month_cum_rtn_df_list = []\n",
    "for start, end in zip(rebal_index[:-1], rebal_index[1:]):\n",
    "    month_price_df = df.loc[start:end]\n",
    "    month_cum_rtn_df = month_price_df / month_price_df.iloc[0]\n",
    "    month_cum_rtn_df_list.append(month_cum_rtn_df)"
   ]
  },
  {
   "cell_type": "code",
   "execution_count": null,
   "metadata": {},
   "outputs": [],
   "source": [
    "month_cum_rtn_df_list[0]\n",
    "month_cum_rtn_df_list[1]"
   ]
  },
  {
   "cell_type": "code",
   "execution_count": null,
   "metadata": {},
   "outputs": [],
   "source": [
    "monthly_asset_flow_df = pd.concat(month_cum_rtn_df_list)\n",
    "monthly_asset_flow_df"
   ]
  },
  {
   "cell_type": "code",
   "execution_count": null,
   "metadata": {},
   "outputs": [],
   "source": [
    "# - 월말에 해당하는 row: 월말 종가 기준 새롭게 조율된 자산의 비중\n",
    "# - 그 이외의 row: 월말로부터 시간이 흘렀을 때 변한 자산의 비중\n",
    "monthly_asset_flow_df = monthly_asset_flow_df.loc[~monthly_asset_flow_df.index.duplicated(keep=\"last\")]\n",
    "monthly_asset_flow_df"
   ]
  },
  {
   "cell_type": "code",
   "execution_count": null,
   "metadata": {},
   "outputs": [],
   "source": [
    "monthly_asset_flow_df = monthly_asset_flow_df * [0.3, 0.5, 0.2]\n",
    "monthly_asset_flow_df"
   ]
  },
  {
   "cell_type": "code",
   "execution_count": null,
   "metadata": {},
   "outputs": [],
   "source": [
    "# 자산 비중의 흐름을 일별로 sum=1이 되게 만들면 결국 weight_df\n",
    "weight_df = monthly_asset_flow_df.divide(monthly_asset_flow_df.sum(axis=1), axis=0)\n",
    "weight_df"
   ]
  },
  {
   "cell_type": "code",
   "execution_count": null,
   "metadata": {},
   "outputs": [],
   "source": [
    "net_rtn_df = shifted_rtn_df * weight_df\n",
    "net_rtn_df"
   ]
  },
  {
   "cell_type": "code",
   "execution_count": null,
   "metadata": {},
   "outputs": [],
   "source": [
    "rtn_series = net_rtn_df.sum(axis=1).shift(1).fillna(0)\n",
    "rtn_series"
   ]
  },
  {
   "cell_type": "code",
   "execution_count": null,
   "metadata": {},
   "outputs": [],
   "source": [
    "(rtn_series + 1).cumprod() "
   ]
  },
  {
   "cell_type": "markdown",
   "metadata": {},
   "source": [
    " "
   ]
  },
  {
   "cell_type": "markdown",
   "metadata": {},
   "source": [
    " "
   ]
  },
  {
   "cell_type": "markdown",
   "metadata": {},
   "source": [
    " "
   ]
  },
  {
   "cell_type": "markdown",
   "metadata": {},
   "source": [
    "## cumulative rtn을 이용하는 방법"
   ]
  },
  {
   "cell_type": "markdown",
   "metadata": {},
   "source": [
    "- event-based"
   ]
  },
  {
   "cell_type": "markdown",
   "metadata": {},
   "source": [
    "### 구현"
   ]
  },
  {
   "cell_type": "code",
   "execution_count": null,
   "metadata": {},
   "outputs": [],
   "source": [
    "df = pd.DataFrame(\n",
    "    {\n",
    "        \"A\": [10, 15, 12, 13, 10, 11, 12],\n",
    "        \"B\": [10, 10, 8, 13, 12, 12, 12],\n",
    "        \"C\": [10, 12, 14, 16, 14, 14, 16],\n",
    "    },\n",
    "    index=pd.to_datetime([\"2018-01-31\", \"2018-02-10\", \"2018-02-20\", \"2018-02-28\", \"2018-03-20\", \"2018-03-29\", \"2018-04-30\",])\n",
    ")\n",
    "df['year'] = df.index.year\n",
    "df['month'] = df.index.month\n",
    "\n",
    "rebal_index = df.drop_duplicates(['year','month'], keep=\"last\").index\n",
    "df.drop(['year', 'month'], axis=1, inplace=True)"
   ]
  },
  {
   "cell_type": "code",
   "execution_count": null,
   "metadata": {},
   "outputs": [],
   "source": [
    "target_weight_df = pd.DataFrame(\n",
    "    [[0.3, 0.5, 0.2]]* len(rebal_index),\n",
    "    index=rebal_index,\n",
    "    columns=df.columns\n",
    ")\n",
    "target_weight_df"
   ]
  },
  {
   "cell_type": "code",
   "execution_count": null,
   "metadata": {},
   "outputs": [],
   "source": [
    "individual_port_val_df_list = []\n",
    "cum_rtn_at_last_month_end = 1\n",
    "\n",
    "prev_end_day = rebal_index[0]\n",
    "for end_day in rebal_index[1:]:\n",
    "    sub_price_df = df.loc[prev_end_day:end_day] \n",
    "    sub_cum_rtn_df = sub_price_df / sub_price_df.iloc[0]\n",
    "           \n",
    "    weight_series = target_weight_df.loc[prev_end_day]\n",
    "    # (sub_cum_rtn_df * weight_series): 첫 설정한 weight이 asset 크기의 흐름에 따라 어떻게 변화하는지를 계산함\n",
    "    indi_port_cum_rtn_df = (sub_cum_rtn_df * weight_series) * cum_rtn_at_last_month_end\n",
    "    \n",
    "    individual_port_val_df_list.append(indi_port_cum_rtn_df)\n",
    "    \n",
    "    total_port_cum_rtn_series = indi_port_cum_rtn_df.sum(axis=1)\n",
    "    cum_rtn_at_last_month_end = total_port_cum_rtn_series.iloc[-1]\n",
    "\n",
    "    prev_end_day = end_day"
   ]
  },
  {
   "cell_type": "code",
   "execution_count": null,
   "metadata": {},
   "outputs": [],
   "source": [
    "individual_port_val_df_list"
   ]
  },
  {
   "cell_type": "markdown",
   "metadata": {},
   "source": [
    "### 결과비교"
   ]
  },
  {
   "cell_type": "markdown",
   "metadata": {},
   "source": [
    "#### 리밸런싱 날, 리밸런싱 바로 직전의 자산 flow 선택"
   ]
  },
  {
   "cell_type": "code",
   "execution_count": null,
   "metadata": {},
   "outputs": [],
   "source": [
    "result_port_df_list = [individual_port_val_df_list[0]]\n",
    "for _df in individual_port_val_df_list[1:]:\n",
    "    result_port_df_list.append(_df.iloc[1:])\n",
    "    \n",
    "result1_ind = pd.concat(result_port_df_list)\n",
    "result1_port = result1_ind.sum(axis=1)"
   ]
  },
  {
   "cell_type": "markdown",
   "metadata": {},
   "source": [
    "#### 리밸런싱 날, 리밸런싱 직후의 자산 flow 선택"
   ]
  },
  {
   "cell_type": "code",
   "execution_count": null,
   "metadata": {},
   "outputs": [],
   "source": [
    "result_port_df_list = []\n",
    "for i, _df in enumerate(individual_port_val_df_list):\n",
    "    if i == len(individual_port_val_df_list)-1:\n",
    "        result_port_df_list.append(_df)\n",
    "    else:\n",
    "        result_port_df_list.append(_df.iloc[:-1])\n",
    "    \n",
    "result2_ind = pd.concat(result_port_df_list)\n",
    "result2_port = result1_ind.sum(axis=1)"
   ]
  },
  {
   "cell_type": "code",
   "execution_count": null,
   "metadata": {},
   "outputs": [],
   "source": [
    "result1_port.equals(result2_port)"
   ]
  },
  {
   "cell_type": "code",
   "execution_count": null,
   "metadata": {},
   "outputs": [],
   "source": [
    "from matplotlib.pyplot import stackplot"
   ]
  },
  {
   "cell_type": "code",
   "execution_count": null,
   "metadata": {},
   "outputs": [],
   "source": [
    "result1_ind.plot.area()"
   ]
  },
  {
   "cell_type": "code",
   "execution_count": null,
   "metadata": {},
   "outputs": [],
   "source": [
    "result2_ind.plot.area()"
   ]
  },
  {
   "cell_type": "markdown",
   "metadata": {},
   "source": [
    " "
   ]
  },
  {
   "cell_type": "markdown",
   "metadata": {},
   "source": [
    " "
   ]
  },
  {
   "cell_type": "markdown",
   "metadata": {},
   "source": [
    " "
   ]
  },
  {
   "cell_type": "markdown",
   "metadata": {},
   "source": [
    " "
   ]
  },
  {
   "cell_type": "markdown",
   "metadata": {},
   "source": [
    " "
   ]
  },
  {
   "cell_type": "markdown",
   "metadata": {},
   "source": [
    " "
   ]
  },
  {
   "cell_type": "markdown",
   "metadata": {},
   "source": [
    " "
   ]
  },
  {
   "cell_type": "markdown",
   "metadata": {},
   "source": [
    " "
   ]
  },
  {
   "cell_type": "markdown",
   "metadata": {},
   "source": [
    " "
   ]
  },
  {
   "cell_type": "markdown",
   "metadata": {},
   "source": [
    " "
   ]
  },
  {
   "cell_type": "markdown",
   "metadata": {},
   "source": [
    " "
   ]
  },
  {
   "cell_type": "markdown",
   "metadata": {},
   "source": [
    "# 실전연습"
   ]
  },
  {
   "cell_type": "markdown",
   "metadata": {},
   "source": [
    "## 동일가중(equal weight)"
   ]
  },
  {
   "cell_type": "code",
   "execution_count": null,
   "metadata": {},
   "outputs": [],
   "source": [
    "price_df = pd.read_csv(\"data/us_etf_1.csv\", index_col=[0], parse_dates=True).drop(\n",
    "    [\"SHY\", \"TLT\", \"SPY\"], axis=1\n",
    ")\n",
    "price_df.head()"
   ]
  },
  {
   "cell_type": "code",
   "execution_count": null,
   "metadata": {},
   "outputs": [],
   "source": [
    "price_df['year'] =  price_df.index.year\n",
    "price_df['month'] = price_df.index.month\n",
    "\n",
    "rebal_index = price_df.drop_duplicates(subset=['year', 'month'], keep='last').index\n",
    "price_df = price_df.drop(['year', 'month'], axis=1)\n",
    "rebal_index"
   ]
  },
  {
   "cell_type": "code",
   "execution_count": null,
   "metadata": {},
   "outputs": [],
   "source": [
    "target_weight_df = pd.DataFrame(\n",
    "    [[1/len(price_df.columns)]*len(price_df.columns)]* len(rebal_index),\n",
    "    index=rebal_index,\n",
    "    columns=price_df.columns\n",
    ")\n",
    "target_weight_df"
   ]
  },
  {
   "cell_type": "code",
   "execution_count": null,
   "metadata": {},
   "outputs": [],
   "source": [
    "cum_rtn_at_last_month_end = 1\n",
    "individual_port_val_df_list = []\n",
    "\n",
    "prev_end_day = rebal_index[0]\n",
    "for end_day in rebal_index[1:]:\n",
    "    sub_price_df = price_df.loc[prev_end_day:end_day]\n",
    "    sub_cum_rtn_df = sub_price_df / sub_price_df.iloc[0]\n",
    "    \n",
    "    weight_series = target_weight_df.loc[prev_end_day]\n",
    "    indi_port_cum_rtn_df = (sub_cum_rtn_df * weight_series) * cum_rtn_at_last_month_end\n",
    "    \n",
    "    individual_port_val_df_list.append(indi_port_cum_rtn_df)\n",
    " \n",
    "    total_port_cum_rtn_series = indi_port_cum_rtn_df.sum(axis=1)\n",
    "    cum_rtn_at_last_month_end = total_port_cum_rtn_series.iloc[-1]\n",
    "\n",
    "    prev_end_day = end_day"
   ]
  },
  {
   "cell_type": "code",
   "execution_count": null,
   "metadata": {},
   "outputs": [],
   "source": [
    "from functools import reduce\n",
    "all_ind_portval_df = reduce(lambda x, y: pd.concat([x, y.iloc[1:]]), individual_port_val_df_list)\n",
    "all_ind_portval_df"
   ]
  },
  {
   "cell_type": "code",
   "execution_count": null,
   "metadata": {},
   "outputs": [],
   "source": [
    "price_df = price_df.loc[all_ind_portval_df.index[0]:]\n",
    "buy_and_hold_series = price_df[\"QQQ\"] / price_df[\"QQQ\"].iloc[0]\n",
    "buy_and_hold_series"
   ]
  },
  {
   "cell_type": "code",
   "execution_count": null,
   "metadata": {},
   "outputs": [],
   "source": [
    "compare_df = pd.concat(\n",
    "    [all_ind_portval_df.sum(axis=1), buy_and_hold_series],\n",
    "    keys=[\"strategy\", \"buy_and_hold\"], axis=1\n",
    ")\n",
    "compare_df.head()"
   ]
  },
  {
   "cell_type": "code",
   "execution_count": null,
   "metadata": {},
   "outputs": [],
   "source": [
    "compare_df.plot(figsize=(10, 5));"
   ]
  },
  {
   "cell_type": "code",
   "execution_count": null,
   "metadata": {},
   "outputs": [],
   "source": [
    "get_sharpe_ratio(get_returns_df(compare_df, log=True)).to_frame(\"Sharpe Ratio\")"
   ]
  },
  {
   "cell_type": "code",
   "execution_count": null,
   "metadata": {},
   "outputs": [],
   "source": [
    "get_CAGR_series(compare_df).to_frame(\"CAGR\")"
   ]
  },
  {
   "cell_type": "code",
   "execution_count": null,
   "metadata": {},
   "outputs": [],
   "source": [
    "dd_df, mdd_series, longest_dd_period_df = get_drawdown_infos(compare_df)\n",
    "dd_df.plot(figsize=(12, 5))"
   ]
  },
  {
   "cell_type": "code",
   "execution_count": null,
   "metadata": {},
   "outputs": [],
   "source": [
    "mdd_series.to_frame(\"MDD\")"
   ]
  },
  {
   "cell_type": "code",
   "execution_count": null,
   "metadata": {},
   "outputs": [],
   "source": [
    "longest_dd_period_df"
   ]
  },
  {
   "cell_type": "markdown",
   "metadata": {},
   "source": [
    "\n",
    " "
   ]
  },
  {
   "cell_type": "markdown",
   "metadata": {},
   "source": [
    "\n",
    " "
   ]
  },
  {
   "cell_type": "markdown",
   "metadata": {},
   "source": [
    "\n",
    " "
   ]
  },
  {
   "cell_type": "markdown",
   "metadata": {},
   "source": [
    "\n",
    " "
   ]
  },
  {
   "cell_type": "markdown",
   "metadata": {},
   "source": [
    "## 각자 해보기"
   ]
  },
  {
   "cell_type": "markdown",
   "metadata": {},
   "source": [
    "- 비중변경: 60:40 등\n",
    "- rebal period 변경: monthly, yearly, half year, quarterly\n",
    "    - 월초, 월말\n",
    "    - 그래도 곡선은 daily로 tracking됨\n",
    "- 본인만의 종목 구성(TQQQ:TLT)\n",
    "- 함수화"
   ]
  },
  {
   "cell_type": "markdown",
   "metadata": {},
   "source": [
    "\n",
    " "
   ]
  },
  {
   "cell_type": "markdown",
   "metadata": {},
   "source": [
    "\n",
    " "
   ]
  },
  {
   "cell_type": "markdown",
   "metadata": {},
   "source": [
    "## 실전투입 관련 1"
   ]
  },
  {
   "cell_type": "markdown",
   "metadata": {},
   "source": [
    "- 슬리피지, 수수료, 세금\n",
    "    - 리벨런싱에서 cum_rtn_at_last_month_end의 값을 전파할때 penalty\n",
    "- 배당\n",
    "    - 리벨런싱에서 cum_rtn_at_last_month_end의 값을 전파할때 advantage\n",
    "- 추가매입(물타기)\n",
    "    - 리벨런싱\n",
    "        - cum_rtn_at_last_month_end의 값을 전파할때 advantage\n",
    "    - 특정 %하락 or MDD 갱신 시\n",
    "    "
   ]
  },
  {
   "cell_type": "code",
   "execution_count": null,
   "metadata": {},
   "outputs": [],
   "source": [
    "from functools import reduce\n",
    "\n",
    "cum_rtn_at_last_month_end = 100000\n",
    "individual_port_val_df_list = []\n",
    "# dividiend_rebal_index = \n",
    "\n",
    "prev_end_day = rebal_index[0]\n",
    "for end_day in rebal_index[1:]:\n",
    "    sub_price_df = price_df.loc[prev_end_day:end_day]\n",
    "    sub_cum_rtn_df = sub_price_df / sub_price_df.iloc[0]\n",
    "    \n",
    "    weight_series = target_weight_df.loc[prev_end_day]\n",
    "    indi_port_cum_rtn_df = (sub_cum_rtn_df * weight_series) * cum_rtn_at_last_month_end\n",
    "    individual_port_val_df_list.append(indi_port_cum_rtn_df)\n",
    " \n",
    "    total_port_cum_rtn_series = indi_port_cum_rtn_df.sum(axis=1)\n",
    "    cum_rtn_at_last_month_end = total_port_cum_rtn_series.iloc[-1] * 0.999 * 1.001\n",
    "\n",
    "    prev_end_day = end_day"
   ]
  },
  {
   "cell_type": "code",
   "execution_count": null,
   "metadata": {},
   "outputs": [],
   "source": [
    "all_ind_portval_df1 = reduce(lambda x, y: pd.concat([x, y.iloc[1:]]), individual_port_val_df_list)\n",
    "all_portval_df1 = all_ind_portval_df1.sum(axis=1)"
   ]
  },
  {
   "cell_type": "code",
   "execution_count": null,
   "metadata": {},
   "outputs": [],
   "source": [
    "all_ind_portval_df2 = reduce(lambda x, y: pd.concat([x, y.iloc[1:]]), individual_port_val_df_list)\n",
    "all_portval_df2 = all_ind_portval_df2.sum(axis=1)"
   ]
  },
  {
   "cell_type": "code",
   "execution_count": null,
   "metadata": {},
   "outputs": [],
   "source": [
    "pd.concat([all_portval_df1, all_portval_df2], axis=1).plot()"
   ]
  },
  {
   "cell_type": "markdown",
   "metadata": {},
   "source": [
    "- 오버피팅일 뿐?"
   ]
  },
  {
   "cell_type": "markdown",
   "metadata": {},
   "source": [
    " "
   ]
  },
  {
   "cell_type": "markdown",
   "metadata": {},
   "source": [
    " "
   ]
  },
  {
   "cell_type": "markdown",
   "metadata": {},
   "source": [
    "## 실전투입 관련 2"
   ]
  },
  {
   "cell_type": "markdown",
   "metadata": {},
   "source": [
    "- 새로운 데이터 인입 --> 몇 주 사고 팔고?"
   ]
  },
  {
   "cell_type": "code",
   "execution_count": null,
   "metadata": {},
   "outputs": [],
   "source": [
    "price_df = pd.read_csv(\"data/us_etf_1.csv\", index_col=[0], parse_dates=True).drop(\n",
    "    [\"SHY\", \"TLT\", \"SPY\"], axis=1\n",
    ").loc[\"2021-06-30\":]\n",
    "\n",
    "price_df['year'] =  price_df.index.year\n",
    "price_df['month'] = price_df.index.month\n",
    "\n",
    "rebal_index = price_df.drop_duplicates(subset=['year', 'month'], keep='last').index\n",
    "price_df = price_df.drop(['year', 'month'], axis=1)\n",
    "\n",
    "target_weight_df = pd.DataFrame(\n",
    "    [[1/len(price_df.columns)]*len(price_df.columns)]* len(rebal_index),\n",
    "    index=rebal_index,\n",
    "    columns=price_df.columns\n",
    ")\n",
    "\n",
    "price_df.tail(2)\n",
    "target_weight_df.tail(2)"
   ]
  },
  {
   "cell_type": "code",
   "execution_count": null,
   "metadata": {},
   "outputs": [],
   "source": [
    "cum_rtn_at_last_month_end = 169324\n",
    "individual_port_val_df_list = []\n",
    "\n",
    "prev_end_day = rebal_index[0]\n",
    "for end_day in rebal_index[1:]:\n",
    "    sub_price_df = price_df.loc[prev_end_day:end_day]\n",
    "    sub_cum_rtn_df = sub_price_df / sub_price_df.iloc[0]\n",
    "    \n",
    "    weight_series = target_weight_df.loc[prev_end_day]\n",
    "    indi_port_cum_rtn_df = (sub_cum_rtn_df * weight_series) * cum_rtn_at_last_month_end\n",
    "    \n",
    "    individual_port_val_df_list.append(indi_port_cum_rtn_df)\n",
    " \n",
    "    total_port_cum_rtn_series = indi_port_cum_rtn_df.sum(axis=1)\n",
    "    cum_rtn_at_last_month_end = total_port_cum_rtn_series.iloc[-1]\n",
    "\n",
    "    prev_end_day = end_day"
   ]
  },
  {
   "cell_type": "code",
   "execution_count": null,
   "metadata": {},
   "outputs": [],
   "source": [
    "indi_port_cum_rtn_df.head(1)"
   ]
  },
  {
   "cell_type": "code",
   "execution_count": null,
   "metadata": {},
   "outputs": [],
   "source": [
    "indi_port_cum_rtn_df.tail(1)"
   ]
  },
  {
   "cell_type": "code",
   "execution_count": null,
   "metadata": {},
   "outputs": [],
   "source": [
    "# 주의: 전략에 따라 scalar value or series가 될 수도 있음\n",
    "target_portval = cum_rtn_at_last_month_end / sub_price_df.shape[1]\n",
    "target_portval"
   ]
  },
  {
   "cell_type": "code",
   "execution_count": null,
   "metadata": {},
   "outputs": [],
   "source": [
    "diff = target_portval - indi_port_cum_rtn_df.iloc[-1]\n",
    "diff"
   ]
  },
  {
   "cell_type": "code",
   "execution_count": null,
   "metadata": {},
   "outputs": [],
   "source": [
    "sub_price_df.iloc[-1]"
   ]
  },
  {
   "cell_type": "code",
   "execution_count": null,
   "metadata": {},
   "outputs": [],
   "source": [
    "buy_or_sell_series = diff // sub_price_df.iloc[-1]\n",
    "buy_or_sell_series"
   ]
  },
  {
   "cell_type": "code",
   "execution_count": null,
   "metadata": {},
   "outputs": [],
   "source": [
    "for ticker, qty in buy_or_sell_series.items():\n",
    "    if qty > 0: \n",
    "        print(\"{}: {} x {}주 매수\".format(ticker, sub_price_df.iloc[-1].loc[ticker], qty))\n",
    "    elif qty < 0:\n",
    "        print(\"{}: {} x {}주 매도\".format(ticker, sub_price_df.iloc[-1].loc[ticker], qty * -1))"
   ]
  },
  {
   "cell_type": "code",
   "execution_count": null,
   "metadata": {},
   "outputs": [],
   "source": [
    "(sub_price_df / sub_price_df.iloc[0]).plot()"
   ]
  },
  {
   "cell_type": "markdown",
   "metadata": {},
   "source": [
    " "
   ]
  },
  {
   "cell_type": "markdown",
   "metadata": {},
   "source": [
    " "
   ]
  },
  {
   "cell_type": "markdown",
   "metadata": {},
   "source": [
    "## 참고자료: 동일가중 vs 60:40 비교 코드"
   ]
  },
  {
   "cell_type": "code",
   "execution_count": null,
   "metadata": {},
   "outputs": [],
   "source": [
    "import matplotlib.pyplot as plt\n",
    "\n",
    "from itertools import product\n",
    "from functools import reduce\n",
    "\n",
    "\n",
    "ticker_set_list = [\n",
    "    [\"SPY\", \"IEF\"],\n",
    "    [\"SPY\", \"SHY\"], \n",
    "    [\"QQQ\", \"IEF\"],\n",
    "    [\"QQQ\", \"SHY\"],\n",
    "]\n",
    "weight_set_list = [[0.5, 0.5], [0.6, 0.4]]\n",
    "rebal_set_list = [\"month\", \"yearly\"]\n",
    "\n",
    "total_price_df = pd.read_csv(\"data/us_etf_1.csv\", index_col=[0], parse_dates=True).loc[\"2002-12-30\":]\n",
    "correct_answer_series_list = []\n",
    "for ticker_set, weight_set, rebal_period in product(\n",
    "    ticker_set_list, weight_set_list, rebal_set_list\n",
    "):\n",
    "    price_df = total_price_df[ticker_set]\n",
    "\n",
    "    weight_df = price_df.copy()\n",
    "    weight_df.loc[:, :] = weight_set\n",
    "\n",
    "    if rebal_period == \"month\":\n",
    "        weight_df['year'] = weight_df.index.year\n",
    "        weight_df['month'] = weight_df.index.month\n",
    "\n",
    "        rebal_weight_df = weight_df.drop_duplicates(subset=['year', 'month'], keep='last')\n",
    "        rebal_weight_df = rebal_weight_df.drop(['year', 'month'], axis=1)\n",
    "    else:\n",
    "        weight_df['year'] = weight_df.index.year\n",
    "\n",
    "        rebal_weight_df = weight_df.drop_duplicates(subset=['year'], keep='last')\n",
    "        rebal_weight_df = rebal_weight_df.drop(['year'], axis=1)\n",
    "\n",
    "    first_day = rebal_weight_df.index[0]\n",
    "    cum_rtn_at_last_month_end = 1\n",
    "    concat_list = []\n",
    "    for end_day in rebal_weight_df.index[1:]:\n",
    "        one_month_price_df = price_df.loc[first_day:end_day]\n",
    "        one_month_cum_df = one_month_price_df / one_month_price_df.iloc[0]\n",
    "\n",
    "        weight_series = rebal_weight_df.loc[first_day]\n",
    "        port_rtn_df = one_month_cum_df.multiply(weight_series)\n",
    "\n",
    "        final_port_cum_rtn_series = port_rtn_df.sum(axis=1) * cum_rtn_at_last_month_end\n",
    "        concat_list.append(final_port_cum_rtn_series)\n",
    "\n",
    "        cum_rtn_at_last_month_end = final_port_cum_rtn_series.iloc[-1]\n",
    "        first_day = end_day\n",
    "\n",
    "    correct_answer_series = reduce(lambda x, y: pd.concat([x, y.iloc[1:]]), concat_list)\n",
    "    correct_answer_series.name = \"_\".join(ticker_set) + \"_\" + \"_\".join([str(w) for w in weight_set]) + \"_\" + rebal_period\n",
    "\n",
    "    correct_answer_series_list.append(correct_answer_series)"
   ]
  },
  {
   "cell_type": "code",
   "execution_count": null,
   "metadata": {},
   "outputs": [],
   "source": [
    "portval_df = pd.concat(correct_answer_series_list, axis=1)\n",
    "portval_df.plot(figsize=(15, 8))"
   ]
  },
  {
   "cell_type": "code",
   "execution_count": null,
   "metadata": {},
   "outputs": [],
   "source": [
    "a = get_sharpe_ratio(get_returns_df(portval_df, log=True)).to_frame(\"Sharpe Ratio\")\n",
    "b = get_CAGR_series(portval_df).to_frame(\"CAGR\")\n",
    "dd_df, mdd_series, longest_dd_period_df = get_drawdown_infos(portval_df)\n",
    "c = mdd_series.to_frame(\"MDD\")"
   ]
  },
  {
   "cell_type": "code",
   "execution_count": null,
   "metadata": {},
   "outputs": [],
   "source": [
    "a.sort_values(\"Sharpe Ratio\", ascending=False).head(30)"
   ]
  },
  {
   "cell_type": "code",
   "execution_count": null,
   "metadata": {},
   "outputs": [],
   "source": [
    "longest_dd_period_df"
   ]
  },
  {
   "cell_type": "code",
   "execution_count": null,
   "metadata": {},
   "outputs": [],
   "source": [
    "dd_df.plot(figsize=(20, 5))"
   ]
  },
  {
   "cell_type": "code",
   "execution_count": null,
   "metadata": {},
   "outputs": [],
   "source": [
    "pd.concat([a, b, c], axis=1).sort_values([\"Sharpe Ratio\", \"CAGR\"], ascending=False)"
   ]
  },
  {
   "cell_type": "markdown",
   "metadata": {},
   "source": [
    " "
   ]
  },
  {
   "cell_type": "markdown",
   "metadata": {},
   "source": [
    " "
   ]
  }
 ],
 "metadata": {
  "kernelspec": {
   "display_name": "Python 3 (ipykernel)",
   "language": "python",
   "name": "python3"
  },
  "language_info": {
   "codemirror_mode": {
    "name": "ipython",
    "version": 3
   },
   "file_extension": ".py",
   "mimetype": "text/x-python",
   "name": "python",
   "nbconvert_exporter": "python",
   "pygments_lexer": "ipython3",
   "version": "3.9.5"
  },
  "toc": {
   "base_numbering": 1,
   "nav_menu": {},
   "number_sections": true,
   "sideBar": true,
   "skip_h1_title": false,
   "title_cell": "Table of Contents",
   "title_sidebar": "Contents",
   "toc_cell": false,
   "toc_position": {
    "height": "calc(100% - 180px)",
    "left": "10px",
    "top": "150px",
    "width": "295.969px"
   },
   "toc_section_display": true,
   "toc_window_display": true
  },
  "toc-autonumbering": true
 },
 "nbformat": 4,
 "nbformat_minor": 4
}
