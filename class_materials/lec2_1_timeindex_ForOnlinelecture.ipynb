{
 "cells": [
  {
   "cell_type": "markdown",
   "metadata": {},
   "source": [
    "# [중요] 수강 전 필독  "
   ]
  },
  {
   "cell_type": "markdown",
   "metadata": {},
   "source": [
    "1. 아래 내용들은 수업 전 반드시 참고하시길 바랍니다.\n",
    "    - 강의 상세페이지\n",
    "    - '오리엔테이션' 시청\n",
    "    - jupyter 파일 내 목차가 보이도록 하는 extension 설치하는 법: (https://www.inflearn.com/course/생초보-입문-파이썬/lecture/73183)\n",
    "    - 수업자료에 있는 `requirements.txt`에 대해 `pip install -r requirements.txt`를 통해 설치해주세요\n",
    "        - 잘모르시겠다면 https://www.inflearn.com/course/파이썬-웹크롤링-업무자동화/lecture/73447 를 참고해주세요\n",
    "\n",
    "2. 본 수업과 관련이 있는 다른 수업들\n",
    "    1. **[선행수업]** 문과생도, 비전공자도, 누구나 배울 수 있는 파이썬 (무료): https://www.inflearn.com/course/생초보-입문-파이썬?inst=659a82bb\n",
    "    2. **[선행수업]** 파이썬(Python)으로 데이터 기반 주식 퀀트 투자하기 part1: https://www.inflearn.com/course/파이썬-판다스-퀀트-투자?inst=b50adcaa\n",
    "    3. [선택수업] 내 업무를 대신 할 파이썬(Python) 웹크롤링 & 자동화: https://www.inflearn.com/course/파이썬-웹크롤링-업무자동화?inst=631f2f8e\n",
    "\n",
    "3. **[중요]** 데이터 관련         \n",
    "    - 본 수업에서 제공하는 price 데이터(`us_etf_1.csv`, `us_etf2.csv`)는 '수정종가(adjusted close)이기 때문에 1) 언제, 2) 어느 데이터 소스에서 데이터를 가져오느냐에 따라, 수업 영상에서 보이는 값과 서로 상이할 수 있습니다. 또한 `FinanceDataReader` 역시 언제 해당 api를 호출하느냐에따라 값이 다르게 나올 수 있습니다(추가 '수정(adjustment)' 사항이 발생했을 수도 있기 때문)\n",
    "    - 데이터는 크롤링 등의 방법(e.g. 내 업무를 대신 할 파이썬(Python) 웹크롤링 & 자동화 에서 배운 내용) 등을 사용하여 수강생분들의 재량에 따라 자유롭게 대체 가능합니다. 본 수업에서는 시간관계상, 그리고 수업 진행의 일관성을 위해 csv 데이터 제공 혹은 `FinanceDataReader`을 사용했으니 참고바랍니다.\n",
    "\n",
    "4. **[중요]** 모든 수업 영상 및 모든 jupyter파일에서는 아래 cell에 있는 코드(import 관련 코드)는 항상 실행이 되었다고 가정합니다."
   ]
  },
  {
   "cell_type": "code",
   "execution_count": null,
   "metadata": {},
   "outputs": [],
   "source": [
    "#\n",
    "# 앞으로 수업에서 실행이 되었다고 가정하는 코드\n",
    "#\n",
    "\n",
    "# 그래프 시각화 시, jupyter에서 바로 표현되게 만드는 magic command\n",
    "%matplotlib inline\n",
    "\n",
    "# jupyter의 code cell에서 print() 함수 호출 없이, (복수의)변수명만 입력하면 해당 변수들의 값들이 한번에 출력이 되도록 해주는 설정입니다.\n",
    "# 구글에 \"multiple output in jupyter withtout print()\" 로 검색하면 나오는 코드 중에 하나이니, 딱히 외우거나 하시지 않아도 됩니다.\n",
    "from IPython.core.interactiveshell import InteractiveShell\n",
    "InteractiveShell.ast_node_interactivity = \"all\"\n",
    "\n",
    "import pandas as pd\n",
    "import numpy as np\n",
    "pd.set_option('display.float_format', lambda x: '%.3f' % x)    # DataFrame 숫자데이터가 소수점 셋째자리까지 나오도록 설정\n",
    "pd.set_option('max_columns', None)  # DataFrame에서 모든 컬럼을 다 볼 수 있게 설정\n",
    "\n",
    "from datetime import datetime"
   ]
  },
  {
   "cell_type": "markdown",
   "metadata": {},
   "source": [
    " "
   ]
  },
  {
   "cell_type": "markdown",
   "metadata": {},
   "source": [
    " "
   ]
  },
  {
   "cell_type": "markdown",
   "metadata": {},
   "source": [
    " "
   ]
  },
  {
   "cell_type": "markdown",
   "metadata": {},
   "source": [
    " "
   ]
  },
  {
   "cell_type": "markdown",
   "metadata": {},
   "source": [
    " "
   ]
  },
  {
   "cell_type": "markdown",
   "metadata": {},
   "source": [
    " "
   ]
  },
  {
   "cell_type": "markdown",
   "metadata": {},
   "source": [
    " "
   ]
  },
  {
   "cell_type": "markdown",
   "metadata": {},
   "source": [
    "# `Timestamp` & `DatetimeIndex`"
   ]
  },
  {
   "cell_type": "markdown",
   "metadata": {},
   "source": [
    "- Python's `datetime` vs Pandas's `TimeStamp`\n",
    "    - `TimeStamp`는 Numpy의 datetime64 based \n",
    "    - `TimeStamp` 클래스의 object가 Python의 `datetime` object보다 더 높은 정밀도를 갖는다 \n",
    "- `DatetimeIndex`: 다수의 `TimeStamp` object를 하나의 변수로 관리해주는 클래스\n",
    "    - Python `list`에 `TimeStamp` object를 저장하는 것보다 더 최적화가 잘되어있음"
   ]
  },
  {
   "cell_type": "markdown",
   "metadata": {},
   "source": [
    " "
   ]
  },
  {
   "cell_type": "markdown",
   "metadata": {},
   "source": [
    "## `TimeStamp` object"
   ]
  },
  {
   "cell_type": "code",
   "execution_count": null,
   "metadata": {},
   "outputs": [],
   "source": [
    "from datetime import datetime"
   ]
  },
  {
   "cell_type": "code",
   "execution_count": null,
   "metadata": {},
   "outputs": [],
   "source": [
    "datetime(2021, 1, 1)\n",
    "type(datetime(2021, 1, 1))"
   ]
  },
  {
   "cell_type": "code",
   "execution_count": null,
   "metadata": {},
   "outputs": [],
   "source": [
    "a = datetime(2014, 8, 1)\n",
    "b = pd.Timestamp(a)\n",
    "b"
   ]
  },
  {
   "cell_type": "code",
   "execution_count": null,
   "metadata": {},
   "outputs": [],
   "source": [
    "pd.Timestamp(\"2021-01-02\")"
   ]
  },
  {
   "cell_type": "markdown",
   "metadata": {},
   "source": [
    " "
   ]
  },
  {
   "cell_type": "markdown",
   "metadata": {},
   "source": [
    " "
   ]
  },
  {
   "cell_type": "markdown",
   "metadata": {},
   "source": [
    "## `DatetimeIndex`  object"
   ]
  },
  {
   "cell_type": "code",
   "execution_count": null,
   "metadata": {},
   "outputs": [],
   "source": [
    "dates = [datetime(2014, 8, 1), datetime(2014, 8, 5)]\n",
    "type(dates)"
   ]
  },
  {
   "cell_type": "markdown",
   "metadata": {},
   "source": [
    "### `DatetimeIndex()`"
   ]
  },
  {
   "cell_type": "code",
   "execution_count": null,
   "metadata": {},
   "outputs": [],
   "source": [
    "dti = pd.DatetimeIndex(dates)\n",
    "dti"
   ]
  },
  {
   "cell_type": "markdown",
   "metadata": {},
   "source": [
    "### `pd.to_datetime()`"
   ]
  },
  {
   "cell_type": "code",
   "execution_count": null,
   "metadata": {},
   "outputs": [],
   "source": [
    "# 2nd method\n",
    "pd.to_datetime(dates)"
   ]
  },
  {
   "cell_type": "code",
   "execution_count": null,
   "metadata": {},
   "outputs": [],
   "source": [
    "pd.to_datetime(dates)[0]"
   ]
  },
  {
   "cell_type": "code",
   "execution_count": null,
   "metadata": {},
   "outputs": [],
   "source": [
    "type(pd.to_datetime(dates)[0])"
   ]
  },
  {
   "cell_type": "markdown",
   "metadata": {},
   "source": [
    "### `Series`'s index"
   ]
  },
  {
   "cell_type": "code",
   "execution_count": null,
   "metadata": {},
   "outputs": [],
   "source": [
    "import numpy as np"
   ]
  },
  {
   "cell_type": "code",
   "execution_count": null,
   "metadata": {},
   "outputs": [],
   "source": [
    "dates = [datetime(2014, 8, 1), datetime(2014, 8, 5)]\n",
    "ts = pd.Series(np.random.randn(2), index=dates)\n",
    "ts"
   ]
  },
  {
   "cell_type": "code",
   "execution_count": null,
   "metadata": {},
   "outputs": [],
   "source": [
    "ts.index"
   ]
  },
  {
   "cell_type": "code",
   "execution_count": null,
   "metadata": {},
   "outputs": [],
   "source": [
    "type(ts.index)"
   ]
  },
  {
   "cell_type": "markdown",
   "metadata": {},
   "source": [
    " "
   ]
  },
  {
   "cell_type": "markdown",
   "metadata": {},
   "source": [
    " "
   ]
  },
  {
   "cell_type": "markdown",
   "metadata": {},
   "source": [
    " "
   ]
  },
  {
   "cell_type": "markdown",
   "metadata": {},
   "source": [
    " "
   ]
  },
  {
   "cell_type": "markdown",
   "metadata": {},
   "source": [
    "## 인덱싱"
   ]
  },
  {
   "cell_type": "code",
   "execution_count": null,
   "metadata": {},
   "outputs": [],
   "source": [
    "ts"
   ]
  },
  {
   "cell_type": "code",
   "execution_count": null,
   "metadata": {},
   "outputs": [],
   "source": [
    "ts.loc[pd.Timestamp(\"2014-08-01\")]"
   ]
  },
  {
   "cell_type": "code",
   "execution_count": null,
   "metadata": {},
   "outputs": [],
   "source": [
    "ts.loc[datetime(2014, 8, 1)]\n",
    "ts.loc[\"2014-08-01\"]"
   ]
  },
  {
   "cell_type": "code",
   "execution_count": null,
   "metadata": {},
   "outputs": [],
   "source": [
    "# True\n",
    "pd.Timestamp(dates[0])  == datetime(2014, 8, 1)\n",
    "pd.to_datetime(dates)[0] == datetime(2014, 8, 1)\n",
    "\n",
    "# False \n",
    "pd.to_datetime(dates)[0] == \"2014-08-01\""
   ]
  },
  {
   "cell_type": "code",
   "execution_count": null,
   "metadata": {},
   "outputs": [],
   "source": [
    "ts = ts.sort_index()\n",
    "ts"
   ]
  },
  {
   "cell_type": "code",
   "execution_count": null,
   "metadata": {},
   "outputs": [],
   "source": [
    "ts.loc[\"2014-08-01\"]"
   ]
  },
  {
   "cell_type": "code",
   "execution_count": null,
   "metadata": {},
   "outputs": [],
   "source": [
    "ts.loc[\"2014-08\"]"
   ]
  },
  {
   "cell_type": "code",
   "execution_count": null,
   "metadata": {},
   "outputs": [],
   "source": [
    "ts.loc[\"2014-08-01\":]"
   ]
  },
  {
   "cell_type": "code",
   "execution_count": null,
   "metadata": {},
   "outputs": [],
   "source": [
    "# 주의! list 인덱싱과는 다르게 양끝 포함\n",
    "ts.loc[\"2014-08-01\":\"2014-08-05\"]"
   ]
  },
  {
   "cell_type": "markdown",
   "metadata": {},
   "source": [
    " "
   ]
  },
  {
   "cell_type": "markdown",
   "metadata": {},
   "source": [
    " "
   ]
  },
  {
   "cell_type": "markdown",
   "metadata": {},
   "source": [
    " "
   ]
  },
  {
   "cell_type": "markdown",
   "metadata": {},
   "source": [
    " "
   ]
  },
  {
   "cell_type": "markdown",
   "metadata": {},
   "source": [
    " "
   ]
  },
  {
   "cell_type": "markdown",
   "metadata": {},
   "source": [
    " "
   ]
  },
  {
   "cell_type": "markdown",
   "metadata": {},
   "source": [
    " "
   ]
  },
  {
   "cell_type": "markdown",
   "metadata": {},
   "source": [
    "##  `pd.date_range()`"
   ]
  },
  {
   "cell_type": "code",
   "execution_count": null,
   "metadata": {},
   "outputs": [],
   "source": [
    "dates = pd.date_range('2014-08-01', periods=10, freq=\"D\")\n",
    "dates"
   ]
  },
  {
   "cell_type": "code",
   "execution_count": null,
   "metadata": {},
   "outputs": [],
   "source": [
    "dates = pd.date_range('2014-08-01', periods=10, freq=\"B\")\n",
    "dates"
   ]
  },
  {
   "cell_type": "code",
   "execution_count": null,
   "metadata": {},
   "outputs": [],
   "source": [
    "dates = pd.date_range('2014-08-01', \"2014-08-14\", freq=\"D\")\n",
    "dates"
   ]
  },
  {
   "cell_type": "markdown",
   "metadata": {},
   "source": [
    " "
   ]
  },
  {
   "cell_type": "markdown",
   "metadata": {},
   "source": [
    " "
   ]
  },
  {
   "cell_type": "markdown",
   "metadata": {},
   "source": [
    " "
   ]
  },
  {
   "cell_type": "markdown",
   "metadata": {},
   "source": [
    " "
   ]
  },
  {
   "cell_type": "markdown",
   "metadata": {},
   "source": [
    "# `Period` & `PeriodIndex`"
   ]
  },
  {
   "cell_type": "markdown",
   "metadata": {},
   "source": [
    "- `Period`= interval of datetime\n",
    "- `PeriodIndex` = 다수의 `Period` object를 하나의 변수로 관리해주는 클래스\n",
    "    - `DateTimeIndex`= sequence of `Timestamp`"
   ]
  },
  {
   "cell_type": "markdown",
   "metadata": {},
   "source": [
    "## `Period` object"
   ]
  },
  {
   "cell_type": "code",
   "execution_count": null,
   "metadata": {},
   "outputs": [],
   "source": [
    "period = pd.Period('2014-08', freq='Q')  # freq= \"D\", \"M\", .. etc\n",
    "period"
   ]
  },
  {
   "cell_type": "code",
   "execution_count": null,
   "metadata": {},
   "outputs": [],
   "source": [
    "period.start_time\n",
    "period.end_time"
   ]
  },
  {
   "cell_type": "code",
   "execution_count": null,
   "metadata": {},
   "outputs": [],
   "source": [
    "# +1 ==> `freq`에 해당하는 단위가 더해짐 (여기서는 1Q)\n",
    "period2 = period + 1\n",
    "period2"
   ]
  },
  {
   "cell_type": "code",
   "execution_count": null,
   "metadata": {},
   "outputs": [],
   "source": [
    "period2.start_time\n",
    "period2.end_time"
   ]
  },
  {
   "cell_type": "markdown",
   "metadata": {},
   "source": [
    " "
   ]
  },
  {
   "cell_type": "markdown",
   "metadata": {},
   "source": [
    " "
   ]
  },
  {
   "cell_type": "markdown",
   "metadata": {},
   "source": [
    "## `PeriodIndex` object"
   ]
  },
  {
   "cell_type": "code",
   "execution_count": null,
   "metadata": {},
   "outputs": [],
   "source": [
    "p2013 = pd.period_range('2013-01-01', '2013-12-31', freq='M')\n",
    "p2013"
   ]
  },
  {
   "cell_type": "code",
   "execution_count": null,
   "metadata": {},
   "outputs": [],
   "source": [
    "p2013[0]"
   ]
  },
  {
   "cell_type": "code",
   "execution_count": null,
   "metadata": {},
   "outputs": [],
   "source": [
    "for p in p2013:\n",
    "    print(\"{0} {1} {2} {3}\".format(p, p.freq, p.start_time, p.end_time))"
   ]
  },
  {
   "cell_type": "markdown",
   "metadata": {},
   "source": [
    " "
   ]
  },
  {
   "cell_type": "markdown",
   "metadata": {},
   "source": [
    "### `DatetimeIndex`와 차이 "
   ]
  },
  {
   "cell_type": "code",
   "execution_count": null,
   "metadata": {},
   "outputs": [],
   "source": [
    "# DateTimeIndex : collections of `Timestamp` objects\n",
    "a = pd.date_range('1/1/2013', '12/31/2013', freq='M')\n",
    "a\n",
    "a[0]"
   ]
  },
  {
   "cell_type": "code",
   "execution_count": null,
   "metadata": {},
   "outputs": [],
   "source": [
    "# PeriodIndex : collections of `Period` objects\n",
    "b = pd.period_range('1/1/2013', '12/31/2013', freq='M')\n",
    "b\n",
    "b[0]"
   ]
  },
  {
   "cell_type": "markdown",
   "metadata": {},
   "source": [
    " "
   ]
  },
  {
   "cell_type": "markdown",
   "metadata": {},
   "source": [
    " "
   ]
  },
  {
   "cell_type": "markdown",
   "metadata": {},
   "source": [
    "### As a `Series`'s index"
   ]
  },
  {
   "cell_type": "code",
   "execution_count": null,
   "metadata": {},
   "outputs": [],
   "source": [
    "# 해당 index는 이제 특정 date(time) 시점을 의미하는 것이 아닌, date 범위(range)를 의미\n",
    "ps = pd.Series(np.random.randn(12), p2013)\n",
    "ps"
   ]
  },
  {
   "cell_type": "code",
   "execution_count": null,
   "metadata": {},
   "outputs": [],
   "source": [
    "ps.loc[\"2013-11\"]"
   ]
  },
  {
   "cell_type": "code",
   "execution_count": null,
   "metadata": {},
   "outputs": [],
   "source": [
    "ps.loc[\"2013-11\":]"
   ]
  }
 ],
 "metadata": {
  "kernelspec": {
   "display_name": "Python 3 (ipykernel)",
   "language": "python",
   "name": "python3"
  },
  "language_info": {
   "codemirror_mode": {
    "name": "ipython",
    "version": 3
   },
   "file_extension": ".py",
   "mimetype": "text/x-python",
   "name": "python",
   "nbconvert_exporter": "python",
   "pygments_lexer": "ipython3",
   "version": "3.9.5"
  },
  "toc": {
   "base_numbering": 1,
   "nav_menu": {},
   "number_sections": true,
   "sideBar": true,
   "skip_h1_title": false,
   "title_cell": "Table of Contents",
   "title_sidebar": "Contents",
   "toc_cell": false,
   "toc_position": {
    "height": "calc(100% - 180px)",
    "left": "10px",
    "top": "150px",
    "width": "303px"
   },
   "toc_section_display": true,
   "toc_window_display": true
  },
  "toc-autonumbering": true,
  "toc-showcode": false
 },
 "nbformat": 4,
 "nbformat_minor": 4
}
