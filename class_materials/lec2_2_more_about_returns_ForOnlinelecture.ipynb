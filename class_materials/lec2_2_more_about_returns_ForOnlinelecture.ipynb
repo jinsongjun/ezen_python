{
 "cells": [
  {
   "cell_type": "markdown",
   "metadata": {},
   "source": [
    " "
   ]
  },
  {
   "cell_type": "markdown",
   "metadata": {},
   "source": [
    "**수업을 수강하시기 전, lec2_1.ipynb의 \"수강 전 필독\"을 반드시 확인해주세요**"
   ]
  },
  {
   "cell_type": "code",
   "execution_count": null,
   "metadata": {},
   "outputs": [],
   "source": [
    "import pandas as pd\n",
    "\n",
    "pd.set_option('display.float_format', lambda x: '%.4f' % x)"
   ]
  },
  {
   "cell_type": "markdown",
   "metadata": {},
   "source": [
    "# About returns(수익률)"
   ]
  },
  {
   "cell_type": "code",
   "execution_count": null,
   "metadata": {},
   "outputs": [],
   "source": [
    "df = pd.DataFrame(\n",
    "    {\n",
    "        \"price\":[1, 1.02, 1.01, 1.05],\n",
    "    },\n",
    "    index=[1,2,3,4]\n",
    ")\n",
    "df"
   ]
  },
  {
   "cell_type": "markdown",
   "metadata": {},
   "source": [
    "## Simple daily return (일별 수익률)"
   ]
  },
  {
   "cell_type": "markdown",
   "metadata": {},
   "source": [
    "\n",
    "- $r_n = {{p_{n}} \\over {p_{n-1}}} - 1$"
   ]
  },
  {
   "cell_type": "markdown",
   "metadata": {},
   "source": [
    "- Example1: Daily return\n",
    "    - $r_s$: 1.02/1 - 1 = 0.02\n",
    "        - Percentage(%) = 0.02 * 100 = 2%\n",
    "    - `returns` = [0, 0.02, -0.0098, 0.0396]"
   ]
  },
  {
   "cell_type": "markdown",
   "metadata": {},
   "source": [
    "- Example2: Cumulative return\n",
    "    1. Using `returns`\n",
    "        1*(1 + 0.02)(1 - 0.0098)(1 + 0.0396)/1 - 1 = 0.05\n",
    "    2. Using first/last price value\n",
    "        - 1.05/1 - 1 = 0.05"
   ]
  },
  {
   "cell_type": "markdown",
   "metadata": {},
   "source": [
    "- Example3: Average daily return\n",
    "    - $1*(1+x)^3$ = 1*(1 + 0.02)(1 - 0.0098)(1 + 0.0396)/1 = 1.05/1 = ${p_4}\\over{p_1}$\n",
    "        - $1 + x = {{{p_4}\\over{p_1}}^{1/3}}$\n",
    "    - ${p_n \\over p_1}^{1\\over(n-1)}$\n",
    "    - 참고\n",
    "        - [ X ] ${0.02 - 0.0098 + 0.0396} \\over 3$ (산술평균)\n",
    "            - 이 값은 실제 위의 식을 풀어서 구한 x값과는 다른 값이 나오게 됨\n",
    "        - 복리(Compound)\n",
    "            - (0.02의 수익을 얻은 후의 값)에 대해서 (-0.0098)의 손실을 본것이지, (원금)에 대해서 0.02, -0.0098 등의 손익, 손실을 본 것이 아님!\n",
    "    \n",
    "    "
   ]
  },
  {
   "cell_type": "markdown",
   "metadata": {},
   "source": [
    " "
   ]
  },
  {
   "cell_type": "markdown",
   "metadata": {},
   "source": [
    " "
   ]
  },
  {
   "cell_type": "markdown",
   "metadata": {},
   "source": [
    "## Log daily return (일별 로그 수익률)"
   ]
  },
  {
   "cell_type": "markdown",
   "metadata": {},
   "source": [
    "- $r_n = log{{p_{n}} \\over {p_{n-1}}}$\n",
    "    - natural log"
   ]
  },
  {
   "cell_type": "markdown",
   "metadata": {},
   "source": [
    "- Example1: Daily return\n",
    "    - $r_2$: $log({{1.02} \\over {1}})$ = 0.0198\n",
    "    - `returns` = [0, 0.01980263, -0.0098523,  0.03883983]\n",
    "        - simple daily return 값이랑 거의 유사"
   ]
  },
  {
   "cell_type": "markdown",
   "metadata": {},
   "source": [
    "- Example2: Cumulative return\n",
    "    - Using `returns`\n",
    "        - `sum(returns)` = $log{{p_2} \\over {p_1}} + log{{p_3} \\over {p_2}} + log{{p_4} \\over {p_3}} = log{{p_4} \\over {p_1}}$\n",
    "        - cum return = $e^{log{{p_4} \\over {p_1}}} - 1$\n",
    "            - np.exp(0.01980263 -0.0098523 + 0.03883983) - 1 = 0.05\n",
    "    - Using only last price value\n",
    "        - 1.05/1 - 1 = 0.05"
   ]
  },
  {
   "cell_type": "markdown",
   "metadata": {},
   "source": [
    "- Example3: Average daily return\n",
    "    - 이 경우, Average **log** daily return을 구하게됨\n",
    "    - 곱이 아니라, 그냥 산술평균으로 가능!\n",
    "        - why?\n",
    "            - ${{1}\\over{3}}(log{{p_2} \\over {p_1}} + log{{p_3} \\over {p_2}} + log{{p_4} \\over {p_3}})$\n",
    "            - = ${{1}\\over{3}}log{{p_4} \\over {p_1}}$ = $log({{p_4} \\over {p_1}})^{{1}\\over{3}}$\n",
    "            - 후에 exponential만 취해주면, Simple Daily return에서 Avg return 구할 때의 형태가 나옴!\n",
    "    \n",
    "   "
   ]
  },
  {
   "cell_type": "markdown",
   "metadata": {},
   "source": [
    " "
   ]
  },
  {
   "cell_type": "markdown",
   "metadata": {},
   "source": [
    " "
   ]
  },
  {
   "cell_type": "markdown",
   "metadata": {},
   "source": [
    " "
   ]
  },
  {
   "cell_type": "markdown",
   "metadata": {},
   "source": [
    " "
   ]
  },
  {
   "cell_type": "markdown",
   "metadata": {},
   "source": [
    " "
   ]
  },
  {
   "cell_type": "markdown",
   "metadata": {},
   "source": [
    "## Simple return <--> log return "
   ]
  },
  {
   "cell_type": "markdown",
   "metadata": {},
   "source": [
    "$$\n",
    "\\begin{aligned}\n",
    "r_l = log(r_s + 1) \\\\\n",
    "r_s = e^{r_l} - 1\n",
    "\\end{aligned}\n",
    "$$"
   ]
  },
  {
   "cell_type": "markdown",
   "metadata": {},
   "source": [
    " "
   ]
  },
  {
   "cell_type": "markdown",
   "metadata": {},
   "source": [
    " "
   ]
  },
  {
   "cell_type": "markdown",
   "metadata": {},
   "source": [
    " "
   ]
  },
  {
   "cell_type": "markdown",
   "metadata": {},
   "source": [
    " "
   ]
  },
  {
   "cell_type": "markdown",
   "metadata": {},
   "source": [
    " "
   ]
  },
  {
   "cell_type": "markdown",
   "metadata": {},
   "source": [
    " "
   ]
  },
  {
   "cell_type": "markdown",
   "metadata": {},
   "source": [
    " "
   ]
  },
  {
   "cell_type": "markdown",
   "metadata": {},
   "source": [
    " "
   ]
  },
  {
   "cell_type": "markdown",
   "metadata": {},
   "source": [
    "# 일별 수익률(Daily Return) - Code"
   ]
  },
  {
   "cell_type": "code",
   "execution_count": null,
   "metadata": {},
   "outputs": [],
   "source": [
    "import FinanceDataReader as fdr\n",
    "\n",
    "df1 = fdr.DataReader(\"005930\", '2018-01-02', '2018-10-30')\n",
    "df2 = fdr.DataReader(\"069500\", '2018-01-02', '2018-10-30')\n",
    "df = pd.concat([df1['Close'], df2['Close']], axis=1)\n",
    "df.columns = ['삼성전자', 'KODEX 200']\n",
    "df.head()"
   ]
  },
  {
   "cell_type": "markdown",
   "metadata": {},
   "source": [
    " "
   ]
  },
  {
   "cell_type": "markdown",
   "metadata": {},
   "source": [
    " "
   ]
  },
  {
   "cell_type": "markdown",
   "metadata": {},
   "source": [
    " "
   ]
  },
  {
   "cell_type": "markdown",
   "metadata": {},
   "source": [
    " "
   ]
  },
  {
   "cell_type": "markdown",
   "metadata": {},
   "source": [
    "## `shift()`"
   ]
  },
  {
   "cell_type": "code",
   "execution_count": null,
   "metadata": {},
   "outputs": [],
   "source": [
    "df.shift()"
   ]
  },
  {
   "cell_type": "code",
   "execution_count": null,
   "metadata": {},
   "outputs": [],
   "source": [
    "df.shift(periods=1).head()"
   ]
  },
  {
   "cell_type": "code",
   "execution_count": null,
   "metadata": {},
   "outputs": [],
   "source": [
    "df.shift(1, freq=\"S\").head()"
   ]
  },
  {
   "cell_type": "code",
   "execution_count": null,
   "metadata": {},
   "outputs": [],
   "source": [
    "df.head()\n",
    "df.shift().head()"
   ]
  },
  {
   "cell_type": "code",
   "execution_count": null,
   "metadata": {},
   "outputs": [],
   "source": [
    "(df / df.shift() - 1)"
   ]
  },
  {
   "cell_type": "markdown",
   "metadata": {},
   "source": [
    " "
   ]
  },
  {
   "cell_type": "markdown",
   "metadata": {},
   "source": [
    " "
   ]
  },
  {
   "cell_type": "markdown",
   "metadata": {},
   "source": [
    " "
   ]
  },
  {
   "cell_type": "markdown",
   "metadata": {},
   "source": [
    "## `pct_change()`"
   ]
  },
  {
   "cell_type": "code",
   "execution_count": null,
   "metadata": {},
   "outputs": [],
   "source": [
    "df.pct_change(periods=1).head()"
   ]
  },
  {
   "cell_type": "code",
   "execution_count": null,
   "metadata": {},
   "outputs": [],
   "source": [
    "df.pct_change(periods=2).head()"
   ]
  },
  {
   "cell_type": "markdown",
   "metadata": {},
   "source": [
    " "
   ]
  },
  {
   "cell_type": "markdown",
   "metadata": {},
   "source": [
    " "
   ]
  },
  {
   "cell_type": "markdown",
   "metadata": {},
   "source": [
    "## Simple return"
   ]
  },
  {
   "cell_type": "code",
   "execution_count": null,
   "metadata": {},
   "outputs": [],
   "source": [
    "simple_rtn_df = df.pct_change().fillna(0)\n",
    "simple_rtn_df.head()"
   ]
  },
  {
   "cell_type": "markdown",
   "metadata": {},
   "source": [
    " "
   ]
  },
  {
   "cell_type": "markdown",
   "metadata": {},
   "source": [
    " "
   ]
  },
  {
   "cell_type": "markdown",
   "metadata": {},
   "source": [
    " "
   ]
  },
  {
   "cell_type": "markdown",
   "metadata": {},
   "source": [
    " "
   ]
  },
  {
   "cell_type": "markdown",
   "metadata": {},
   "source": [
    "## Log return"
   ]
  },
  {
   "cell_type": "code",
   "execution_count": null,
   "metadata": {},
   "outputs": [],
   "source": [
    "np.log(df / df.shift())"
   ]
  },
  {
   "cell_type": "code",
   "execution_count": null,
   "metadata": {},
   "outputs": [],
   "source": [
    "# = np.log(df.pct_change() + 1)\n",
    "log_rtn_df = np.log(df / df.shift()).fillna(0)\n",
    "log_rtn_df.head()"
   ]
  },
  {
   "cell_type": "markdown",
   "metadata": {},
   "source": [
    " "
   ]
  },
  {
   "cell_type": "markdown",
   "metadata": {},
   "source": [
    " "
   ]
  },
  {
   "cell_type": "markdown",
   "metadata": {},
   "source": [
    " "
   ]
  },
  {
   "cell_type": "markdown",
   "metadata": {},
   "source": [
    " "
   ]
  },
  {
   "cell_type": "markdown",
   "metadata": {},
   "source": [
    " "
   ]
  },
  {
   "cell_type": "markdown",
   "metadata": {},
   "source": [
    " "
   ]
  },
  {
   "cell_type": "markdown",
   "metadata": {},
   "source": [
    " "
   ]
  },
  {
   "cell_type": "markdown",
   "metadata": {},
   "source": [
    "## Return visualization "
   ]
  },
  {
   "cell_type": "code",
   "execution_count": null,
   "metadata": {},
   "outputs": [],
   "source": [
    "import matplotlib.pyplot as plt\n",
    "import seaborn as sns"
   ]
  },
  {
   "cell_type": "code",
   "execution_count": null,
   "metadata": {},
   "outputs": [],
   "source": [
    "import matplotlib\n",
    "import matplotlib.font_manager as fm\n",
    "\n",
    "matplotlib.rcParams['axes.unicode_minus'] = False\n",
    "\n",
    "# font_location = \"C:/Windows/Fonts/NanumGothic.ttf\"\n",
    "font_location = \"/Library/Fonts/NanumBarunGothic.ttf\" \n",
    "font_name = fm.FontProperties(fname=font_location).get_name()\n",
    "matplotlib.rc('font', family=font_name)"
   ]
  },
  {
   "cell_type": "code",
   "execution_count": null,
   "metadata": {},
   "outputs": [],
   "source": [
    "log_rtn_df.plot()"
   ]
  },
  {
   "cell_type": "code",
   "execution_count": null,
   "metadata": {},
   "outputs": [],
   "source": [
    "log_rtn_df.hist(bins=50, sharex=True)"
   ]
  },
  {
   "cell_type": "code",
   "execution_count": null,
   "metadata": {},
   "outputs": [],
   "source": [
    "log_rtn_df.boxplot()"
   ]
  },
  {
   "cell_type": "code",
   "execution_count": null,
   "metadata": {},
   "outputs": [],
   "source": [
    "sns.distplot(log_rtn_df['KODEX 200'], kde=False, bins=50);\n",
    "sns.distplot(log_rtn_df['삼성전자'], kde=False, bins=50);"
   ]
  },
  {
   "cell_type": "code",
   "execution_count": null,
   "metadata": {},
   "outputs": [],
   "source": [
    "sns.pairplot(log_rtn_df);"
   ]
  },
  {
   "cell_type": "markdown",
   "metadata": {},
   "source": [
    " "
   ]
  },
  {
   "cell_type": "markdown",
   "metadata": {},
   "source": [
    " "
   ]
  },
  {
   "cell_type": "markdown",
   "metadata": {},
   "source": [
    " "
   ]
  },
  {
   "cell_type": "markdown",
   "metadata": {},
   "source": [
    " "
   ]
  },
  {
   "cell_type": "markdown",
   "metadata": {},
   "source": [
    " "
   ]
  },
  {
   "cell_type": "markdown",
   "metadata": {},
   "source": [
    " "
   ]
  },
  {
   "cell_type": "markdown",
   "metadata": {},
   "source": [
    " "
   ]
  },
  {
   "cell_type": "markdown",
   "metadata": {},
   "source": [
    " "
   ]
  },
  {
   "cell_type": "markdown",
   "metadata": {},
   "source": [
    " "
   ]
  },
  {
   "cell_type": "markdown",
   "metadata": {},
   "source": [
    " "
   ]
  },
  {
   "cell_type": "markdown",
   "metadata": {},
   "source": [
    " "
   ]
  },
  {
   "cell_type": "markdown",
   "metadata": {},
   "source": [
    "# 누적 수익률(Cumulative return) - Code\n"
   ]
  },
  {
   "cell_type": "code",
   "execution_count": null,
   "metadata": {},
   "outputs": [],
   "source": [
    "df.head()"
   ]
  },
  {
   "cell_type": "code",
   "execution_count": null,
   "metadata": {},
   "outputs": [],
   "source": [
    "df.iloc[0]"
   ]
  },
  {
   "cell_type": "markdown",
   "metadata": {},
   "source": [
    "## From price data"
   ]
  },
  {
   "cell_type": "code",
   "execution_count": null,
   "metadata": {},
   "outputs": [],
   "source": [
    "cum_rtn_df = df / df.iloc[0]\n",
    "cum_rtn_df.head()"
   ]
  },
  {
   "cell_type": "code",
   "execution_count": null,
   "metadata": {},
   "outputs": [],
   "source": [
    "cum_rtn_df * 5000000"
   ]
  },
  {
   "cell_type": "markdown",
   "metadata": {},
   "source": [
    " "
   ]
  },
  {
   "cell_type": "markdown",
   "metadata": {},
   "source": [
    " "
   ]
  },
  {
   "cell_type": "markdown",
   "metadata": {},
   "source": [
    "## From simple return data"
   ]
  },
  {
   "cell_type": "markdown",
   "metadata": {},
   "source": [
    "- time series + stationary"
   ]
  },
  {
   "cell_type": "markdown",
   "metadata": {},
   "source": [
    "1\n",
    "\n",
    "1 $\\times (r_1 + 1)$\n",
    "\n",
    "1 $\\times (r_1 + 1) \\times (r_2 + 1)$\n",
    "\n",
    "1 $\\times (r_1 + 1) \\times (r_2 + 1) \\times (r_3 + 1)$\n",
    "\n",
    "1 $\\times (r_1 + 1) \\times (r_2 + 1) \\times (r_3 + 1) ... \\times (r_n + 1)$"
   ]
  },
  {
   "cell_type": "code",
   "execution_count": null,
   "metadata": {},
   "outputs": [],
   "source": [
    "simple_rtn_df.head()"
   ]
  },
  {
   "cell_type": "code",
   "execution_count": null,
   "metadata": {},
   "outputs": [],
   "source": [
    "cum_rtn_df = (1 + simple_rtn_df).cumprod()\n",
    "cum_rtn_df.head() "
   ]
  },
  {
   "cell_type": "markdown",
   "metadata": {},
   "source": [
    " "
   ]
  },
  {
   "cell_type": "markdown",
   "metadata": {},
   "source": [
    " "
   ]
  },
  {
   "cell_type": "markdown",
   "metadata": {},
   "source": [
    "## From log return data"
   ]
  },
  {
   "cell_type": "markdown",
   "metadata": {},
   "source": [
    "$ log{p_2 \\over p_1} $\n",
    "\n",
    "$ log{p_2 \\over p_1} + log{p_3 \\over p_2} (= log{p_3 \\over p_1})$\n",
    "\n",
    "$ log{p_2 \\over p_1} + log{p_3 \\over p_2} +  ... + log{p_n \\over p_{n-1}} (= log{p_n \\over p_1})$"
   ]
  },
  {
   "cell_type": "code",
   "execution_count": null,
   "metadata": {},
   "outputs": [],
   "source": [
    "log_rtn_df.head()"
   ]
  },
  {
   "cell_type": "code",
   "execution_count": null,
   "metadata": {},
   "outputs": [],
   "source": [
    "cum_rtn_df = np.exp(log_rtn_df.cumsum())\n",
    "cum_rtn_df.head()"
   ]
  },
  {
   "cell_type": "markdown",
   "metadata": {},
   "source": [
    " "
   ]
  },
  {
   "cell_type": "markdown",
   "metadata": {},
   "source": [
    " "
   ]
  },
  {
   "cell_type": "markdown",
   "metadata": {},
   "source": [
    " "
   ]
  },
  {
   "cell_type": "markdown",
   "metadata": {},
   "source": [
    "## Cum return visualization"
   ]
  },
  {
   "cell_type": "code",
   "execution_count": null,
   "metadata": {},
   "outputs": [],
   "source": [
    "cum_rtn_df.plot()"
   ]
  },
  {
   "cell_type": "markdown",
   "metadata": {},
   "source": [
    "  "
   ]
  },
  {
   "cell_type": "markdown",
   "metadata": {},
   "source": [
    "  "
   ]
  },
  {
   "cell_type": "markdown",
   "metadata": {},
   "source": [
    "  "
   ]
  },
  {
   "cell_type": "markdown",
   "metadata": {},
   "source": [
    "  "
   ]
  },
  {
   "cell_type": "markdown",
   "metadata": {},
   "source": [
    "  "
   ]
  },
  {
   "cell_type": "markdown",
   "metadata": {},
   "source": [
    "  "
   ]
  },
  {
   "cell_type": "markdown",
   "metadata": {},
   "source": [
    "  "
   ]
  },
  {
   "cell_type": "markdown",
   "metadata": {},
   "source": [
    "  "
   ]
  },
  {
   "cell_type": "markdown",
   "metadata": {},
   "source": [
    "  "
   ]
  },
  {
   "cell_type": "markdown",
   "metadata": {},
   "source": [
    "  "
   ]
  },
  {
   "cell_type": "markdown",
   "metadata": {},
   "source": [
    "  "
   ]
  },
  {
   "cell_type": "markdown",
   "metadata": {},
   "source": [
    "# [Advanced] log return vs simple return"
   ]
  },
  {
   "cell_type": "markdown",
   "metadata": {},
   "source": [
    "- Reference\n",
    "    - https://tradingqna.com/t/why-stock-returns-are-calculated-in-log-scale/806/2\n",
    "    - https://quantivity.wordpress.com/2011/02/21/why-log-returns/"
   ]
  },
  {
   "cell_type": "markdown",
   "metadata": {},
   "source": [
    "1. Simple return has a positive bias   \n",
    "    - 복리계산(기하평균 계산)으로 인한 +, - 수익률 관계의 불균형을 없애줌\n",
    "        - \"복리계산(기하평균 계산)으로 인한 +, - 수익률 관계의 불균형\"이란?\n",
    "            - 예를 들어, 첫째날 50% 손실을 보고 다음날 50% 수익을 봐도 원금 복구가 되지 않음 \n",
    "                - 1 * (1 - 0.5) * (1 + 0.5) = 0.75 (원금의 75%)\n",
    "            - 즉, 숫자상으로는 -50%, +50% 이기 때문에 단순 산술연산을 하면 본전일 것 같지만(-50 + 50 = 0), 복리계산이기 때문에 결과적으로 0이 되지 않는 불균형이 발생하게 됨 \n",
    "    - 첫날 10퍼센트 수익, 둘째날 2퍼센트 손실을 본 경우,\n",
    "        - Simple return\n",
    "            - $p_2 \\over p_1$ -1 = 0.10\n",
    "\n",
    "            - $p_3 \\over p_2$ -1 = -0.02\n",
    "            - 1 * (1 + 0.10) * (1 - 0.02) = 1.078 vs 1 + (+0.10) + (-0.02) = 1.08\n",
    "                - (0.10 * -0.02)term 이 추가적으로 더해지기 때문에 bias가 발생\n",
    "            - Simple return을 단순히 더해버리면, 실제 나와야하는 값(기하적으로 구한 값, 1.078)보다 '+' bias가 있음을 알 수 있다\n",
    "        - log return \n",
    "            - $log{{p_2}\\over{p_1}}$ = log(1.1) =  0.0953\n",
    "            - $log{{p_3}\\over{p_2}}$ = log(0.98) =  -0.0202\n",
    "            - 이 둘을 더하면 --> 0.0751\n",
    "                - 더한 결과를 식으로 표현하면 $log{{p_3}\\over{p_1}}$이므로, exp()를 씌워서, ${p_3}\\over{p_1}$을 구하면, 1.078이 나온다\n",
    "               \n",
    "\n",
    "2. Additivity\n",
    "    - Multi-period log return = sum(log returns_1 + log returns_2 + ..)\n",
    "    \n",
    "\n",
    "3. Numerically safe\n",
    "    - 작은 소수점의 '곱'은 \"arithmetic underflow\"\n",
    "        - The term arithmetic underflow (also floating point underflow, or just underflow) is a condition in a computer program where the result of a calculation is a number of smaller absolute value than the computer can actually represent in memory on its central processing unit (CPU) (https://en.wikipedia.org/wiki/Arithmetic_underflow)\n",
    "    - log() & '+' 연산은 underflow problem을 야기시키지 않음"
   ]
  },
  {
   "cell_type": "code",
   "execution_count": null,
   "metadata": {},
   "outputs": [],
   "source": [
    "np.prod(1/np.array(range(1, 2000)))"
   ]
  },
  {
   "cell_type": "code",
   "execution_count": null,
   "metadata": {},
   "outputs": [],
   "source": [
    "np.sum(np.log(1/np.array(range(1, 2000))))"
   ]
  },
  {
   "attachments": {
    "29e8db2d-e2d6-4a8b-82af-16e1309bee3b.png": {
     "image/png": "[encoded data removed]"
    }
   },
   "cell_type": "markdown",
   "metadata": {},
   "source": [
    "4. approximate equality\n",
    "\n",
    "![Screen Shot 2021-07-14 at 11.06.44 PM.png](attachment:29e8db2d-e2d6-4a8b-82af-16e1309bee3b.png)\n",
    "    \n",
    "- log(1+r) = r if ||r|| << 1\n"
   ]
  },
  {
   "cell_type": "markdown",
   "metadata": {},
   "source": [
    " "
   ]
  },
  {
   "cell_type": "markdown",
   "metadata": {},
   "source": [
    " "
   ]
  },
  {
   "cell_type": "markdown",
   "metadata": {},
   "source": [
    " "
   ]
  },
  {
   "cell_type": "markdown",
   "metadata": {},
   "source": [
    "5. Convenient in modeling (normality)\n",
    "\n",
    "    - Central limit theorem(중심극한정리)\n",
    "        - The **sum** of random variables frmo I.I.D(Independent Identical Distribution) approaches a normal distribution(정규분포)\n",
    "        - For calculating n days returns\n",
    "            - Simple return\n",
    "                - $ \\prod_{i}{(1+r_i)} - 1$\n",
    "            - log return\n",
    "                - $\\sum_i{log(1+r_i)}$\n",
    "                - $log({{p_t} \\over {p_0}}) = log(1 + r_1) + log(1 + r_2) + ... + log(1+r_n)$\n",
    "                    - $X_1 = log(1 + r_1) $  ~ A distribution\n",
    "                    - $X_2 = log(1 + r_2) $  ~ A distribution\n",
    "                    - ...\n",
    "                    - $X_n = log(1 + r_n) $  ~ A distribution\n",
    "                - Even if X are not normal, as long as they are IID, their long term sum will be approximately normal!\n",
    "                    - X가 정규분포가 아니더라도, 그 합(혹은 평균)을 새로운 랜덤변수로 하는 분포는 근사적으로 정규분포를 따른다!\n",
    "                    - $X_1 + X_2 + .. + X_n$ ~ Nomral distribution!!\n",
    "\n",
    "        - 참고: Simple return은 r을 사용하지만, N day return은 (1+r)들의 **곱셈**으로 표현됨 -> 정규분포를 따르는 랜덤변수끼리의 곱으로 표현되는 새로운 랜덤변수는 정규분포를 따르지 않음!\n",
    "\n",
    "    - distribution of price\n",
    "        - $X_1 + X_2 + .. + X_n$ ~ Nomral distribution\n",
    "        - $ log({{p_t} \\over {p_0}}) = X_1 + X_2 + .. + X_n$ ~ Normal distribution\n",
    "        - $ log({p_t}) - log({p_0})$  ~ Normal distribution\n",
    "        - $ log({p_t})$  ~ Normal distribution\n",
    "\n",
    "        - if Y has a normal distribution, then the exponential function of Y, X = exp(Y), has a log-normal distribution\n",
    "            - https://en.wikipedia.org/wiki/Log-normal_distribution\n",
    "            - ![](https://upload.wikimedia.org/wikipedia/commons/thumb/a/ae/PDF-log_normal_distributions.svg/300px-PDF-log_normal_distributions.svg.png)\n",
    "\n",
    "\n",
    "- But in real world\n",
    "\n",
    "![](https://miro.medium.com/max/700/1*7nrltX4x51aanCQqAdwt6Q.png)"
   ]
  },
  {
   "cell_type": "markdown",
   "metadata": {},
   "source": [
    " "
   ]
  },
  {
   "cell_type": "markdown",
   "metadata": {},
   "source": [
    " "
   ]
  },
  {
   "cell_type": "markdown",
   "metadata": {},
   "source": [
    "6. Log return을 사용하면, 산술평균으로 n day 수익(or 평균수익)을 계산할 수 있다보니, 통계적 특징들을 잘 이용할 수 있음\n",
    "    - lec2_3 jupyter에서 다룰 예정"
   ]
  },
  {
   "cell_type": "markdown",
   "metadata": {},
   "source": [
    " "
   ]
  },
  {
   "cell_type": "markdown",
   "metadata": {},
   "source": [
    " "
   ]
  },
  {
   "cell_type": "markdown",
   "metadata": {},
   "source": [
    "- 언제 'simple return'을 쓰고 언제 'log return'을 쓰는가?\n",
    "    - Simple returns\n",
    "        - preferable when you have to deal with **multiple assets(다수종목)** over the same timeframe\n",
    "    - Log returns\n",
    "        - preferable when you make calculations about a **single asset(단일종목, 단일자산)** over time\n",
    "        - modeling"
   ]
  }
 ],
 "metadata": {
  "kernelspec": {
   "display_name": "Python 3 (ipykernel)",
   "language": "python",
   "name": "python3"
  },
  "language_info": {
   "codemirror_mode": {
    "name": "ipython",
    "version": 3
   },
   "file_extension": ".py",
   "mimetype": "text/x-python",
   "name": "python",
   "nbconvert_exporter": "python",
   "pygments_lexer": "ipython3",
   "version": "3.9.5"
  },
  "toc": {
   "base_numbering": 1,
   "nav_menu": {},
   "number_sections": true,
   "sideBar": true,
   "skip_h1_title": false,
   "title_cell": "Table of Contents",
   "title_sidebar": "Contents",
   "toc_cell": false,
   "toc_position": {
    "height": "calc(100% - 180px)",
    "left": "10px",
    "top": "150px",
    "width": "255.984px"
   },
   "toc_section_display": true,
   "toc_window_display": true
  },
  "toc-autonumbering": true,
  "toc-showmarkdowntxt": false
 },
 "nbformat": 4,
 "nbformat_minor": 4
}
