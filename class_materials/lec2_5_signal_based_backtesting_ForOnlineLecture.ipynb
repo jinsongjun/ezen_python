{
 "cells": [
  {
   "cell_type": "markdown",
   "metadata": {},
   "source": [
    " "
   ]
  },
  {
   "cell_type": "markdown",
   "metadata": {},
   "source": [
    "**수업을 수강하시기 전, lec2_1.ipynb의 \"수강 전 필독\"을 반드시 확인해주세요**"
   ]
  },
  {
   "cell_type": "code",
   "execution_count": null,
   "metadata": {},
   "outputs": [],
   "source": [
    "def get_returns_df(df, N=1, log=False):\n",
    "    if log:\n",
    "        return np.log(df / df.shift(N)).iloc[N-1:].fillna(0)\n",
    "    else:\n",
    "        return df.pct_change(N, fill_method=None).iloc[N-1:].fillna(0)\n",
    "\n",
    "def get_cum_returns_df(return_df, log=False):\n",
    "    if log:\n",
    "        return np.exp(return_df.cumsum())\n",
    "    else:\n",
    "        return (1 + return_df).cumprod()    # same with (return_df.cumsum() + 1)\n",
    "\n",
    "def get_CAGR_series(cum_rtn_df, num_day_in_year=250):\n",
    "    cagr_series = cum_rtn_df.iloc[-1]**(num_day_in_year/(len(cum_rtn_df))) - 1\n",
    "    return cagr_series\n",
    "\n",
    "def get_sharpe_ratio(log_rtn_df, yearly_rfr = 0.025):\n",
    "    excess_rtns = log_rtn_df.mean()*252 - yearly_rfr\n",
    "    return excess_rtns / (log_rtn_df.std() * np.sqrt(252))\n",
    "\n",
    "def get_drawdown_infos(cum_returns_df): \n",
    "    # 1. Drawdown\n",
    "    cummax_df = cum_returns_df.cummax()\n",
    "    dd_df = cum_returns_df / cummax_df - 1\n",
    " \n",
    "    # 2. Maximum drawdown\n",
    "    mdd_series = dd_df.min()\n",
    "\n",
    "    # 3. longest_dd_period\n",
    "    dd_duration_info_list = list()\n",
    "    max_point_df = dd_df[dd_df == 0]\n",
    "    for col in max_point_df:\n",
    "        _df = max_point_df[col]\n",
    "        _df.loc[dd_df[col].last_valid_index()] = 0\n",
    "        _df = _df.dropna()\n",
    "\n",
    "        periods = _df.index[1:] - _df.index[:-1]\n",
    "\n",
    "        days = periods.days\n",
    "        max_idx = days.argmax()\n",
    "\n",
    "        longest_dd_period = days.max()\n",
    "        dd_mean = int(np.mean(days))\n",
    "        dd_std = int(np.std(days))\n",
    "\n",
    "        dd_duration_info_list.append(\n",
    "            [\n",
    "                dd_mean,\n",
    "                dd_std,\n",
    "                longest_dd_period,\n",
    "                \"{} ~ {}\".format(_df.index[:-1][max_idx].date(), _df.index[1:][max_idx].date())\n",
    "            ]\n",
    "        )\n",
    "\n",
    "    dd_duration_info_df = pd.DataFrame(\n",
    "        dd_duration_info_list,\n",
    "        index=dd_df.columns,\n",
    "        columns=['drawdown mean', 'drawdown std', 'longest days', 'longest period']\n",
    "    )\n",
    "    return dd_df, mdd_series, dd_duration_info_df"
   ]
  },
  {
   "cell_type": "markdown",
   "metadata": {},
   "source": [
    "# Moving Avg를 이용한 전략"
   ]
  },
  {
   "cell_type": "markdown",
   "metadata": {},
   "source": [
    "- 'Buy' whenever the shorter SMA start to be above the longer one \n",
    "- 'Sell' whenever the shorter SMA start to be below the longer one "
   ]
  },
  {
   "cell_type": "code",
   "execution_count": null,
   "metadata": {},
   "outputs": [],
   "source": [
    "import FinanceDataReader as fdr\n",
    "\n",
    "df = fdr.DataReader(\"005930\", '2010-01-02', '2020-10-30')\n",
    "df = df[['Close']]\n",
    "df.head()"
   ]
  },
  {
   "cell_type": "code",
   "execution_count": null,
   "metadata": {},
   "outputs": [],
   "source": [
    "df['Close'].rolling(21*6).mean()"
   ]
  },
  {
   "cell_type": "code",
   "execution_count": null,
   "metadata": {},
   "outputs": [],
   "source": [
    "df['SMA_short'] = df['Close'].rolling(21*6).mean()\n",
    "df['SMA_long'] = df['Close'].rolling(21*12).mean()\n",
    "df = df.dropna()\n",
    "df.head()"
   ]
  },
  {
   "cell_type": "code",
   "execution_count": null,
   "metadata": {},
   "outputs": [],
   "source": [
    "df.plot(figsize=(10, 5))"
   ]
  },
  {
   "cell_type": "code",
   "execution_count": null,
   "metadata": {},
   "outputs": [],
   "source": [
    "df.iloc[-200:].plot(figsize=(10, 5))"
   ]
  },
  {
   "cell_type": "markdown",
   "metadata": {},
   "source": [
    "## position 구하기"
   ]
  },
  {
   "cell_type": "code",
   "execution_count": null,
   "metadata": {},
   "outputs": [],
   "source": [
    "# else에 대한 position\n",
    "# - 0으로 설정하면: exit / -1로 설정하면: short\n",
    "df.loc[:, 'position'] = np.where(df['SMA_short'] >= df['SMA_long'], 1, 0)"
   ]
  },
  {
   "cell_type": "code",
   "execution_count": null,
   "metadata": {},
   "outputs": [],
   "source": [
    "df['position'].plot(\n",
    "    ylim=[-1.1, 1.1], title='Market Positioning', figsize=(10, 5), marker='.', markersize=5, linestyle=\"none\"\n",
    ")"
   ]
  },
  {
   "cell_type": "code",
   "execution_count": null,
   "metadata": {},
   "outputs": [],
   "source": [
    "_df = df.iloc[-400:]\n",
    "_df.head()"
   ]
  },
  {
   "cell_type": "code",
   "execution_count": null,
   "metadata": {},
   "outputs": [],
   "source": [
    "exit_index = _df[(_df['position'] - _df['position'].shift()) == -1].index\n",
    "long_index = _df[(_df['position'] - _df['position'].shift()) == 1].index\n",
    "exit_index\n",
    "long_index"
   ]
  },
  {
   "cell_type": "code",
   "execution_count": null,
   "metadata": {},
   "outputs": [],
   "source": [
    "ax = _df.drop(['position'], axis=1).plot(figsize=(10, 5))\n",
    "_df.loc[exit_index, \"SMA_short\"].plot(ax=ax, marker=\"o\", markersize=8, linestyle=\"none\", color=\"red\");\n",
    "_df.loc[long_index, \"SMA_short\"].plot(ax=ax, marker=\"o\", markersize=8, linestyle=\"none\", color=\"green\");"
   ]
  },
  {
   "cell_type": "markdown",
   "metadata": {},
   "source": [
    "## return 구하기"
   ]
  },
  {
   "cell_type": "code",
   "execution_count": null,
   "metadata": {},
   "outputs": [],
   "source": [
    "df.loc[:, 'rtn'] = get_returns_df(df['Close'], log=True)"
   ]
  },
  {
   "cell_type": "code",
   "execution_count": null,
   "metadata": {},
   "outputs": [],
   "source": [
    "# position에 대해 shift(1)을 해줘야되는 이유\n",
    "# - 해당 일에 position은 당일 종가를 받아서 이미 moving avg등 모든 계산이 끝난 후에 결정되는 position임\n",
    "# - 따라 오늘 position을 1로 설정했으면 => (다음날 얻는 수익 * 1) 만큼 먹게됨        \n",
    "df.loc[:, 'strategy_rtn'] = (df['position'].shift(1) * df['rtn']).fillna(0)"
   ]
  },
  {
   "cell_type": "code",
   "execution_count": null,
   "metadata": {},
   "outputs": [],
   "source": [
    "import matplotlib.pyplot as plt\n",
    "\n",
    "fig, axes = plt.subplots(nrows=2, ncols=1, figsize=(10, 10));\n",
    "df['position'].loc[\"2012-01\"].plot(\n",
    "    ax=axes[0],\n",
    "    ylim=[-1.1, 1.1], title='Market Positioning', figsize=(10, 5), marker='.', markersize=5, linestyle=\"none\"\n",
    ");\n",
    "df['position'].loc[\"2013-09\"].plot(\n",
    "    ax=axes[1],\n",
    "    ylim=[-1.1, 1.1], title='Market Positioning', figsize=(10, 5), marker='.', markersize=5, linestyle=\"none\"\n",
    ");"
   ]
  },
  {
   "cell_type": "code",
   "execution_count": null,
   "metadata": {},
   "outputs": [],
   "source": [
    "df.loc[:, 'cum_rtn'] = get_cum_returns_df(df['rtn'], log=True)\n",
    "df.loc[:, 'cum_strategy_rtn'] = get_cum_returns_df(df['strategy_rtn'], log=True)"
   ]
  },
  {
   "cell_type": "code",
   "execution_count": null,
   "metadata": {},
   "outputs": [],
   "source": [
    "exit_index = df[(df['position'] - df['position'].shift()) == -1].index\n",
    "long_index = df[(df['position'] - df['position'].shift()) == 1].index\n",
    "\n",
    "ax = df[['cum_rtn', 'cum_strategy_rtn']].plot(figsize=(10, 5));\n",
    "df.loc[exit_index, \"cum_rtn\"].plot(ax=ax, marker=\"o\", markersize=8, linestyle=\"none\", color=\"red\");\n",
    "df.loc[long_index, \"cum_rtn\"].plot(ax=ax, marker=\"o\", markersize=8, linestyle=\"none\", color=\"orange\"); "
   ]
  },
  {
   "cell_type": "markdown",
   "metadata": {},
   "source": [
    "## performance 구하기"
   ]
  },
  {
   "cell_type": "code",
   "execution_count": null,
   "metadata": {},
   "outputs": [],
   "source": [
    "get_sharpe_ratio(df[['rtn', 'strategy_rtn']]).to_frame(\"Sharpe Ratio\")"
   ]
  },
  {
   "cell_type": "code",
   "execution_count": null,
   "metadata": {},
   "outputs": [],
   "source": [
    "dd_df, mdd_series, longest_dd_period_df = get_drawdown_infos(df.filter(like=\"cum_\"))\n",
    "dd_df.plot(figsize=(10, 5))"
   ]
  },
  {
   "cell_type": "code",
   "execution_count": null,
   "metadata": {},
   "outputs": [],
   "source": [
    "mdd_series.to_frame(\"MDD\")"
   ]
  },
  {
   "cell_type": "code",
   "execution_count": null,
   "metadata": {},
   "outputs": [],
   "source": [
    "longest_dd_period_df"
   ]
  },
  {
   "cell_type": "code",
   "execution_count": null,
   "metadata": {},
   "outputs": [],
   "source": [
    "get_CAGR_series(df.filter(like=\"cum_\")).to_frame(\"CAGR\")"
   ]
  },
  {
   "cell_type": "markdown",
   "metadata": {},
   "source": [
    " "
   ]
  },
  {
   "cell_type": "markdown",
   "metadata": {},
   "source": [
    " "
   ]
  },
  {
   "cell_type": "markdown",
   "metadata": {},
   "source": [
    " "
   ]
  },
  {
   "cell_type": "markdown",
   "metadata": {},
   "source": [
    " "
   ]
  },
  {
   "cell_type": "markdown",
   "metadata": {},
   "source": [
    " "
   ]
  },
  {
   "cell_type": "markdown",
   "metadata": {},
   "source": [
    " "
   ]
  },
  {
   "cell_type": "markdown",
   "metadata": {},
   "source": [
    " "
   ]
  },
  {
   "cell_type": "markdown",
   "metadata": {},
   "source": [
    " "
   ]
  },
  {
   "cell_type": "markdown",
   "metadata": {},
   "source": [
    " "
   ]
  },
  {
   "cell_type": "markdown",
   "metadata": {},
   "source": [
    "# Momentum을 이용한 전략"
   ]
  },
  {
   "cell_type": "markdown",
   "metadata": {},
   "source": [
    "- 2 types\n",
    "    1. Cross-sectional momentum (Relative momentum)\n",
    "    2. Time-series momentum"
   ]
  },
  {
   "cell_type": "code",
   "execution_count": null,
   "metadata": {},
   "outputs": [],
   "source": [
    "import FinanceDataReader as fdr\n",
    "\n",
    "df = fdr.DataReader(\"005930\", '2010-01-02', '2020-10-30')\n",
    "df = df[['Close']]\n",
    "df.head()"
   ]
  },
  {
   "cell_type": "markdown",
   "metadata": {},
   "source": [
    "## position 구하기"
   ]
  },
  {
   "cell_type": "code",
   "execution_count": null,
   "metadata": {},
   "outputs": [],
   "source": [
    "momentum_window = 20 * 6"
   ]
  },
  {
   "cell_type": "code",
   "execution_count": null,
   "metadata": {},
   "outputs": [],
   "source": [
    "# -1 or 1 or 0\n",
    "position = np.sign(get_returns_df(df['Close'], N=momentum_window))\n",
    "position.head()   # 20 X 6만큼 날라감"
   ]
  },
  {
   "cell_type": "code",
   "execution_count": null,
   "metadata": {},
   "outputs": [],
   "source": [
    "position.value_counts()"
   ]
  },
  {
   "cell_type": "code",
   "execution_count": null,
   "metadata": {},
   "outputs": [],
   "source": [
    "position.loc[position == -1] = 0  # short는 안 한다고 가정\n",
    "position.plot(\n",
    "    ylim=[-1.1, 1.1], title='Market Positioning', figsize=(10, 5), marker='.', markersize=5, linestyle=\"none\"\n",
    ")"
   ]
  },
  {
   "cell_type": "code",
   "execution_count": null,
   "metadata": {},
   "outputs": [],
   "source": [
    "df.shape\n",
    "position.shape"
   ]
  },
  {
   "cell_type": "code",
   "execution_count": null,
   "metadata": {},
   "outputs": [],
   "source": [
    "df.loc[:, 'position'] = position"
   ]
  },
  {
   "cell_type": "code",
   "execution_count": null,
   "metadata": {},
   "outputs": [],
   "source": [
    "df = df.dropna()\n",
    "df.head()"
   ]
  },
  {
   "cell_type": "code",
   "execution_count": null,
   "metadata": {},
   "outputs": [],
   "source": [
    "_df = df.iloc[-200:]\n",
    "\n",
    "exit_index = _df[(_df['position'] - _df['position'].shift()) == -1].index\n",
    "long_index = _df[(_df['position'] - _df['position'].shift()) == 1].index\n",
    "\n",
    "ax = _df.drop(['position'], axis=1).plot(figsize=(10, 5));\n",
    "_df.loc[exit_index, \"Close\"].plot(ax=ax, marker=\"o\", markersize=8, linestyle=\"none\", color=\"red\");\n",
    "_df.loc[long_index, \"Close\"].plot(ax=ax, marker=\"o\", markersize=8, linestyle=\"none\", color=\"green\");\n",
    "\n",
    "ax.axvline(df.index[df.index.get_loc(\"2020-09-02\") - 120]);"
   ]
  },
  {
   "cell_type": "code",
   "execution_count": null,
   "metadata": {},
   "outputs": [],
   "source": [
    "long_index"
   ]
  },
  {
   "cell_type": "code",
   "execution_count": null,
   "metadata": {},
   "outputs": [],
   "source": [
    "df.index.get_loc(\"2020-09-02\") - 120"
   ]
  },
  {
   "cell_type": "code",
   "execution_count": null,
   "metadata": {},
   "outputs": [],
   "source": [
    "df.index[df.index.get_loc(\"2020-09-02\") - 120]"
   ]
  },
  {
   "cell_type": "markdown",
   "metadata": {},
   "source": [
    "## return 구하기"
   ]
  },
  {
   "cell_type": "code",
   "execution_count": null,
   "metadata": {},
   "outputs": [],
   "source": [
    "df.loc[:, 'rtn'] = get_returns_df(df['Close'], log=True)\n",
    "df.loc[:, 'strategy_rtn'] = (df['position'].shift(1) * df['rtn']).fillna(0)"
   ]
  },
  {
   "cell_type": "code",
   "execution_count": null,
   "metadata": {},
   "outputs": [],
   "source": [
    "df.loc[:, 'cum_rtn'] = get_cum_returns_df(df['rtn'], log=True)\n",
    "df.loc[:, 'cum_strategy_rtn'] = get_cum_returns_df(df['strategy_rtn'], log=True)"
   ]
  },
  {
   "cell_type": "code",
   "execution_count": null,
   "metadata": {},
   "outputs": [],
   "source": [
    "exit_index = df[(df['position'] - df['position'].shift()) == -1].index\n",
    "long_index = df[(df['position'] - df['position'].shift()) == 1].index\n",
    "\n",
    "ax = df[['cum_rtn', 'cum_strategy_rtn']].plot(figsize=(10, 5));\n",
    "df.loc[exit_index, \"cum_rtn\"].plot(ax=ax, marker=\"o\", markersize=3, linestyle=\"none\", color=\"red\");\n",
    "df.loc[long_index, \"cum_rtn\"].plot(ax=ax, marker=\"o\", markersize=3, linestyle=\"none\", color=\"green\"); "
   ]
  },
  {
   "cell_type": "code",
   "execution_count": null,
   "metadata": {},
   "outputs": [],
   "source": [
    "_df = df.iloc[-150:]\n",
    "\n",
    "exit_index = _df[(_df['position'] - _df['position'].shift()) == -1].index\n",
    "long_index = _df[(_df['position'] - _df['position'].shift()) == 1].index\n",
    "\n",
    "ax = _df[['cum_rtn', 'cum_strategy_rtn']].plot(figsize=(10, 5));\n",
    "_df.loc[exit_index, \"cum_rtn\"].plot(ax=ax, marker=\"o\", markersize=8, linestyle=\"none\", color=\"red\");\n",
    "_df.loc[long_index, \"cum_rtn\"].plot(ax=ax, marker=\"o\", markersize=8, linestyle=\"none\", color=\"green\"); "
   ]
  },
  {
   "cell_type": "markdown",
   "metadata": {},
   "source": [
    "- Multiple momentum window test"
   ]
  },
  {
   "cell_type": "code",
   "execution_count": null,
   "metadata": {},
   "outputs": [],
   "source": [
    "import FinanceDataReader as fdr\n",
    "\n",
    "df = fdr.DataReader(\"005930\", '2010-01-02', '2020-10-30')\n",
    "df = df[['Close']]\n",
    "df.loc[:, 'rtn'] = get_returns_df(df['Close'], log=True)\n",
    "\n",
    "rtn_column_list = [\"rtn\"]\n",
    "momentum_list = [1*20, 3*20, 5*20]\n",
    "for momentum_window in momentum_list:\n",
    "    position = np.sign(get_returns_df(df['Close'], N=momentum_window))\n",
    "    position.loc[position == -1] = 0\n",
    "       \n",
    "    df.loc[:, 'position_{}'.format(momentum_window)] = position\n",
    "    df = df.dropna()\n",
    "    df.loc[:, 'strategy_{}_rtn'.format(momentum_window)] = (\n",
    "        df['position_{}'.format(momentum_window)].shift(1) * df['rtn']\n",
    "    ).fillna(0)\n",
    "    rtn_column_list.append('strategy_{}_rtn'.format(momentum_window))"
   ]
  },
  {
   "cell_type": "code",
   "execution_count": null,
   "metadata": {},
   "outputs": [],
   "source": [
    "cum_rtn_df = get_cum_returns_df(df[rtn_column_list], log=True)\n",
    "cum_rtn_df.plot(figsize=(10, 5))"
   ]
  },
  {
   "cell_type": "markdown",
   "metadata": {},
   "source": [
    "## performance 구하기"
   ]
  },
  {
   "cell_type": "code",
   "execution_count": null,
   "metadata": {},
   "outputs": [],
   "source": [
    "get_sharpe_ratio(df[rtn_column_list]).to_frame(\"Sharpe Ratio\")"
   ]
  },
  {
   "cell_type": "code",
   "execution_count": null,
   "metadata": {},
   "outputs": [],
   "source": [
    "dd_df, mdd_series, longest_dd_period_df = get_drawdown_infos(cum_rtn_df)\n",
    "dd_df.plot(figsize=(10, 5))"
   ]
  },
  {
   "cell_type": "code",
   "execution_count": null,
   "metadata": {},
   "outputs": [],
   "source": [
    "mdd_series.to_frame(\"MDD\")"
   ]
  },
  {
   "cell_type": "code",
   "execution_count": null,
   "metadata": {},
   "outputs": [],
   "source": [
    "longest_dd_period_df"
   ]
  },
  {
   "cell_type": "code",
   "execution_count": null,
   "metadata": {},
   "outputs": [],
   "source": [
    "get_CAGR_series(cum_rtn_df).to_frame(\"CAGR\")"
   ]
  },
  {
   "cell_type": "markdown",
   "metadata": {},
   "source": [
    " "
   ]
  },
  {
   "cell_type": "markdown",
   "metadata": {},
   "source": [
    "- 결국은 'position' series를 어떻게 만드느냐가 중요"
   ]
  },
  {
   "cell_type": "code",
   "execution_count": null,
   "metadata": {},
   "outputs": [],
   "source": [
    "position = np.sign(get_returns_df(df['Close'], N=momentum_window) - 0.1)\n",
    "position"
   ]
  },
  {
   "cell_type": "markdown",
   "metadata": {},
   "source": [
    " "
   ]
  },
  {
   "cell_type": "markdown",
   "metadata": {},
   "source": [
    " "
   ]
  },
  {
   "cell_type": "markdown",
   "metadata": {},
   "source": [
    " "
   ]
  },
  {
   "cell_type": "markdown",
   "metadata": {},
   "source": [
    " "
   ]
  },
  {
   "cell_type": "markdown",
   "metadata": {},
   "source": [
    " "
   ]
  },
  {
   "cell_type": "markdown",
   "metadata": {},
   "source": [
    " "
   ]
  },
  {
   "cell_type": "markdown",
   "metadata": {},
   "source": [
    " "
   ]
  },
  {
   "cell_type": "markdown",
   "metadata": {},
   "source": [
    " "
   ]
  },
  {
   "cell_type": "markdown",
   "metadata": {},
   "source": [
    " "
   ]
  },
  {
   "cell_type": "markdown",
   "metadata": {},
   "source": [
    "# Mean-reversion을 이용한 전략"
   ]
  },
  {
   "cell_type": "code",
   "execution_count": null,
   "metadata": {},
   "outputs": [],
   "source": [
    "import FinanceDataReader as fdr\n",
    "\n",
    "df = fdr.DataReader(\"005930\", '2010-01-02', '2020-10-30')\n",
    "df = df[['Close']]\n",
    "df.head()"
   ]
  },
  {
   "cell_type": "code",
   "execution_count": null,
   "metadata": {},
   "outputs": [],
   "source": [
    "window = 60\n",
    "df.loc[:, 'SMA'] = df['Close'].rolling(window).mean()"
   ]
  },
  {
   "cell_type": "code",
   "execution_count": null,
   "metadata": {},
   "outputs": [],
   "source": [
    "rolling_std = df['Close'].rolling(window).std()"
   ]
  },
  {
   "cell_type": "code",
   "execution_count": null,
   "metadata": {},
   "outputs": [],
   "source": [
    "df = df.dropna()"
   ]
  },
  {
   "cell_type": "code",
   "execution_count": null,
   "metadata": {},
   "outputs": [],
   "source": [
    "df['+threshold'] = df['SMA'] + 1.5*rolling_std\n",
    "df['-threshold'] = df['SMA'] - 1.5*rolling_std\n",
    "\n",
    "df[['Close', 'SMA', '+threshold', '-threshold']].plot(figsize=(10, 5))"
   ]
  },
  {
   "cell_type": "code",
   "execution_count": null,
   "metadata": {},
   "outputs": [],
   "source": [
    "df[['Close', 'SMA', '+threshold', '-threshold']].iloc[-200:].plot(figsize=(10, 5))"
   ]
  },
  {
   "cell_type": "markdown",
   "metadata": {},
   "source": [
    "\n",
    "## position 구하기"
   ]
  },
  {
   "cell_type": "code",
   "execution_count": null,
   "metadata": {},
   "outputs": [],
   "source": [
    "pos1 = np.where(df['Close'] <= df['-threshold'], 1, 0)\n",
    "pos2 = np.where(df['Close'] >= df['+threshold'], -1, 0)\n",
    "df.loc[:, 'position'] = pos1 + pos2"
   ]
  },
  {
   "cell_type": "code",
   "execution_count": null,
   "metadata": {},
   "outputs": [],
   "source": [
    "df['position'].plot(\n",
    "    ylim=[-1.1, 1.1], title='Market Positioning', figsize=(10, 5), marker='.', markersize=5, linestyle=\"none\"\n",
    ");"
   ]
  },
  {
   "cell_type": "code",
   "execution_count": null,
   "metadata": {},
   "outputs": [],
   "source": [
    "_df = df.iloc[-500:]\n",
    "\n",
    "short_index = _df[\n",
    "    ((_df['position'] - _df['position'].shift()) == -1) & (_df['position'] == -1)\n",
    "].index\n",
    "long_index = _df[\n",
    "    ((_df['position'] - _df['position'].shift()) == 1) & (_df['position'] == 1)\n",
    "].index\n",
    "\n",
    "ax = _df[['Close', 'SMA', '+threshold', '-threshold']].plot(figsize=(10, 5));\n",
    "_df.loc[short_index, \"Close\"].plot(ax=ax, marker=\"o\", markersize=5, linestyle=\"none\", color=\"red\");\n",
    "_df.loc[long_index, \"Close\"].plot(ax=ax, marker=\"o\", markersize=5, linestyle=\"none\", color=\"green\");"
   ]
  },
  {
   "cell_type": "markdown",
   "metadata": {},
   "source": [
    "## return 구하기"
   ]
  },
  {
   "cell_type": "code",
   "execution_count": null,
   "metadata": {},
   "outputs": [],
   "source": [
    "df['rtn'] = get_returns_df(df['Close'], log=True)\n",
    "df['strategy_rtn'] = (df['position'].shift(1) * df['rtn']).fillna(0)"
   ]
  },
  {
   "cell_type": "code",
   "execution_count": null,
   "metadata": {},
   "outputs": [],
   "source": [
    "df.loc[:, 'cum_rtn'] = get_cum_returns_df(df['rtn'], log=True)\n",
    "df.loc[:, 'cum_strategy_rtn'] = get_cum_returns_df(df['strategy_rtn'], log=True)"
   ]
  },
  {
   "cell_type": "code",
   "execution_count": null,
   "metadata": {},
   "outputs": [],
   "source": [
    "short_index = df[\n",
    "    ((df['position'] - df['position'].shift()) == -1) & (df['position'] == -1)\n",
    "].index\n",
    "long_index = df[\n",
    "    ((df['position'] - df['position'].shift()) == 1) & (df['position'] == 1)\n",
    "].index\n",
    "\n",
    "ax = df[['cum_rtn', 'cum_strategy_rtn']].plot(figsize=(10, 5));\n",
    "df.loc[short_index, \"cum_rtn\"].plot(ax=ax, marker=\"o\", markersize=3, linestyle=\"none\", color=\"red\");\n",
    "df.loc[long_index, \"cum_rtn\"].plot(ax=ax, marker=\"o\", markersize=3, linestyle=\"none\", color=\"green\"); "
   ]
  },
  {
   "cell_type": "code",
   "execution_count": null,
   "metadata": {},
   "outputs": [],
   "source": [
    "_df = df.iloc[:200]\n",
    "\n",
    "short_index = _df[\n",
    "    ((_df['position'] - _df['position'].shift()) == -1) & (_df['position'] == -1)\n",
    "].index\n",
    "long_index = _df[\n",
    "    ((_df['position'] - _df['position'].shift()) == 1) & (_df['position'] == 1)\n",
    "].index\n",
    "\n",
    "short_exit_index = _df[\n",
    "    ((_df['position'] - _df['position'].shift()) == 1) & (_df['position'] == 0)\n",
    "].index\n",
    "long_exit_index = _df[\n",
    "    ((_df['position'] - _df['position'].shift()) == -1) & (_df['position'] == 0)\n",
    "].index"
   ]
  },
  {
   "cell_type": "code",
   "execution_count": null,
   "metadata": {},
   "outputs": [],
   "source": [
    "ax = _df[['cum_rtn', 'cum_strategy_rtn']].plot(figsize=(10, 5));\n",
    "\n",
    "_df.loc[short_index, \"cum_rtn\"].plot(ax=ax, marker=\"o\", markersize=5, linestyle=\"none\", color=\"red\");\n",
    "_df.loc[short_exit_index, \"cum_rtn\"].plot(ax=ax, marker=\"x\", markersize=5, linestyle=\"none\", color=\"red\");\n",
    "\n",
    "_df.loc[long_index, \"cum_rtn\"].plot(ax=ax, marker=\"o\", markersize=5, linestyle=\"none\", color=\"green\"); \n",
    "_df.loc[long_exit_index, \"cum_rtn\"].plot(ax=ax, marker=\"x\", markersize=5, linestyle=\"none\", color=\"green\");"
   ]
  },
  {
   "cell_type": "markdown",
   "metadata": {},
   "source": [
    "## performance 구하기"
   ]
  },
  {
   "cell_type": "code",
   "execution_count": null,
   "metadata": {},
   "outputs": [],
   "source": [
    "get_sharpe_ratio(df[['rtn', 'strategy_rtn']]).to_frame(\"Sharpe Ratio\")"
   ]
  },
  {
   "cell_type": "code",
   "execution_count": null,
   "metadata": {},
   "outputs": [],
   "source": [
    "dd_df, mdd_series, longest_dd_period_df = get_drawdown_infos(df.filter(like=\"cum_\"))\n",
    "dd_df.plot(figsize=(10, 5))"
   ]
  },
  {
   "cell_type": "code",
   "execution_count": null,
   "metadata": {},
   "outputs": [],
   "source": [
    "mdd_series.to_frame(\"MDD\")"
   ]
  },
  {
   "cell_type": "code",
   "execution_count": null,
   "metadata": {},
   "outputs": [],
   "source": [
    "longest_dd_period_df"
   ]
  },
  {
   "cell_type": "code",
   "execution_count": null,
   "metadata": {},
   "outputs": [],
   "source": [
    "get_CAGR_series(df.filter(like=\"cum_\")).to_frame(\"CAGR\")"
   ]
  },
  {
   "cell_type": "markdown",
   "metadata": {},
   "source": [
    " "
   ]
  },
  {
   "cell_type": "markdown",
   "metadata": {},
   "source": [
    " "
   ]
  },
  {
   "cell_type": "markdown",
   "metadata": {},
   "source": [
    " "
   ]
  },
  {
   "cell_type": "markdown",
   "metadata": {},
   "source": [
    " "
   ]
  },
  {
   "cell_type": "markdown",
   "metadata": {},
   "source": [
    " "
   ]
  },
  {
   "cell_type": "markdown",
   "metadata": {},
   "source": [
    " "
   ]
  },
  {
   "cell_type": "markdown",
   "metadata": {},
   "source": [
    " "
   ]
  },
  {
   "cell_type": "markdown",
   "metadata": {},
   "source": [
    "# 변동성 돌파전략"
   ]
  },
  {
   "cell_type": "markdown",
   "metadata": {},
   "source": [
    "- 참고 링크: https://ldgeao99.tistory.com/441"
   ]
  },
  {
   "cell_type": "code",
   "execution_count": null,
   "metadata": {},
   "outputs": [],
   "source": [
    "import FinanceDataReader as fdr\n",
    "\n",
    "df = fdr.DataReader(\"005930\", '2010-01-02', '2020-10-30')\n",
    "df = df[['Open', 'High', 'Close', 'Low']]\n",
    "df.head()"
   ]
  },
  {
   "cell_type": "code",
   "execution_count": null,
   "metadata": {},
   "outputs": [],
   "source": [
    "df['Open'].plot()"
   ]
  },
  {
   "cell_type": "code",
   "execution_count": null,
   "metadata": {},
   "outputs": [],
   "source": [
    "(df == 0).sum()"
   ]
  },
  {
   "cell_type": "code",
   "execution_count": null,
   "metadata": {},
   "outputs": [],
   "source": [
    "df[df['Open'] == 0]"
   ]
  },
  {
   "cell_type": "code",
   "execution_count": null,
   "metadata": {},
   "outputs": [],
   "source": [
    "df = df[df['Open'] != 0]"
   ]
  },
  {
   "cell_type": "code",
   "execution_count": null,
   "metadata": {},
   "outputs": [],
   "source": [
    "(df == 0).sum()"
   ]
  },
  {
   "cell_type": "markdown",
   "metadata": {},
   "source": [
    "## poisition 구하기"
   ]
  },
  {
   "cell_type": "code",
   "execution_count": null,
   "metadata": {},
   "outputs": [],
   "source": [
    "df['range'] = df['High'] - df['Low']"
   ]
  },
  {
   "cell_type": "code",
   "execution_count": null,
   "metadata": {},
   "outputs": [],
   "source": [
    "df['threshold'] = df['Open'] + df['range'].shift() * 0.6"
   ]
  },
  {
   "cell_type": "code",
   "execution_count": null,
   "metadata": {},
   "outputs": [],
   "source": [
    "cond = df['threshold'] <= df['High']\n",
    "df['position'] = cond.astype(int)"
   ]
  },
  {
   "cell_type": "code",
   "execution_count": null,
   "metadata": {},
   "outputs": [],
   "source": [
    "df.head()"
   ]
  },
  {
   "cell_type": "markdown",
   "metadata": {},
   "source": [
    "## return 구하기"
   ]
  },
  {
   "cell_type": "code",
   "execution_count": null,
   "metadata": {},
   "outputs": [],
   "source": [
    "p_current = df['Open']\n",
    "p_prev = df['threshold'].shift()\n",
    "df['rtn'] = p_current / p_prev - 1"
   ]
  },
  {
   "cell_type": "code",
   "execution_count": null,
   "metadata": {},
   "outputs": [],
   "source": [
    "df.head()"
   ]
  },
  {
   "cell_type": "code",
   "execution_count": null,
   "metadata": {},
   "outputs": [],
   "source": [
    "df = df.dropna()"
   ]
  },
  {
   "cell_type": "code",
   "execution_count": null,
   "metadata": {},
   "outputs": [],
   "source": [
    "df.head(8)"
   ]
  },
  {
   "cell_type": "code",
   "execution_count": null,
   "metadata": {},
   "outputs": [],
   "source": [
    "df['strategy_rtn'] = df['position'].shift() * df['rtn']\n",
    "df['strategy_rtn'] = df['strategy_rtn'].fillna(0)"
   ]
  },
  {
   "cell_type": "code",
   "execution_count": null,
   "metadata": {},
   "outputs": [],
   "source": [
    "df['cum_rtn'] = df['Close'] / df['Close'].iloc[0]\n",
    "df['strategy_cum_rtn'] = (df['strategy_rtn'] + 1).cumprod()"
   ]
  },
  {
   "cell_type": "code",
   "execution_count": null,
   "metadata": {},
   "outputs": [],
   "source": [
    "df.filter(like=\"cum\").plot(figsize=(10, 5))"
   ]
  },
  {
   "cell_type": "markdown",
   "metadata": {},
   "source": [
    "## performance 구하기"
   ]
  },
  {
   "cell_type": "code",
   "execution_count": null,
   "metadata": {},
   "outputs": [],
   "source": [
    "cum_rtn_df = df.filter(like=\"cum\")"
   ]
  },
  {
   "cell_type": "code",
   "execution_count": null,
   "metadata": {},
   "outputs": [],
   "source": [
    "rtn_df = get_returns_df(cum_rtn_df, log=True)"
   ]
  },
  {
   "cell_type": "code",
   "execution_count": null,
   "metadata": {},
   "outputs": [],
   "source": [
    "get_sharpe_ratio(rtn_df).to_frame(\"Sharpe Ratio\")"
   ]
  },
  {
   "cell_type": "code",
   "execution_count": null,
   "metadata": {},
   "outputs": [],
   "source": [
    "dd_df, mdd_series, longest_dd_period_df = get_drawdown_infos(cum_rtn_df)\n",
    "dd_df.plot(figsize=(10, 5))"
   ]
  },
  {
   "cell_type": "code",
   "execution_count": null,
   "metadata": {},
   "outputs": [],
   "source": [
    "mdd_series.to_frame(\"MDD\")"
   ]
  },
  {
   "cell_type": "code",
   "execution_count": null,
   "metadata": {},
   "outputs": [],
   "source": [
    "longest_dd_period_df"
   ]
  },
  {
   "cell_type": "code",
   "execution_count": null,
   "metadata": {},
   "outputs": [],
   "source": [
    "get_CAGR_series(cum_rtn_df).to_frame(\"CAGR\")"
   ]
  },
  {
   "cell_type": "markdown",
   "metadata": {},
   "source": [
    " "
   ]
  },
  {
   "cell_type": "markdown",
   "metadata": {},
   "source": [
    " "
   ]
  },
  {
   "cell_type": "markdown",
   "metadata": {},
   "source": [
    "## 주의사항"
   ]
  },
  {
   "cell_type": "markdown",
   "metadata": {},
   "source": [
    "- 거래비용\n",
    "- 정확히 threshold에 진입하지 못하는 경우\n",
    "- 내가 실제 개입함으로써 지정가에 체결이 발생하지 않는 경우\n",
    "- 전략이 많이 알려지면?\n",
    "- 정확히 시초가 매도가 가능할까?\n",
    "- 거래량이 작아 층이 얇은 경우 \n",
    "- 변동성이 너무 커서 open + k*threshold가 생각보다 너무 빨리 도달하는 경우(Covid-19)\n",
    "- position이 연일에 걸쳐 1이 두번 나오는 경우\n",
    "- 하루에 threshold를 2번이상 찍는 경우?\n"
   ]
  }
 ],
 "metadata": {
  "kernelspec": {
   "display_name": "Python 3 (ipykernel)",
   "language": "python",
   "name": "python3"
  },
  "language_info": {
   "codemirror_mode": {
    "name": "ipython",
    "version": 3
   },
   "file_extension": ".py",
   "mimetype": "text/x-python",
   "name": "python",
   "nbconvert_exporter": "python",
   "pygments_lexer": "ipython3",
   "version": "3.9.5"
  },
  "toc": {
   "base_numbering": 1,
   "nav_menu": {},
   "number_sections": true,
   "sideBar": true,
   "skip_h1_title": false,
   "title_cell": "Table of Contents",
   "title_sidebar": "Contents",
   "toc_cell": false,
   "toc_position": {
    "height": "calc(100% - 180px)",
    "left": "10px",
    "top": "150px",
    "width": "256px"
   },
   "toc_section_display": true,
   "toc_window_display": true
  },
  "toc-autonumbering": true
 },
 "nbformat": 4,
 "nbformat_minor": 4
}
