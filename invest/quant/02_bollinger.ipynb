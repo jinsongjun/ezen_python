{
 "cells": [
  {
   "cell_type": "markdown",
   "metadata": {},
   "source": [
    "### 볼린저 밴드 투자 전략\n",
    "1. 이동 평균선 생성 : 데이터의 20개의 평균을 구한 값\n",
    "2. 상단 밴드 생성 : 이동 평균선 + ( 2 * 데이터 20개의 표준편차 )\n",
    "3. 하단 밴드 생성 : 이동 평균선 - ( 2* 데이터 20개의 표준편차 )\n",
    "4. 하단 밴드보다 주식의 가격이 낮은 경우 구매 \n",
    "5. 상단 밴드보다 주식의 가격이 높은 경우 판매"
   ]
  },
  {
   "cell_type": "code",
   "execution_count": null,
   "metadata": {},
   "outputs": [],
   "source": [
    "import pandas as pd \n",
    "import numpy as np\n",
    "import matplotlib.pyplot as plt\n",
    "from datetime import datetime"
   ]
  },
  {
   "cell_type": "code",
   "execution_count": null,
   "metadata": {},
   "outputs": [],
   "source": [
    "# 데이터 로드 \n",
    "df = pd.read_csv('../../csv/AAPL.csv')"
   ]
  },
  {
   "cell_type": "code",
   "execution_count": null,
   "metadata": {},
   "outputs": [],
   "source": [
    "# Date컬럼을 시계열 데이터로 변경 \n",
    "df['Date'] = pd.to_datetime(df['Date'])"
   ]
  },
  {
   "cell_type": "code",
   "execution_count": null,
   "metadata": {},
   "outputs": [],
   "source": [
    "# 결측치나 아니면 무한대 값을 제거 \n",
    "flag = df.isin([np.nan, np.inf, -np.inf]).any(axis=1)\n",
    "df = df.loc[~flag]"
   ]
  },
  {
   "cell_type": "code",
   "execution_count": null,
   "metadata": {},
   "outputs": [],
   "source": [
    "# Date 컬럼을 인덱스로 변경 \n",
    "df.set_index('Date', inplace=True)"
   ]
  },
  {
   "cell_type": "code",
   "execution_count": null,
   "metadata": {},
   "outputs": [],
   "source": [
    "# 이동 평균선 : 데이터 20개의 평균 값\n",
    "# 이동 평균선 컬럼을 하나 생성 \n",
    "df['center'] = np.nan"
   ]
  },
  {
   "cell_type": "code",
   "execution_count": null,
   "metadata": {},
   "outputs": [],
   "source": [
    "mean_data = df.iloc[0:20]['Close'].mean()\n",
    "df.iloc[19, 6] = mean_data"
   ]
  },
  {
   "cell_type": "code",
   "execution_count": null,
   "metadata": {},
   "outputs": [],
   "source": [
    "df.iloc[19]"
   ]
  },
  {
   "cell_type": "code",
   "execution_count": null,
   "metadata": {},
   "outputs": [],
   "source": [
    "for i in range(20, len(df), 1):\n",
    "    mean_data = df.iloc[i-20 : i]['Close'].mean()\n",
    "    df.iloc[i-1, 6] = mean_data\n",
    "\n",
    "df.iloc[18 : 25]"
   ]
  },
  {
   "cell_type": "code",
   "execution_count": null,
   "metadata": {},
   "outputs": [],
   "source": [
    "# df에서 Adj Close의 값만 빼고 모두 제거 \n",
    "price_df = df[['Adj Close']]\n",
    "price_df.head()"
   ]
  },
  {
   "cell_type": "code",
   "execution_count": null,
   "metadata": {},
   "outputs": [],
   "source": [
    "# 이동 평균선 생성 : \n",
    "# rolling(n) : n개 만큼 데이터를 그룹화하여 연산식을 사용\n",
    "price_df['center'] = price_df['Adj Close'].rolling(20).mean()"
   ]
  },
  {
   "cell_type": "code",
   "execution_count": null,
   "metadata": {},
   "outputs": [],
   "source": [
    "price_df.iloc[18:24]"
   ]
  },
  {
   "cell_type": "code",
   "execution_count": null,
   "metadata": {},
   "outputs": [],
   "source": [
    "price_df['index'] = range(1, len(price_df)+1)"
   ]
  },
  {
   "cell_type": "code",
   "execution_count": null,
   "metadata": {},
   "outputs": [],
   "source": [
    "price_df.iloc[18:24]"
   ]
  },
  {
   "cell_type": "code",
   "execution_count": null,
   "metadata": {},
   "outputs": [],
   "source": [
    "price_df['Adj Close'].rolling(20).std() * 2"
   ]
  },
  {
   "cell_type": "code",
   "execution_count": null,
   "metadata": {},
   "outputs": [],
   "source": [
    "# 상단 밴드 (이동 평균선 + (2 * 20개의 데이터의 표준편차)) , 하단 밴드를 생성 \n",
    "price_df['ub'] = price_df['center'] + \\\n",
    "    (2 * price_df['Adj Close'].rolling(20).std())\n",
    "\n",
    "price_df['lb'] = price_df['center'] - \\\n",
    "    (2 * price_df['Adj Close'].rolling(20).std())"
   ]
  },
  {
   "cell_type": "code",
   "execution_count": null,
   "metadata": {},
   "outputs": [],
   "source": [
    "price_df.iloc[18:24]"
   ]
  },
  {
   "cell_type": "code",
   "execution_count": null,
   "metadata": {},
   "outputs": [],
   "source": [
    "# price_df에서 하단의 1000개의 데이터\n",
    "# center, ub, lb 데이터를 plot 그래프 표시 \n",
    "price_df.tail(1000)\n",
    "\n",
    "plt.figure(figsize=(20, 8))\n",
    "plt.plot(price_df[['ub', 'lb', 'Adj Close']].tail(1000))\n",
    "plt.legend(['ub', 'lb', 'Adj Close'])\n",
    "plt.show()"
   ]
  },
  {
   "cell_type": "code",
   "execution_count": null,
   "metadata": {},
   "outputs": [],
   "source": [
    "# 투자 기간을 선택 \n",
    "start = \"2000-01-01\"\n",
    "\n",
    "start = datetime.strptime(start, '%Y-%m-%d')\n",
    "\n",
    "test_df = price_df.loc[start:]"
   ]
  },
  {
   "cell_type": "code",
   "execution_count": null,
   "metadata": {},
   "outputs": [],
   "source": [
    "# 보유 내역 컬럼을 생성 \n",
    "test_df['trade'] = \"\""
   ]
  },
  {
   "cell_type": "markdown",
   "metadata": {},
   "source": [
    "### 보유 내역 추가 \n",
    "- 조건식 \n",
    "    - 상단 밴드보다 수정 주가가 높은 경우 \n",
    "        - 현재 보유 상태라면\n",
    "            - 매도 (trade = \"\")\n",
    "        - 현재 보유중이 아니라면\n",
    "            - 아무 행동도 하지 않는다. (trade =\"\")\n",
    "    - 상단 밴드와 하단 밴드 사이에 수정 주가가 존재하는 경우\n",
    "        - 현재 보유 상태라면\n",
    "            - 아무 행동도 하지 않는다. (trade = \"buy\")\n",
    "        - 현재 보유중이 아니라면 \n",
    "            - 아무 행동도 하지 않는다. (trade = \"\")\n",
    "    - 하단 밴드보다 수정 주가가 낮은 경우\n",
    "        - 현재 보유 상태라면\n",
    "            - 아무 행동도 하지 않는다 (trade = 'buy')\n",
    "        - 현재 보유중이 아니라면\n",
    "            - 매수 (trade = 'buy')"
   ]
  },
  {
   "cell_type": "code",
   "execution_count": null,
   "metadata": {},
   "outputs": [],
   "source": [
    "test_df.head(1)"
   ]
  },
  {
   "cell_type": "code",
   "execution_count": null,
   "metadata": {},
   "outputs": [],
   "source": [
    "for i in test_df.index:\n",
    "    # i는 test_df의 index 값들이 대입 \n",
    "\n",
    "    # 상단 밴드보다 수정 주가가 높은 경우\n",
    "    if test_df.loc[i, 'Adj Close'] > test_df.loc[i, 'ub']:\n",
    "        # 현재 보유 중이라면? -> 전날의 trade가 buy라면\n",
    "        if test_df.shift().loc[i, 'trade'] == 'buy':\n",
    "            # 매도 \n",
    "            test_df.loc[i, 'trade'] = \"\"\n",
    "        else:\n",
    "            # 아무 행동도 하지 않는다. \n",
    "            test_df.loc[i, 'trade'] = \"\"\n",
    "    # 하단 밴드보다 수정 주가가 낮은 경우 \n",
    "    elif test_df.loc[i, 'Adj Close'] < test_df.loc[i, 'lb']:\n",
    "        # 현재 보유 상태라면?\n",
    "        if test_df.shift().loc[i, 'trade'] == \"buy\":\n",
    "            # 아무 행동도 하지 않는다. \n",
    "            test_df.loc[i, 'trade'] = \"buy\"\n",
    "        else:\n",
    "            # 매수\n",
    "            test_df.loc[i, 'trade'] = \"buy\"\n",
    "    # 밴드 사이에 수정 주가가 존재하는 경우\n",
    "    else:\n",
    "        # 현재 보유 상태라면?\n",
    "        if test_df.shift().loc[i, 'trade'] == 'buy':\n",
    "            # 아무 행동도 하지 않는다. \n",
    "            test_df.loc[i, 'trade'] = \"buy\"\n",
    "        else:\n",
    "            # 아무 행동도 하지 않는다. \n",
    "            test_df.loc[i, 'trade'] = \"\"\n",
    "        "
   ]
  },
  {
   "cell_type": "code",
   "execution_count": null,
   "metadata": {},
   "outputs": [],
   "source": [
    "test_df['trade'].value_counts()"
   ]
  },
  {
   "cell_type": "markdown",
   "metadata": {},
   "source": [
    "### 수익율 계산\n",
    "- 구매한 날의 수정 주가 \n",
    "    - 전날의 trade가 \"\" 오늘의 trade가 \"buy\"인 날의 수정 주가\n",
    "- 판매한 날의 수정 주가 \n",
    "    - 전날의 trade가 \"buy\" 오늘의 trade가 \"\"인 날의 수정 주가 \n",
    "- 수익율 \n",
    "    - 판매한 날의 수정 주가 / 구매한 날의 수정 주가 "
   ]
  },
  {
   "cell_type": "code",
   "execution_count": null,
   "metadata": {},
   "outputs": [],
   "source": [
    "# 수익율 파생변수를 생성 \n",
    "test_df['rtn'] = 1\n",
    "\n",
    "for i in test_df.index:\n",
    "    # 구매가를 대입 \n",
    "    if (test_df.shift().loc[i, 'trade'] == \"\") & \\\n",
    "        (test_df.loc[i, 'trade'] == \"buy\"):\n",
    "        buy = test_df.loc[i, 'Adj Close']\n",
    "        print(f'매수 일 : {i}, 매수가 : {buy}')\n",
    "    # 판매가를 대입 \n",
    "    elif (test_df.shift().loc[i, 'trade'] == \"buy\") & \\\n",
    "        (test_df.loc[i, 'trade'] == \"\"):\n",
    "        sell = test_df.loc[i, 'Adj Close']\n",
    "        # 수익율 계산\n",
    "        rtn = sell / buy\n",
    "        test_df.loc[i, 'rtn'] = rtn\n",
    "        print(f'매도 일 : {i}, 매도가 : {sell}, 수익율 : {rtn}')"
   ]
  },
  {
   "cell_type": "code",
   "execution_count": null,
   "metadata": {},
   "outputs": [],
   "source": [
    "# 누적 수익율\n",
    "acc_rtn = 1\n",
    "\n",
    "for i in test_df.index:\n",
    "    rtn = test_df.loc[i, 'rtn']\n",
    "    acc_rtn *= rtn\n",
    "\n",
    "acc_rtn"
   ]
  },
  {
   "cell_type": "code",
   "execution_count": null,
   "metadata": {},
   "outputs": [],
   "source": [
    "test_df['acc_rtn'] = test_df['rtn'].cumprod()"
   ]
  },
  {
   "cell_type": "code",
   "execution_count": null,
   "metadata": {},
   "outputs": [],
   "source": [
    "test_df.tail()"
   ]
  },
  {
   "cell_type": "markdown",
   "metadata": {},
   "source": [
    "### 볼린저 밴드를 함수화\n",
    "1. 1번 함수(밴드 생성) create_band()\n",
    "    - 매개변수 4개 (데이터프레임, 기준이 되는 컬럼명, 시작시간, 종료시간)\n",
    "    - 인덱스가 Date인지를 확인하여 인덱스가 Date가 아니면 Date 컬럼을 인덱스로 변환\n",
    "    - 인덱스를 시계열 데이터로 변경\n",
    "    - 기준이 되는 컬럼을 제외하고 모두 삭제\n",
    "    - 결측치, 이상치(무한대) 값들을 제거 \n",
    "    - 이동 평균선, 상단 밴드, 하단 밴드 파생변수를 생성\n",
    "    - 시간시간과 종료시간으로 데이터를 필터링 \n",
    "    - 위의 과정에서 나온 데이터프레임을 리턴 \n",
    "2. 2번 함수(트레이드 생성) create_trade()\n",
    "    - 매개변수가 1개 (데이터프레임) -> 1번 과정에서 나온 결과값 대입\n",
    "    - trade 라는 파생변수를 생성하여 데이터는 \"\"로 대입\n",
    "    - 볼린저밴드를 이용하여 거래 내역을 추가 \n",
    "    - 결과값을 리턴\n",
    "3. 3번 함수( 수익율 계산 ) create_rtn()\n",
    "    - 매개변수는 1개 (데이터프레임) -> 2번 과정에서 나온 결과값 대입\n",
    "    - 수익율 파생변수 생성하여 데이터는 1로 대입\n",
    "    - 구매한 날의 데이터와 판매한 날의 데이터를 가지고 수익율을 생성하여 대입\n",
    "    - 누적 수익율을 계산하여 새로운 파생변수에 대입 \n",
    "    - 최종 누적 수익율을 print을 이용하여 출력\n",
    "    - 결과(데이터프레임)를 리턴"
   ]
  },
  {
   "cell_type": "code",
   "execution_count": null,
   "metadata": {},
   "outputs": [],
   "source": [
    "# 첫번째 함수 생성 \n",
    "def create_band(\n",
    "        _df, \n",
    "        _col = 'Adj Close', \n",
    "        _start=\"2010-01-01\", \n",
    "        _end = '2023-12-31', \n",
    "        _roll = 20\n",
    "    ):\n",
    "    # 컬럼에 Date가 존재한다면\n",
    "    if 'Date' in _df.columns:\n",
    "        _df.set_index('Date', inplace=True)\n",
    "    # index를 시계열 변경 \n",
    "    _df.index = pd.to_datetime(_df.index)\n",
    "\n",
    "    # 특정 컬럼의 제외하고 모두 제거 \n",
    "    price_df = _df[[_col]]\n",
    "    # 결측치, 무한대 값이 존재하는 인덱스 조건식\n",
    "    flag = price_df.isin([np.nan, np.inf, -np.inf]).any(axis=1)\n",
    "    # 결측치, 무한대를 제거 \n",
    "    price_df = price_df.loc[~flag]\n",
    "\n",
    "    # 이동 평균선 생성\n",
    "    price_df['center'] = price_df[_col].rolling(_roll).mean()\n",
    "    # 상단 밴드 생성\n",
    "    price_df['ub'] = price_df['center'] + (2 * price_df[_col].rolling(_roll).std())\n",
    "    # 하단 밴드 생성\n",
    "    price_df['lb'] = price_df['center'] - (2 * price_df[_col].rolling(_roll).std())\n",
    "\n",
    "    # 시작시간과 종료 시간을 기준으로 필터링 \n",
    "    start = datetime.strptime(_start, '%Y-%m-%d')\n",
    "    end = datetime.strptime(_end, '%Y-%m-%d')\n",
    "    price_df = price_df.loc[start:end]\n",
    "    return price_df"
   ]
  },
  {
   "cell_type": "code",
   "execution_count": null,
   "metadata": {},
   "outputs": [],
   "source": [
    "df = pd.read_csv(\"../../csv/AAPL.csv\")"
   ]
  },
  {
   "cell_type": "code",
   "execution_count": null,
   "metadata": {},
   "outputs": [],
   "source": [
    "df2 = create_band(df, 'Close', '2000-01-01', '2023-12-04')\n",
    "df2.tail()"
   ]
  },
  {
   "cell_type": "code",
   "execution_count": null,
   "metadata": {},
   "outputs": [],
   "source": [
    "df2.columns[0]"
   ]
  },
  {
   "cell_type": "code",
   "execution_count": null,
   "metadata": {},
   "outputs": [],
   "source": [
    "# 두번째 함수 \n",
    "def create_trade(_df):\n",
    "    # 첫번째 함수에서 지정한 컬럼의 이름이 무엇인가? -> _df의 컬럼중 첫번째 데이터\n",
    "    col = _df.columns[0]\n",
    "\n",
    "    # 거래 내역 컬럼을 추가 \n",
    "    _df['trade'] = \"\"\n",
    "\n",
    "    # 거래 내역을 추가 \n",
    "    for i in _df.index:\n",
    "        # 상단밴드보다 col의 값이 높은 경우\n",
    "        if _df.loc[i, col] > _df.loc[i, 'ub']:\n",
    "            _df.loc[i, 'trade'] = \"\"\n",
    "        # 하단밴드보다 col의 값이 낮은 경우\n",
    "        elif _df.loc[i, col] < _df.loc[i, 'lb']:\n",
    "            _df.loc[i, 'trade'] = 'buy'\n",
    "        # col의 값이 밴드 사이에 존재한다면\n",
    "        else:\n",
    "            # 보유 상태라면 \n",
    "            if _df.shift().loc[i, 'trade'] == 'buy':\n",
    "                _df.loc[i, 'trade'] = 'buy'\n",
    "            else:\n",
    "                _df.loc[i, 'trade'] = ''\n",
    "        \n",
    "    return _df\n",
    "    "
   ]
  },
  {
   "cell_type": "code",
   "execution_count": null,
   "metadata": {},
   "outputs": [],
   "source": [
    "df3 = create_trade(df2)\n",
    "df3.tail()"
   ]
  },
  {
   "cell_type": "code",
   "execution_count": 70,
   "metadata": {},
   "outputs": [
    {
     "data": {
      "text/plain": [
       "trade\n",
       "       3080\n",
       "buy    1819\n",
       "Name: count, dtype: int64"
      ]
     },
     "execution_count": 70,
     "metadata": {},
     "output_type": "execute_result"
    }
   ],
   "source": [
    "df3['trade'].value_counts()"
   ]
  },
  {
   "cell_type": "code",
   "execution_count": 71,
   "metadata": {},
   "outputs": [],
   "source": [
    "# 세번째 함수 생성 \n",
    "def create_rtn(_df):\n",
    "    # 기준이 되는 컬럼의 이름 \n",
    "    col = _df.columns[0]\n",
    "    # 수익율 파생변수 생성 데이터는 1로 대입\n",
    "    _df['rtn'] = 1\n",
    "\n",
    "    # 수익율 대입 \n",
    "    for i in _df.index:\n",
    "        # 구입\n",
    "        if (_df.shift().loc[i, 'trade'] == \"\") & \\\n",
    "            (_df.loc[i, 'trade'] == \"buy\"):\n",
    "            buy = _df.loc[i, col]\n",
    "            print(f'매수일 : {i}, 매수가 : {buy}')\n",
    "        # 판매\n",
    "        elif (_df.shift().loc[i, 'trade'] == \"buy\") & \\\n",
    "            (_df.loc[i, 'trade'] == \"\"):\n",
    "            sell = _df.loc[i, col]\n",
    "            # 수익율 발생\n",
    "            rtn = sell / buy\n",
    "            # 수익율 대입 \n",
    "            _df.loc[i, 'rtn'] = rtn\n",
    "            # 출력 \n",
    "            print(f'매도일 : {i}, 매도가 : {sell}, 수익율 : {rtn}')\n",
    "    _df['acc_rtn'] = _df['rtn'].cumprod()\n",
    "    # 최종 누적수익율을 출력\n",
    "    print(_df['acc_rtn'][-1])\n",
    "    return _df"
   ]
  },
  {
   "cell_type": "code",
   "execution_count": 73,
   "metadata": {},
   "outputs": [
    {
     "name": "stdout",
     "output_type": "stream",
     "text": [
      "매수일 : 2000-01-12 00:00:00, 매수가 : 3.113839\n",
      "매도일 : 2000-01-20 00:00:00, 매도가 : 4.053571, 수익율 : 1.3017920965085221\n",
      "매수일 : 2000-04-12 00:00:00, 매수가 : 3.901786\n",
      "매도일 : 2000-06-20 00:00:00, 매도가 : 3.616071, 수익율 : 0.9267732776733526\n",
      "매수일 : 2000-07-24 00:00:00, 매수가 : 3.477679\n",
      "매도일 : 2000-08-23 00:00:00, 매도가 : 3.879464, 수익율 : 1.1155325146455437\n",
      "매수일 : 2000-09-22 00:00:00, 매수가 : 3.727679\n",
      "매도일 : 2001-01-03 00:00:00, 매도가 : 1.169643, 수익율 : 0.31377245733873543\n"
     ]
    },
    {
     "name": "stderr",
     "output_type": "stream",
     "text": [
      "C:\\Users\\moons\\AppData\\Local\\Temp\\ipykernel_27060\\1226163313.py:22: FutureWarning: Setting an item of incompatible dtype is deprecated and will raise in a future error of pandas. Value '1.3017920965085221' has dtype incompatible with int64, please explicitly cast to a compatible dtype first.\n",
      "  _df.loc[i, 'rtn'] = rtn\n"
     ]
    },
    {
     "name": "stdout",
     "output_type": "stream",
     "text": [
      "매수일 : 2001-05-30 00:00:00, 매수가 : 1.412857\n",
      "매도일 : 2001-06-25 00:00:00, 매도가 : 1.713571, 수익율 : 1.212841073088076\n",
      "매수일 : 2001-07-18 00:00:00, 매수가 : 1.485\n",
      "매도일 : 2001-10-11 00:00:00, 매도가 : 1.267143, 수익율 : 0.8532949494949493\n",
      "매수일 : 2002-02-21 00:00:00, 매수가 : 1.535714\n",
      "매도일 : 2002-04-16 00:00:00, 매도가 : 1.838571, 수익율 : 1.1972092459924177\n",
      "매수일 : 2002-04-26 00:00:00, 매수가 : 1.643571\n",
      "매도일 : 2002-10-25 00:00:00, 매도가 : 1.101429, 수익율 : 0.6701438514064803\n",
      "매수일 : 2002-12-05 00:00:00, 매수가 : 1.045\n",
      "매도일 : 2003-02-18 00:00:00, 매도가 : 1.090714, 수익율 : 1.0437454545454545\n",
      "매수일 : 2003-04-11 00:00:00, 매수가 : 0.942857\n",
      "매도일 : 2003-05-05 00:00:00, 매도가 : 1.149286, 수익율 : 1.2189398816575578\n",
      "매수일 : 2003-06-09 00:00:00, 매수가 : 1.199286\n",
      "매도일 : 2003-06-18 00:00:00, 매도가 : 1.365714, 수익율 : 1.138772569678959\n",
      "매수일 : 2003-09-24 00:00:00, 매수가 : 1.522857\n",
      "매도일 : 2004-01-05 00:00:00, 매도가 : 1.583571, 수익율 : 1.0398684840401955\n",
      "매수일 : 2004-04-30 00:00:00, 매수가 : 1.841429\n",
      "매도일 : 2004-05-25 00:00:00, 매도가 : 2.029286, 수익율 : 1.102016966171381\n",
      "매수일 : 2005-04-14 00:00:00, 매수가 : 5.322857\n",
      "매도일 : 2005-05-23 00:00:00, 매도가 : 5.68, 수익율 : 1.0670961102280223\n",
      "매수일 : 2005-10-12 00:00:00, 매수가 : 7.035714\n",
      "매도일 : 2005-11-03 00:00:00, 매도가 : 8.835714, 수익율 : 1.2558375738411198\n",
      "매수일 : 2006-05-18 00:00:00, 매수가 : 9.025714\n",
      "매도일 : 2006-07-31 00:00:00, 매도가 : 9.708571, 수익율 : 1.0756568400017992\n",
      "매수일 : 2006-12-21 00:00:00, 매수가 : 11.842857\n",
      "매도일 : 2007-01-09 00:00:00, 매도가 : 13.224286, 수익율 : 1.1166465997182942\n",
      "매수일 : 2007-08-09 00:00:00, 매수가 : 18.055714\n",
      "매도일 : 2007-09-04 00:00:00, 매도가 : 20.594286, 수익율 : 1.1405966000569128\n",
      "매수일 : 2007-11-12 00:00:00, 매수가 : 21.965714\n",
      "매도일 : 2008-03-18 00:00:00, 매도가 : 18.974285, 수익율 : 0.8638137144096477\n",
      "매수일 : 2008-06-12 00:00:00, 매수가 : 24.751429\n",
      "매도일 : 2008-08-13 00:00:00, 매도가 : 25.614286, 수익율 : 1.0348608963143098\n",
      "매수일 : 2008-09-04 00:00:00, 매수가 : 23.031429\n",
      "매도일 : 2008-10-30 00:00:00, 매도가 : 15.862857, 수익율 : 0.6887482752372855\n",
      "매수일 : 2008-12-22 00:00:00, 매수가 : 12.248571\n",
      "매도일 : 2009-02-06 00:00:00, 매도가 : 14.245714, 수익율 : 1.1630511020428422\n",
      "매수일 : 2009-12-07 00:00:00, 매수가 : 26.992857\n",
      "매도일 : 2009-12-24 00:00:00, 매도가 : 29.862858, 수익율 : 1.1063244620604629\n",
      "매수일 : 2010-01-22 00:00:00, 매수가 : 28.25\n",
      "매도일 : 2010-03-01 00:00:00, 매도가 : 29.855715, 수익율 : 1.0568394690265486\n",
      "매수일 : 2010-08-24 00:00:00, 매수가 : 34.275715\n",
      "매도일 : 2010-09-08 00:00:00, 매도가 : 37.560001, 수익율 : 1.0958196203930393\n",
      "매수일 : 2011-03-16 00:00:00, 매수가 : 47.144287\n",
      "매도일 : 2011-07-01 00:00:00, 매도가 : 49.037144, 수익율 : 1.0401502943506178\n",
      "매수일 : 2011-11-14 00:00:00, 매수가 : 54.18\n",
      "매도일 : 2011-12-27 00:00:00, 매도가 : 58.075714, 수익율 : 1.0719031746031746\n",
      "매수일 : 2012-04-16 00:00:00, 매수가 : 82.875717\n",
      "매도일 : 2012-06-18 00:00:00, 매도가 : 83.682854, 수익율 : 1.0097391253942336\n",
      "매수일 : 2012-10-08 00:00:00, 매수가 : 91.167145\n",
      "매도일 : 2013-07-29 00:00:00, 매도가 : 63.970001, 수익율 : 0.701678230682775\n",
      "매수일 : 2013-09-11 00:00:00, 매수가 : 66.815712\n",
      "매도일 : 2013-10-18 00:00:00, 매도가 : 72.69857, 수익율 : 1.0880460272577803\n",
      "매수일 : 2014-01-03 00:00:00, 매수가 : 77.28286\n",
      "매도일 : 2014-03-25 00:00:00, 매도가 : 77.855713, 수익율 : 1.0074124197784604\n",
      "매수일 : 2014-10-15 00:00:00, 매수가 : 97.540001\n",
      "매도일 : 2014-10-23 00:00:00, 매도가 : 104.830002, 수익율 : 1.0747385782782592\n",
      "매수일 : 2014-12-12 00:00:00, 매수가 : 109.730003\n",
      "매도일 : 2015-01-28 00:00:00, 매도가 : 115.309998, 수익율 : 1.0508520445406349\n",
      "매수일 : 2015-03-11 00:00:00, 매수가 : 122.239998\n",
      "매도일 : 2015-04-23 00:00:00, 매도가 : 129.669998, 수익율 : 1.0607820690572982\n",
      "매수일 : 2015-06-29 00:00:00, 매수가 : 124.529999\n",
      "매도일 : 2015-07-20 00:00:00, 매도가 : 132.070007, 수익율 : 1.0605477239263448\n",
      "매수일 : 2015-08-04 00:00:00, 매수가 : 114.639999\n",
      "매도일 : 2015-10-22 00:00:00, 매도가 : 115.5, 수익율 : 1.0075017533801618\n",
      "매수일 : 2015-12-14 00:00:00, 매수가 : 112.480003\n",
      "매도일 : 2016-03-01 00:00:00, 매도가 : 100.529999, 수익율 : 0.8937588577411401\n",
      "매수일 : 2016-04-27 00:00:00, 매수가 : 97.82\n",
      "매도일 : 2016-05-25 00:00:00, 매도가 : 99.620003, 수익율 : 1.018401175628706\n",
      "매수일 : 2016-06-20 00:00:00, 매수가 : 95.099998\n",
      "매도일 : 2016-07-18 00:00:00, 매도가 : 99.830002, 수익율 : 1.0497371619292777\n",
      "매수일 : 2016-09-09 00:00:00, 매수가 : 103.129997\n",
      "매도일 : 2016-09-14 00:00:00, 매도가 : 111.769997, 수익율 : 1.083777758667054\n",
      "매수일 : 2016-11-01 00:00:00, 매수가 : 111.489998\n",
      "매도일 : 2016-12-13 00:00:00, 매도가 : 115.190002, 수익율 : 1.0331868693728024\n",
      "매수일 : 2017-06-09 00:00:00, 매수가 : 148.979996\n",
      "매도일 : 2017-07-13 00:00:00, 매도가 : 147.770004, 수익율 : 0.9918781579239672\n",
      "매수일 : 2017-09-20 00:00:00, 매수가 : 156.070007\n",
      "매도일 : 2017-10-16 00:00:00, 매도가 : 159.880005, 수익율 : 1.0244121088557394\n",
      "매수일 : 2018-01-29 00:00:00, 매수가 : 167.960007\n",
      "매도일 : 2018-05-04 00:00:00, 매도가 : 183.830002, 수익율 : 1.0944867488604\n",
      "매수일 : 2018-06-25 00:00:00, 매수가 : 182.169998\n",
      "매도일 : 2018-08-01 00:00:00, 매도가 : 201.5, 수익율 : 1.106109689917217\n",
      "매수일 : 2018-11-02 00:00:00, 매수가 : 207.479996\n",
      "매도일 : 2019-01-30 00:00:00, 매도가 : 165.25, 수익율 : 0.796462324975175\n",
      "매수일 : 2019-05-13 00:00:00, 매수가 : 185.720001\n",
      "1.1392799064166943\n"
     ]
    },
    {
     "name": "stderr",
     "output_type": "stream",
     "text": [
      "C:\\Users\\moons\\AppData\\Local\\Temp\\ipykernel_27060\\1226163313.py:27: FutureWarning: Series.__getitem__ treating keys as positions is deprecated. In a future version, integer keys will always be treated as labels (consistent with DataFrame behavior). To access a value by position, use `ser.iloc[pos]`\n",
      "  print(_df['acc_rtn'][-1])\n"
     ]
    },
    {
     "data": {
      "text/html": [
       "<div>\n",
       "<style scoped>\n",
       "    .dataframe tbody tr th:only-of-type {\n",
       "        vertical-align: middle;\n",
       "    }\n",
       "\n",
       "    .dataframe tbody tr th {\n",
       "        vertical-align: top;\n",
       "    }\n",
       "\n",
       "    .dataframe thead th {\n",
       "        text-align: right;\n",
       "    }\n",
       "</style>\n",
       "<table border=\"1\" class=\"dataframe\">\n",
       "  <thead>\n",
       "    <tr style=\"text-align: right;\">\n",
       "      <th></th>\n",
       "      <th>Close</th>\n",
       "      <th>center</th>\n",
       "      <th>ub</th>\n",
       "      <th>lb</th>\n",
       "      <th>trade</th>\n",
       "      <th>rtn</th>\n",
       "      <th>acc_rtn</th>\n",
       "    </tr>\n",
       "    <tr>\n",
       "      <th>Date</th>\n",
       "      <th></th>\n",
       "      <th></th>\n",
       "      <th></th>\n",
       "      <th></th>\n",
       "      <th></th>\n",
       "      <th></th>\n",
       "      <th></th>\n",
       "    </tr>\n",
       "  </thead>\n",
       "  <tbody>\n",
       "    <tr>\n",
       "      <th>2000-01-03</th>\n",
       "      <td>3.997768</td>\n",
       "      <td>3.675893</td>\n",
       "      <td>4.126560</td>\n",
       "      <td>3.225225</td>\n",
       "      <td></td>\n",
       "      <td>1.0</td>\n",
       "      <td>1.00000</td>\n",
       "    </tr>\n",
       "    <tr>\n",
       "      <th>2000-01-04</th>\n",
       "      <td>3.660714</td>\n",
       "      <td>3.651786</td>\n",
       "      <td>4.045227</td>\n",
       "      <td>3.258344</td>\n",
       "      <td></td>\n",
       "      <td>1.0</td>\n",
       "      <td>1.00000</td>\n",
       "    </tr>\n",
       "    <tr>\n",
       "      <th>2000-01-05</th>\n",
       "      <td>3.714286</td>\n",
       "      <td>3.627121</td>\n",
       "      <td>3.923805</td>\n",
       "      <td>3.330436</td>\n",
       "      <td></td>\n",
       "      <td>1.0</td>\n",
       "      <td>1.00000</td>\n",
       "    </tr>\n",
       "    <tr>\n",
       "      <th>2000-01-06</th>\n",
       "      <td>3.392857</td>\n",
       "      <td>3.600223</td>\n",
       "      <td>3.877917</td>\n",
       "      <td>3.322530</td>\n",
       "      <td></td>\n",
       "      <td>1.0</td>\n",
       "      <td>1.00000</td>\n",
       "    </tr>\n",
       "    <tr>\n",
       "      <th>2000-01-07</th>\n",
       "      <td>3.553571</td>\n",
       "      <td>3.589955</td>\n",
       "      <td>3.857958</td>\n",
       "      <td>3.321953</td>\n",
       "      <td></td>\n",
       "      <td>1.0</td>\n",
       "      <td>1.00000</td>\n",
       "    </tr>\n",
       "    <tr>\n",
       "      <th>...</th>\n",
       "      <td>...</td>\n",
       "      <td>...</td>\n",
       "      <td>...</td>\n",
       "      <td>...</td>\n",
       "      <td>...</td>\n",
       "      <td>...</td>\n",
       "      <td>...</td>\n",
       "    </tr>\n",
       "    <tr>\n",
       "      <th>2019-06-18</th>\n",
       "      <td>198.449997</td>\n",
       "      <td>185.432500</td>\n",
       "      <td>201.032574</td>\n",
       "      <td>169.832427</td>\n",
       "      <td>buy</td>\n",
       "      <td>1.0</td>\n",
       "      <td>1.13928</td>\n",
       "    </tr>\n",
       "    <tr>\n",
       "      <th>2019-06-19</th>\n",
       "      <td>197.869995</td>\n",
       "      <td>185.996000</td>\n",
       "      <td>202.558154</td>\n",
       "      <td>169.433846</td>\n",
       "      <td>buy</td>\n",
       "      <td>1.0</td>\n",
       "      <td>1.13928</td>\n",
       "    </tr>\n",
       "    <tr>\n",
       "      <th>2019-06-20</th>\n",
       "      <td>199.460007</td>\n",
       "      <td>186.830000</td>\n",
       "      <td>204.361771</td>\n",
       "      <td>169.298229</td>\n",
       "      <td>buy</td>\n",
       "      <td>1.0</td>\n",
       "      <td>1.13928</td>\n",
       "    </tr>\n",
       "    <tr>\n",
       "      <th>2019-06-21</th>\n",
       "      <td>198.779999</td>\n",
       "      <td>187.786000</td>\n",
       "      <td>205.751400</td>\n",
       "      <td>169.820600</td>\n",
       "      <td>buy</td>\n",
       "      <td>1.0</td>\n",
       "      <td>1.13928</td>\n",
       "    </tr>\n",
       "    <tr>\n",
       "      <th>2019-06-24</th>\n",
       "      <td>199.169998</td>\n",
       "      <td>188.796000</td>\n",
       "      <td>206.944862</td>\n",
       "      <td>170.647138</td>\n",
       "      <td>buy</td>\n",
       "      <td>1.0</td>\n",
       "      <td>1.13928</td>\n",
       "    </tr>\n",
       "  </tbody>\n",
       "</table>\n",
       "<p>4899 rows × 7 columns</p>\n",
       "</div>"
      ],
      "text/plain": [
       "                 Close      center          ub          lb trade  rtn  acc_rtn\n",
       "Date                                                                          \n",
       "2000-01-03    3.997768    3.675893    4.126560    3.225225        1.0  1.00000\n",
       "2000-01-04    3.660714    3.651786    4.045227    3.258344        1.0  1.00000\n",
       "2000-01-05    3.714286    3.627121    3.923805    3.330436        1.0  1.00000\n",
       "2000-01-06    3.392857    3.600223    3.877917    3.322530        1.0  1.00000\n",
       "2000-01-07    3.553571    3.589955    3.857958    3.321953        1.0  1.00000\n",
       "...                ...         ...         ...         ...   ...  ...      ...\n",
       "2019-06-18  198.449997  185.432500  201.032574  169.832427   buy  1.0  1.13928\n",
       "2019-06-19  197.869995  185.996000  202.558154  169.433846   buy  1.0  1.13928\n",
       "2019-06-20  199.460007  186.830000  204.361771  169.298229   buy  1.0  1.13928\n",
       "2019-06-21  198.779999  187.786000  205.751400  169.820600   buy  1.0  1.13928\n",
       "2019-06-24  199.169998  188.796000  206.944862  170.647138   buy  1.0  1.13928\n",
       "\n",
       "[4899 rows x 7 columns]"
      ]
     },
     "execution_count": 73,
     "metadata": {},
     "output_type": "execute_result"
    }
   ],
   "source": [
    "create_rtn(df3)"
   ]
  },
  {
   "cell_type": "code",
   "execution_count": null,
   "metadata": {},
   "outputs": [],
   "source": []
  }
 ],
 "metadata": {
  "kernelspec": {
   "display_name": "Python 3",
   "language": "python",
   "name": "python3"
  },
  "language_info": {
   "codemirror_mode": {
    "name": "ipython",
    "version": 3
   },
   "file_extension": ".py",
   "mimetype": "text/x-python",
   "name": "python",
   "nbconvert_exporter": "python",
   "pygments_lexer": "ipython3",
   "version": "3.11.1"
  }
 },
 "nbformat": 4,
 "nbformat_minor": 2
}
