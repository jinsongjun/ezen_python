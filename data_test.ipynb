{
 "cells": [
  {
   "cell_type": "code",
   "execution_count": null,
   "metadata": {},
   "outputs": [],
   "source": [
    "!pip install --upgrade pandas"
   ]
  },
  {
   "cell_type": "code",
   "execution_count": null,
   "metadata": {},
   "outputs": [],
   "source": [
    "import pandas as pd\n",
    "import numpy as np\n",
    "from datetime import datetime\n"
   ]
  },
  {
   "cell_type": "code",
   "execution_count": null,
   "metadata": {},
   "outputs": [],
   "source": [
    "!pip install finance-datareader\n",
    "import FinanceDataReader as fdr"
   ]
  },
  {
   "cell_type": "code",
   "execution_count": null,
   "metadata": {},
   "outputs": [],
   "source": [
    "df_krx = fdr.StockListing('KRX')\n",
    "df_krx.to_csv('./krx_stock_symbols.csv')"
   ]
  },
  {
   "cell_type": "code",
   "execution_count": 51,
   "metadata": {},
   "outputs": [],
   "source": [
    "target = 'SK하이닉스'\n",
    "start = '20100101'\n",
    "end = '20231231'\n",
    "\n",
    "symbols = pd.read_csv('./krx_stock_symbols.csv')\n",
    "code = symbols[symbols['Name'] == target]['Code'].iloc[0]\n",
    "\n",
    "stock_data = fdr.DataReader(code, start, end)\n",
    "\n",
    "stock_data.to_csv('../stock_price.csv')"
   ]
  },
  {
   "cell_type": "code",
   "execution_count": null,
   "metadata": {},
   "outputs": [],
   "source": [
    "\n",
    "# 함수(buynotsell)를 생성 -> 매개변수는 4개\n",
    "# (df(dataframe), col(columns명), start(문자형데이터), end(문자형데이터))\n",
    "def buynotsell(df, col, start, end):\n",
    "    # df에 결측치나 무한대 값들을 모두 제거 \n",
    "    flag = df.isin([np.nan, np.inf, -np.inf]).any(axis=1)\n",
    "    df = df.loc[~flag]\n",
    "    if 'Date' in df.columns:\n",
    "        # df에 있는 Date 컬럼을 시계열 데이터로 변경\n",
    "        df['Date'] = pd.to_datetime(df['Date'], format='%Y-%m-%d')\n",
    "        df.set_index('Date', inplace=True)\n",
    "    else:\n",
    "        df.index = pd.to_datetime(df.index)\n",
    "    # col 매개변수를 이용하여 df에 해당하는 col 컬럼만 제외하고 모두 제거 \n",
    "    df = df[[col]]\n",
    "    # start, end 데이터를 시계열 데이터로 변경\n",
    "    buy = datetime.strptime(start, '%Y-%m-%d').isoformat()\n",
    "    sell = datetime.strptime(end, '%Y-%m-%d').isoformat()\n",
    "    # daily_rtn 파생변수를 생성하여 일별 수익율을 계산해서 대입\n",
    "    df['daily_rtn'] = df[col].pct_change()\n",
    "    # start, end를 기준으로 df을 필터링\n",
    "    df = df.loc[buy:sell]\n",
    "    # rtn 파생변수를 생성하여 누적 수익율 계산하여 대입 \n",
    "    df['rtn'] = (1+df['daily_rtn']).cumprod()\n",
    "    # 누적 수익율의 마지막 데이터\n",
    "    result = df['rtn'][-1]\n",
    "    # 데이터프레임 리턴\n",
    "    return df,  result"
   ]
  },
  {
   "cell_type": "code",
   "execution_count": 52,
   "metadata": {},
   "outputs": [],
   "source": [
    "df = pd.read_csv('../stock_price.csv')"
   ]
  },
  {
   "cell_type": "code",
   "execution_count": 53,
   "metadata": {},
   "outputs": [
    {
     "data": {
      "text/html": [
       "<div>\n",
       "<style scoped>\n",
       "    .dataframe tbody tr th:only-of-type {\n",
       "        vertical-align: middle;\n",
       "    }\n",
       "\n",
       "    .dataframe tbody tr th {\n",
       "        vertical-align: top;\n",
       "    }\n",
       "\n",
       "    .dataframe thead th {\n",
       "        text-align: right;\n",
       "    }\n",
       "</style>\n",
       "<table border=\"1\" class=\"dataframe\">\n",
       "  <thead>\n",
       "    <tr style=\"text-align: right;\">\n",
       "      <th></th>\n",
       "      <th>Date</th>\n",
       "      <th>Open</th>\n",
       "      <th>High</th>\n",
       "      <th>Low</th>\n",
       "      <th>Close</th>\n",
       "      <th>Volume</th>\n",
       "      <th>Change</th>\n",
       "    </tr>\n",
       "  </thead>\n",
       "  <tbody>\n",
       "    <tr>\n",
       "      <th>0</th>\n",
       "      <td>2010-01-04</td>\n",
       "      <td>23350</td>\n",
       "      <td>24150</td>\n",
       "      <td>23350</td>\n",
       "      <td>24100</td>\n",
       "      <td>7346425</td>\n",
       "      <td>0.041037</td>\n",
       "    </tr>\n",
       "    <tr>\n",
       "      <th>1</th>\n",
       "      <td>2010-01-05</td>\n",
       "      <td>24500</td>\n",
       "      <td>24900</td>\n",
       "      <td>23050</td>\n",
       "      <td>23350</td>\n",
       "      <td>12118281</td>\n",
       "      <td>-0.031120</td>\n",
       "    </tr>\n",
       "    <tr>\n",
       "      <th>2</th>\n",
       "      <td>2010-01-06</td>\n",
       "      <td>23700</td>\n",
       "      <td>24550</td>\n",
       "      <td>23600</td>\n",
       "      <td>24550</td>\n",
       "      <td>7731186</td>\n",
       "      <td>0.051392</td>\n",
       "    </tr>\n",
       "    <tr>\n",
       "      <th>3</th>\n",
       "      <td>2010-01-07</td>\n",
       "      <td>25000</td>\n",
       "      <td>25200</td>\n",
       "      <td>24350</td>\n",
       "      <td>24400</td>\n",
       "      <td>11084814</td>\n",
       "      <td>-0.006110</td>\n",
       "    </tr>\n",
       "    <tr>\n",
       "      <th>4</th>\n",
       "      <td>2010-01-08</td>\n",
       "      <td>24650</td>\n",
       "      <td>24850</td>\n",
       "      <td>23450</td>\n",
       "      <td>24650</td>\n",
       "      <td>9695685</td>\n",
       "      <td>0.010246</td>\n",
       "    </tr>\n",
       "  </tbody>\n",
       "</table>\n",
       "</div>"
      ],
      "text/plain": [
       "         Date   Open   High    Low  Close    Volume    Change\n",
       "0  2010-01-04  23350  24150  23350  24100   7346425  0.041037\n",
       "1  2010-01-05  24500  24900  23050  23350  12118281 -0.031120\n",
       "2  2010-01-06  23700  24550  23600  24550   7731186  0.051392\n",
       "3  2010-01-07  25000  25200  24350  24400  11084814 -0.006110\n",
       "4  2010-01-08  24650  24850  23450  24650   9695685  0.010246"
      ]
     },
     "execution_count": 53,
     "metadata": {},
     "output_type": "execute_result"
    }
   ],
   "source": [
    "df.head(5)"
   ]
  },
  {
   "cell_type": "code",
   "execution_count": 54,
   "metadata": {},
   "outputs": [
    {
     "data": {
      "text/html": [
       "<div>\n",
       "<style scoped>\n",
       "    .dataframe tbody tr th:only-of-type {\n",
       "        vertical-align: middle;\n",
       "    }\n",
       "\n",
       "    .dataframe tbody tr th {\n",
       "        vertical-align: top;\n",
       "    }\n",
       "\n",
       "    .dataframe thead th {\n",
       "        text-align: right;\n",
       "    }\n",
       "</style>\n",
       "<table border=\"1\" class=\"dataframe\">\n",
       "  <thead>\n",
       "    <tr style=\"text-align: right;\">\n",
       "      <th></th>\n",
       "      <th>Date</th>\n",
       "      <th>Open</th>\n",
       "      <th>High</th>\n",
       "      <th>Low</th>\n",
       "      <th>Close</th>\n",
       "      <th>Volume</th>\n",
       "      <th>Change</th>\n",
       "    </tr>\n",
       "  </thead>\n",
       "  <tbody>\n",
       "    <tr>\n",
       "      <th>3448</th>\n",
       "      <td>2023-12-21</td>\n",
       "      <td>139200</td>\n",
       "      <td>140600</td>\n",
       "      <td>138100</td>\n",
       "      <td>140500</td>\n",
       "      <td>2737124</td>\n",
       "      <td>0.000000</td>\n",
       "    </tr>\n",
       "    <tr>\n",
       "      <th>3449</th>\n",
       "      <td>2023-12-22</td>\n",
       "      <td>142700</td>\n",
       "      <td>143700</td>\n",
       "      <td>140600</td>\n",
       "      <td>140600</td>\n",
       "      <td>3183709</td>\n",
       "      <td>0.000712</td>\n",
       "    </tr>\n",
       "    <tr>\n",
       "      <th>3450</th>\n",
       "      <td>2023-12-26</td>\n",
       "      <td>142000</td>\n",
       "      <td>142000</td>\n",
       "      <td>139400</td>\n",
       "      <td>140900</td>\n",
       "      <td>2239789</td>\n",
       "      <td>0.002134</td>\n",
       "    </tr>\n",
       "    <tr>\n",
       "      <th>3451</th>\n",
       "      <td>2023-12-27</td>\n",
       "      <td>140800</td>\n",
       "      <td>141600</td>\n",
       "      <td>139200</td>\n",
       "      <td>140400</td>\n",
       "      <td>2336777</td>\n",
       "      <td>-0.003549</td>\n",
       "    </tr>\n",
       "    <tr>\n",
       "      <th>3452</th>\n",
       "      <td>2023-12-28</td>\n",
       "      <td>140900</td>\n",
       "      <td>141600</td>\n",
       "      <td>139500</td>\n",
       "      <td>141500</td>\n",
       "      <td>2459473</td>\n",
       "      <td>0.007835</td>\n",
       "    </tr>\n",
       "  </tbody>\n",
       "</table>\n",
       "</div>"
      ],
      "text/plain": [
       "            Date    Open    High     Low   Close   Volume    Change\n",
       "3448  2023-12-21  139200  140600  138100  140500  2737124  0.000000\n",
       "3449  2023-12-22  142700  143700  140600  140600  3183709  0.000712\n",
       "3450  2023-12-26  142000  142000  139400  140900  2239789  0.002134\n",
       "3451  2023-12-27  140800  141600  139200  140400  2336777 -0.003549\n",
       "3452  2023-12-28  140900  141600  139500  141500  2459473  0.007835"
      ]
     },
     "execution_count": 54,
     "metadata": {},
     "output_type": "execute_result"
    }
   ],
   "source": [
    "df.tail(5)"
   ]
  },
  {
   "cell_type": "code",
   "execution_count": 55,
   "metadata": {},
   "outputs": [],
   "source": [
    "df2 = buynotsell(df, 'Close', '2010-01-04', '2023-12-28')"
   ]
  },
  {
   "cell_type": "code",
   "execution_count": 56,
   "metadata": {},
   "outputs": [
    {
     "data": {
      "text/plain": [
       "(             Close  daily_rtn       rtn\n",
       " Date                                   \n",
       " 2010-01-04   24100        NaN       NaN\n",
       " 2010-01-05   23350  -0.031120  0.968880\n",
       " 2010-01-06   24550   0.051392  1.018672\n",
       " 2010-01-07   24400  -0.006110  1.012448\n",
       " 2010-01-08   24650   0.010246  1.022822\n",
       " ...            ...        ...       ...\n",
       " 2023-12-21  140500   0.000000  5.829876\n",
       " 2023-12-22  140600   0.000712  5.834025\n",
       " 2023-12-26  140900   0.002134  5.846473\n",
       " 2023-12-27  140400  -0.003549  5.825726\n",
       " 2023-12-28  141500   0.007835  5.871369\n",
       " \n",
       " [3453 rows x 3 columns],\n",
       " 5.871369294605826)"
      ]
     },
     "execution_count": 56,
     "metadata": {},
     "output_type": "execute_result"
    }
   ],
   "source": [
    "df2"
   ]
  },
  {
   "cell_type": "code",
   "execution_count": null,
   "metadata": {},
   "outputs": [],
   "source": []
  },
  {
   "cell_type": "code",
   "execution_count": null,
   "metadata": {},
   "outputs": [],
   "source": []
  }
 ],
 "metadata": {
  "kernelspec": {
   "display_name": "base",
   "language": "python",
   "name": "python3"
  },
  "language_info": {
   "codemirror_mode": {
    "name": "ipython",
    "version": 3
   },
   "file_extension": ".py",
   "mimetype": "text/x-python",
   "name": "python",
   "nbconvert_exporter": "python",
   "pygments_lexer": "ipython3",
   "version": "3.11.5"
  }
 },
 "nbformat": 4,
 "nbformat_minor": 2
}
